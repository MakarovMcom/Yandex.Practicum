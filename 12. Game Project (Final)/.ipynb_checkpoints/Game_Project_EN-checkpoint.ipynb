{
 "cells": [
  {
   "cell_type": "code",
   "execution_count": 7,
   "metadata": {},
   "outputs": [
    {
     "data": {
      "text/html": [
       "<style>div.output_scroll { height: 50em; }</style>"
      ],
      "text/plain": [
       "<IPython.core.display.HTML object>"
      ]
     },
     "metadata": {},
     "output_type": "display_data"
    }
   ],
   "source": [
    "# import basics\n",
    "import pandas as pd\n",
    "import numpy as np\n",
    "import datetime as dt\n",
    "import math as mth\n",
    "import time\n",
    "import requests\n",
    "import json\n",
    "from IPython.display import Latex\n",
    "from scipy import stats as st\n",
    "\n",
    "# inport plot libraries\n",
    "import matplotlib.pyplot as plt\n",
    "import seaborn as sns\n",
    "import plotly.express as px \n",
    "from plotly import graph_objects as go\n",
    "from plotly.subplots import make_subplots\n",
    "\n",
    "# make better view for tables\n",
    "from IPython.display import display\n",
    "from IPython.core.display import HTML\n",
    "from IPython.display import Image\n",
    "\n",
    "# wide display\n",
    "#pd.set_option('max_colwidth', 1000)\n",
    "\n",
    "# change the window size\n",
    "display(HTML(\"<style>div.output_scroll { height: 50em; }</style>\"))\n",
    "\n",
    "#ignore warnings\n",
    "import warnings\n",
    "warnings.filterwarnings('ignore')\n",
    "\n",
    "# set settings for display option\n",
    "pd.set_option('display.max_columns', 500)\n",
    "\n",
    "# import ML\n",
    "from sklearn.preprocessing import StandardScaler\n",
    "from sklearn.model_selection import train_test_split\n",
    "from sklearn.linear_model import Lasso, Ridge\n",
    "from sklearn.linear_model import LogisticRegression\n",
    "from sklearn.tree import DecisionTreeRegressor\n",
    "from sklearn.ensemble import RandomForestRegressor, GradientBoostingRegressor\n",
    "from sklearn.ensemble import RandomForestClassifier\n",
    "from sklearn.cluster import KMeans\n",
    "from scipy.cluster.hierarchy import dendrogram, linkage\n",
    "from sklearn.metrics import mean_absolute_error, mean_squared_error, r2_score\n",
    "from sklearn.metrics import accuracy_score, precision_score, recall_score, f1_score\n",
    "from sklearn.metrics import roc_auc_score"
   ]
  },
  {
   "cell_type": "markdown",
   "metadata": {},
   "source": [
    "### Table of content: \n",
    "\n",
    "<a href='#Описание проекта'>1. Project description</a>\n",
    "\n",
    "<a href='#Описание данных'>2. Data description</a>\n",
    "\n",
    "<a href='#Декомпозиция проекта'>3. Decomposition of the project</a>\n",
    "\n",
    "<a href='#Чтение и обработка данных'>4. Reading the data</a>\n",
    "\n",
    "- <a href='#Выводы чтение и обработка данных'>Conclusions data reading and data processing</a>\n",
    "\n",
    "<a href='#исследовательский анализ данных (EDA)'>5. Exploratory data analysis (EDA)</a>\n",
    "\n",
    "- <a href='#Выводы исследовательский анализ'>Conclusions exploratory data analysis (EDA)</a>\n",
    "\n",
    "<a href='#Маркетинг'>6. Marketing</a>\n",
    "\n",
    "- <a href='#Выводы маркетинг'>Conclusions marketing</a>\n",
    "\n",
    "<a href='#Проверка гипотез'>7. Statistical hypothesis testing</a>\n",
    "\n",
    "- <a href='#Выводы проверка гипотез'>Conclusions statistical hypothesis testing</a>\n",
    "\n",
    "<a href='#Выводы по проекту'>8. Project conclusions</a>\n"
   ]
  },
  {
   "cell_type": "markdown",
   "metadata": {},
   "source": [
    "# 1. Project Description\n",
    "<a id='Описание проекта'></a>"
   ]
  },
  {
   "cell_type": "markdown",
   "metadata": {},
   "source": [
    "The Space Brothers company is engaged in the development and promotion of a mobile gaming application.\n",
    "In it, users build their space program and try to succeed in the difficult task of colonizing the galaxy.\n",
    "The main monetization of the game is just being planned. But it is assumed that the application will display ads on the screen with the choice of the type of object to build.\n",
    "\n",
    "The game is already very popular - it's time to make money on it.\n",
    "So the first task will be to calculate the service monetization model.\n",
    "Space brothers - infinity is infinite!"
   ]
  },
  {
   "cell_type": "markdown",
   "metadata": {},
   "source": [
    "# 2. Data description\n",
    "<a id='Описание данных'></a>"
   ]
  },
  {
   "cell_type": "markdown",
   "metadata": {},
   "source": [
    "The dataset contains data on the game of users at the first level. Completing the first level requires the player to fulfill one of two conditions:\n",
    "\n",
    "- Victory over the first enemy\n",
    "- Project implementation - development of an orbital satellite assembly\n",
    "\n",
    "The dataset contains data of the first users of the application - a cohort of users who started using the application from May 4 to May 10, inclusive.\n",
    "\n",
    "\n",
    "**game_actions.csv** — main dataset;\n",
    "\n",
    "Current fields in the dataset:\n",
    "\n",
    "- `event_datetime` - event time;\n",
    "- `event` - one of three events:\n",
    "     1. `building` - the object is built,\n",
    "     2. `finished_stage_1` - the first level is completed,\n",
    "     3. `project` - the project is completed;\n",
    "- `building_type` - one of three building types:\n",
    "     1. `assembly_shop` - assembly shop,\n",
    "     2. `spaceport` - spaceport,\n",
    "     3. `research_center` - research center;\n",
    "- `user_id` - user ID;\n",
    "- `project_type` - type of the implemented project;\n",
    "\n",
    "In addition to the main dataset, there are two datasets with information about advertising activities. They will also help in solving the problem.\n",
    "\n",
    "Dataset **ad_cost.csv** contains columns:\n",
    "\n",
    "- `day` - the day on which the ad was clicked\n",
    "- `source` - traffic source\n",
    "- `cost` - cost of clicks\n",
    "\n",
    "Dataset **user_source.csv** contains columns:\n",
    "\n",
    "- `user_id` - user ID\n",
    "- `source` - the sources from which the user who installed the application came"
   ]
  },
  {
   "cell_type": "markdown",
   "metadata": {},
   "source": [
    "# 3. Decomposition of the project\n",
    "<a id='Декомпозиция проекта'></a>"
   ]
  },
  {
   "cell_type": "markdown",
   "metadata": {},
   "source": [
    "**Objective: To form a monetization model for a game application**\n",
    "\n",
    "1. Read and process data:\n",
    "     - find gaps and fill in\n",
    "     - find duplicates\n",
    "     - check the correctness of the data type\n",
    "\n",
    "\n",
    "2. Conduct Exploratory Data Analysis (EDA)\n",
    "     - find and explain the target event\n",
    "     - explain the time of occurrence of the target event\n",
    "     - When the user makes the first building\n",
    "     - When the user reaches the first level\n",
    "     - When users come\n",
    "     - When users leave\n",
    "     - set the scenario of work when the profit is 0% and when the profit is 30% and display the target metrics:\n",
    "         - Costs\n",
    "         - User Acquisition\n",
    "         - Cost Per Acquisition\n",
    "         - Retention\n",
    "         - Lifetime (LT)\n",
    "         - Profit\n",
    "         - Revenue\n",
    "         - ARPU\n",
    "         - Margin\n",
    "\n",
    "\n",
    "3. Marketing. Analyze the impact of events on the execution of a target event\n",
    "     - find and explain the best traffic acquisition channels\n",
    "     - find and explain how channels relate to our metrics and target event\n",
    "\n",
    "\n",
    "4. Test statistical hypotheses\n",
    " - \"Check the hypothesis of the difference in the level of time between users who finish the level through the implementation of the project, and users who finish the level by defeating another player.\"\n",
    " - \"Formulate and test a statistical hypothesis regarding the presented data\" (will be formed in the process of working with the data). At the step od decomposition I suppose that you need to test the hypothesis about the equality of the life cycle of users who have reached the first level and who have not reached the first level.\n",
    "\n",
    "\n",
    "5. Formulate conclusions and make recommendations for monetization\n",
    "     - generate a conclusion at what point to show an advertisement or offer a purchase to the user\n",
    "     - generate a conclusion in what should be the price of displaying an advertisement or the user's purchase price\n",
    "     - find and explain the best traffic acquisition channels\n",
    "\n",
    "\n",
    "6. Prepare a presentation\n",
    "     - conclusions + graphs"
   ]
  },
  {
   "cell_type": "markdown",
   "metadata": {},
   "source": [
    "# 4. Reading the data\n",
    "<a id='Чтение и обработка данных'></a>"
   ]
  },
  {
   "cell_type": "code",
   "execution_count": 8,
   "metadata": {},
   "outputs": [
    {
     "name": "stdout",
     "output_type": "stream",
     "text": [
      "Wall time: 365 ms\n"
     ]
    }
   ],
   "source": [
    "%%time\n",
    "#read csv files\n",
    "\n",
    "ad_costs = pd.read_csv('ad_costs.csv', sep=',') # локальный адрес\n",
    "game_actions = pd.read_csv('game_actions.csv', sep=',') # локальный адрес\n",
    "user_source = pd.read_csv('user_source.csv', sep=',') # локальный адрес\n"
   ]
  },
  {
   "cell_type": "markdown",
   "metadata": {},
   "source": [
    "Dataset **ad_cost.csv**"
   ]
  },
  {
   "cell_type": "code",
   "execution_count": 9,
   "metadata": {},
   "outputs": [
    {
     "data": {
      "text/html": [
       "<div>\n",
       "<style scoped>\n",
       "    .dataframe tbody tr th:only-of-type {\n",
       "        vertical-align: middle;\n",
       "    }\n",
       "\n",
       "    .dataframe tbody tr th {\n",
       "        vertical-align: top;\n",
       "    }\n",
       "\n",
       "    .dataframe thead th {\n",
       "        text-align: right;\n",
       "    }\n",
       "</style>\n",
       "<table border=\"1\" class=\"dataframe\">\n",
       "  <thead>\n",
       "    <tr style=\"text-align: right;\">\n",
       "      <th></th>\n",
       "      <th>source</th>\n",
       "      <th>day</th>\n",
       "      <th>cost</th>\n",
       "    </tr>\n",
       "  </thead>\n",
       "  <tbody>\n",
       "    <tr>\n",
       "      <td>24</td>\n",
       "      <td>youtube_channel_reklama</td>\n",
       "      <td>2020-05-06</td>\n",
       "      <td>88.506074</td>\n",
       "    </tr>\n",
       "    <tr>\n",
       "      <td>8</td>\n",
       "      <td>instagram_new_adverts</td>\n",
       "      <td>2020-05-04</td>\n",
       "      <td>502.925451</td>\n",
       "    </tr>\n",
       "    <tr>\n",
       "      <td>2</td>\n",
       "      <td>facebook_ads</td>\n",
       "      <td>2020-05-05</td>\n",
       "      <td>260.185754</td>\n",
       "    </tr>\n",
       "    <tr>\n",
       "      <td>27</td>\n",
       "      <td>youtube_channel_reklama</td>\n",
       "      <td>2020-05-09</td>\n",
       "      <td>23.314669</td>\n",
       "    </tr>\n",
       "    <tr>\n",
       "      <td>20</td>\n",
       "      <td>yandex_direct</td>\n",
       "      <td>2020-05-09</td>\n",
       "      <td>42.779505</td>\n",
       "    </tr>\n",
       "  </tbody>\n",
       "</table>\n",
       "</div>"
      ],
      "text/plain": [
       "                     source         day        cost\n",
       "24  youtube_channel_reklama  2020-05-06   88.506074\n",
       "8     instagram_new_adverts  2020-05-04  502.925451\n",
       "2              facebook_ads  2020-05-05  260.185754\n",
       "27  youtube_channel_reklama  2020-05-09   23.314669\n",
       "20            yandex_direct  2020-05-09   42.779505"
      ]
     },
     "metadata": {},
     "output_type": "display_data"
    },
    {
     "name": "stdout",
     "output_type": "stream",
     "text": [
      "<class 'pandas.core.frame.DataFrame'>\n",
      "RangeIndex: 28 entries, 0 to 27\n",
      "Data columns (total 3 columns):\n",
      "source    28 non-null object\n",
      "day       28 non-null object\n",
      "cost      28 non-null float64\n",
      "dtypes: float64(1), object(2)\n",
      "memory usage: 800.0+ bytes\n",
      "None\n",
      "Wall time: 29 ms\n"
     ]
    }
   ],
   "source": [
    "%%time\n",
    "display(ad_costs.sample(5))\n",
    "print(ad_costs.info())"
   ]
  },
  {
   "cell_type": "markdown",
   "metadata": {},
   "source": [
    "Dataset **user_source.csv**"
   ]
  },
  {
   "cell_type": "code",
   "execution_count": 10,
   "metadata": {},
   "outputs": [
    {
     "data": {
      "text/html": [
       "<div>\n",
       "<style scoped>\n",
       "    .dataframe tbody tr th:only-of-type {\n",
       "        vertical-align: middle;\n",
       "    }\n",
       "\n",
       "    .dataframe tbody tr th {\n",
       "        vertical-align: top;\n",
       "    }\n",
       "\n",
       "    .dataframe thead th {\n",
       "        text-align: right;\n",
       "    }\n",
       "</style>\n",
       "<table border=\"1\" class=\"dataframe\">\n",
       "  <thead>\n",
       "    <tr style=\"text-align: right;\">\n",
       "      <th></th>\n",
       "      <th>user_id</th>\n",
       "      <th>source</th>\n",
       "    </tr>\n",
       "  </thead>\n",
       "  <tbody>\n",
       "    <tr>\n",
       "      <td>10253</td>\n",
       "      <td>c1a34b08-00d1-4a35-a48b-2800d63c6490</td>\n",
       "      <td>yandex_direct</td>\n",
       "    </tr>\n",
       "    <tr>\n",
       "      <td>2635</td>\n",
       "      <td>300bcea8-fe35-4695-a5bf-36dab3d181c1</td>\n",
       "      <td>youtube_channel_reklama</td>\n",
       "    </tr>\n",
       "    <tr>\n",
       "      <td>4734</td>\n",
       "      <td>57bf8f3f-9719-4589-b2f0-633aa6112e9e</td>\n",
       "      <td>youtube_channel_reklama</td>\n",
       "    </tr>\n",
       "    <tr>\n",
       "      <td>10017</td>\n",
       "      <td>bda004fc-1689-42e8-b5bc-4e378fa52036</td>\n",
       "      <td>youtube_channel_reklama</td>\n",
       "    </tr>\n",
       "    <tr>\n",
       "      <td>1514</td>\n",
       "      <td>1b392ba3-a92e-4f13-a291-28a52ec69645</td>\n",
       "      <td>youtube_channel_reklama</td>\n",
       "    </tr>\n",
       "  </tbody>\n",
       "</table>\n",
       "</div>"
      ],
      "text/plain": [
       "                                    user_id                   source\n",
       "10253  c1a34b08-00d1-4a35-a48b-2800d63c6490            yandex_direct\n",
       "2635   300bcea8-fe35-4695-a5bf-36dab3d181c1  youtube_channel_reklama\n",
       "4734   57bf8f3f-9719-4589-b2f0-633aa6112e9e  youtube_channel_reklama\n",
       "10017  bda004fc-1689-42e8-b5bc-4e378fa52036  youtube_channel_reklama\n",
       "1514   1b392ba3-a92e-4f13-a291-28a52ec69645  youtube_channel_reklama"
      ]
     },
     "metadata": {},
     "output_type": "display_data"
    },
    {
     "name": "stdout",
     "output_type": "stream",
     "text": [
      "<class 'pandas.core.frame.DataFrame'>\n",
      "RangeIndex: 13576 entries, 0 to 13575\n",
      "Data columns (total 2 columns):\n",
      "user_id    13576 non-null object\n",
      "source     13576 non-null object\n",
      "dtypes: object(2)\n",
      "memory usage: 212.2+ KB\n",
      "None\n",
      "Wall time: 20 ms\n"
     ]
    }
   ],
   "source": [
    "%%time\n",
    "display(user_source.sample(5))\n",
    "print(user_source.info())"
   ]
  },
  {
   "cell_type": "markdown",
   "metadata": {},
   "source": [
    "Dataset **game_actions.csv**"
   ]
  },
  {
   "cell_type": "code",
   "execution_count": 11,
   "metadata": {},
   "outputs": [
    {
     "data": {
      "text/html": [
       "<div>\n",
       "<style scoped>\n",
       "    .dataframe tbody tr th:only-of-type {\n",
       "        vertical-align: middle;\n",
       "    }\n",
       "\n",
       "    .dataframe tbody tr th {\n",
       "        vertical-align: top;\n",
       "    }\n",
       "\n",
       "    .dataframe thead th {\n",
       "        text-align: right;\n",
       "    }\n",
       "</style>\n",
       "<table border=\"1\" class=\"dataframe\">\n",
       "  <thead>\n",
       "    <tr style=\"text-align: right;\">\n",
       "      <th></th>\n",
       "      <th>event_datetime</th>\n",
       "      <th>event</th>\n",
       "      <th>building_type</th>\n",
       "      <th>user_id</th>\n",
       "      <th>project_type</th>\n",
       "    </tr>\n",
       "  </thead>\n",
       "  <tbody>\n",
       "    <tr>\n",
       "      <td>102535</td>\n",
       "      <td>2020-05-14 01:17:38</td>\n",
       "      <td>building</td>\n",
       "      <td>research_center</td>\n",
       "      <td>824fe9ca-69fc-4b11-b6b9-0cf4baa1a6c3</td>\n",
       "      <td>NaN</td>\n",
       "    </tr>\n",
       "    <tr>\n",
       "      <td>43310</td>\n",
       "      <td>2020-05-08 10:41:39</td>\n",
       "      <td>building</td>\n",
       "      <td>spaceport</td>\n",
       "      <td>e40e3921-3ed5-4ba6-b30c-3a21f9507bf5</td>\n",
       "      <td>NaN</td>\n",
       "    </tr>\n",
       "    <tr>\n",
       "      <td>18093</td>\n",
       "      <td>2020-05-06 02:05:08</td>\n",
       "      <td>building</td>\n",
       "      <td>assembly_shop</td>\n",
       "      <td>7b300645-e902-4b7d-a5cf-ac75a9a0fced</td>\n",
       "      <td>NaN</td>\n",
       "    </tr>\n",
       "    <tr>\n",
       "      <td>73913</td>\n",
       "      <td>2020-05-10 17:13:42</td>\n",
       "      <td>building</td>\n",
       "      <td>assembly_shop</td>\n",
       "      <td>3db38b03-989e-4e15-8ffa-81d4bdfdd782</td>\n",
       "      <td>NaN</td>\n",
       "    </tr>\n",
       "    <tr>\n",
       "      <td>46181</td>\n",
       "      <td>2020-05-08 16:22:08</td>\n",
       "      <td>building</td>\n",
       "      <td>assembly_shop</td>\n",
       "      <td>f8029127-dd7a-4d22-ba2b-390972e3168d</td>\n",
       "      <td>NaN</td>\n",
       "    </tr>\n",
       "  </tbody>\n",
       "</table>\n",
       "</div>"
      ],
      "text/plain": [
       "             event_datetime     event    building_type  \\\n",
       "102535  2020-05-14 01:17:38  building  research_center   \n",
       "43310   2020-05-08 10:41:39  building        spaceport   \n",
       "18093   2020-05-06 02:05:08  building    assembly_shop   \n",
       "73913   2020-05-10 17:13:42  building    assembly_shop   \n",
       "46181   2020-05-08 16:22:08  building    assembly_shop   \n",
       "\n",
       "                                     user_id project_type  \n",
       "102535  824fe9ca-69fc-4b11-b6b9-0cf4baa1a6c3          NaN  \n",
       "43310   e40e3921-3ed5-4ba6-b30c-3a21f9507bf5          NaN  \n",
       "18093   7b300645-e902-4b7d-a5cf-ac75a9a0fced          NaN  \n",
       "73913   3db38b03-989e-4e15-8ffa-81d4bdfdd782          NaN  \n",
       "46181   f8029127-dd7a-4d22-ba2b-390972e3168d          NaN  "
      ]
     },
     "metadata": {},
     "output_type": "display_data"
    },
    {
     "name": "stdout",
     "output_type": "stream",
     "text": [
      "<class 'pandas.core.frame.DataFrame'>\n",
      "RangeIndex: 135640 entries, 0 to 135639\n",
      "Data columns (total 5 columns):\n",
      "event_datetime    135640 non-null object\n",
      "event             135640 non-null object\n",
      "building_type     127957 non-null object\n",
      "user_id           135640 non-null object\n",
      "project_type      1866 non-null object\n",
      "dtypes: object(5)\n",
      "memory usage: 5.2+ MB\n",
      "None\n",
      "Wall time: 90.9 ms\n"
     ]
    }
   ],
   "source": [
    "%%time\n",
    "display(game_actions.sample(5))\n",
    "print(game_actions.info())"
   ]
  },
  {
   "cell_type": "markdown",
   "metadata": {},
   "source": [
    "**Prepare the data**"
   ]
  },
  {
   "cell_type": "code",
   "execution_count": 12,
   "metadata": {},
   "outputs": [
    {
     "name": "stdout",
     "output_type": "stream",
     "text": [
      "Wall time: 15 ms\n"
     ]
    }
   ],
   "source": [
    "%%time\n",
    "# the original DFs will remain unchanged, we will work with copies and add the letter \"C\"\n",
    "\n",
    "ad_costs_C = ad_costs.copy() # local address\n",
    "game_actions_C = game_actions.copy() # local address\n",
    "user_source_C = user_source.copy() # local address"
   ]
  },
  {
   "cell_type": "code",
   "execution_count": 13,
   "metadata": {},
   "outputs": [
    {
     "name": "stdout",
     "output_type": "stream",
     "text": [
      "Wall time: 174 ms\n"
     ]
    }
   ],
   "source": [
    "%%time\n",
    "# convert to time format\n",
    "ad_costs_C['day'] = pd.to_datetime(ad_costs_C['day'], format='%Y-%m-%d')\n",
    "game_actions_C['event_datetime'] = pd.to_datetime(game_actions_C['event_datetime'], format='%Y-%m-%d %H:%M:%S')"
   ]
  },
  {
   "cell_type": "code",
   "execution_count": 14,
   "metadata": {},
   "outputs": [
    {
     "name": "stdout",
     "output_type": "stream",
     "text": [
      "DF ad_costs = 0\n",
      "DF game_actions = 1\n",
      "DF ser_source = 0\n",
      "Wall time: 113 ms\n"
     ]
    }
   ],
   "source": [
    "%%time\n",
    "# check for duplicates\n",
    "print('DF ad_costs =', ad_costs_C.duplicated().sum())\n",
    "print('DF game_actions =', game_actions_C.duplicated().sum())\n",
    "print('DF ser_source =', user_source_C.duplicated().sum())"
   ]
  },
  {
   "cell_type": "code",
   "execution_count": 15,
   "metadata": {},
   "outputs": [
    {
     "name": "stdout",
     "output_type": "stream",
     "text": [
      "Wall time: 112 ms\n"
     ]
    },
    {
     "data": {
      "text/html": [
       "<div>\n",
       "<style scoped>\n",
       "    .dataframe tbody tr th:only-of-type {\n",
       "        vertical-align: middle;\n",
       "    }\n",
       "\n",
       "    .dataframe tbody tr th {\n",
       "        vertical-align: top;\n",
       "    }\n",
       "\n",
       "    .dataframe thead th {\n",
       "        text-align: right;\n",
       "    }\n",
       "</style>\n",
       "<table border=\"1\" class=\"dataframe\">\n",
       "  <thead>\n",
       "    <tr style=\"text-align: right;\">\n",
       "      <th></th>\n",
       "      <th>event_datetime</th>\n",
       "      <th>event</th>\n",
       "      <th>building_type</th>\n",
       "      <th>user_id</th>\n",
       "      <th>project_type</th>\n",
       "    </tr>\n",
       "  </thead>\n",
       "  <tbody>\n",
       "    <tr>\n",
       "      <td>74891</td>\n",
       "      <td>2020-05-10 18:41:56</td>\n",
       "      <td>building</td>\n",
       "      <td>research_center</td>\n",
       "      <td>c9af55d2-b0ae-4bb4-b3d5-f32aa9ac03af</td>\n",
       "      <td>NaN</td>\n",
       "    </tr>\n",
       "  </tbody>\n",
       "</table>\n",
       "</div>"
      ],
      "text/plain": [
       "           event_datetime     event    building_type  \\\n",
       "74891 2020-05-10 18:41:56  building  research_center   \n",
       "\n",
       "                                    user_id project_type  \n",
       "74891  c9af55d2-b0ae-4bb4-b3d5-f32aa9ac03af          NaN  "
      ]
     },
     "execution_count": 15,
     "metadata": {},
     "output_type": "execute_result"
    }
   ],
   "source": [
    "%%time\n",
    "# let's look at duplicates\n",
    "game_actions_C[game_actions_C.duplicated()]"
   ]
  },
  {
   "cell_type": "code",
   "execution_count": 16,
   "metadata": {},
   "outputs": [
    {
     "name": "stdout",
     "output_type": "stream",
     "text": [
      "Wall time: 26 ms\n"
     ]
    },
    {
     "data": {
      "text/html": [
       "<div>\n",
       "<style scoped>\n",
       "    .dataframe tbody tr th:only-of-type {\n",
       "        vertical-align: middle;\n",
       "    }\n",
       "\n",
       "    .dataframe tbody tr th {\n",
       "        vertical-align: top;\n",
       "    }\n",
       "\n",
       "    .dataframe thead th {\n",
       "        text-align: right;\n",
       "    }\n",
       "</style>\n",
       "<table border=\"1\" class=\"dataframe\">\n",
       "  <thead>\n",
       "    <tr style=\"text-align: right;\">\n",
       "      <th></th>\n",
       "      <th>event_datetime</th>\n",
       "      <th>event</th>\n",
       "      <th>building_type</th>\n",
       "      <th>user_id</th>\n",
       "      <th>project_type</th>\n",
       "    </tr>\n",
       "  </thead>\n",
       "  <tbody>\n",
       "    <tr>\n",
       "      <td>15950</td>\n",
       "      <td>2020-05-05 20:34:11</td>\n",
       "      <td>building</td>\n",
       "      <td>assembly_shop</td>\n",
       "      <td>c9af55d2-b0ae-4bb4-b3d5-f32aa9ac03af</td>\n",
       "      <td>NaN</td>\n",
       "    </tr>\n",
       "    <tr>\n",
       "      <td>24861</td>\n",
       "      <td>2020-05-06 18:44:36</td>\n",
       "      <td>building</td>\n",
       "      <td>assembly_shop</td>\n",
       "      <td>c9af55d2-b0ae-4bb4-b3d5-f32aa9ac03af</td>\n",
       "      <td>NaN</td>\n",
       "    </tr>\n",
       "    <tr>\n",
       "      <td>42819</td>\n",
       "      <td>2020-05-08 09:43:44</td>\n",
       "      <td>building</td>\n",
       "      <td>assembly_shop</td>\n",
       "      <td>c9af55d2-b0ae-4bb4-b3d5-f32aa9ac03af</td>\n",
       "      <td>NaN</td>\n",
       "    </tr>\n",
       "    <tr>\n",
       "      <td>46859</td>\n",
       "      <td>2020-05-08 17:39:07</td>\n",
       "      <td>building</td>\n",
       "      <td>assembly_shop</td>\n",
       "      <td>c9af55d2-b0ae-4bb4-b3d5-f32aa9ac03af</td>\n",
       "      <td>NaN</td>\n",
       "    </tr>\n",
       "    <tr>\n",
       "      <td>59875</td>\n",
       "      <td>2020-05-09 18:14:20</td>\n",
       "      <td>building</td>\n",
       "      <td>assembly_shop</td>\n",
       "      <td>c9af55d2-b0ae-4bb4-b3d5-f32aa9ac03af</td>\n",
       "      <td>NaN</td>\n",
       "    </tr>\n",
       "  </tbody>\n",
       "</table>\n",
       "</div>"
      ],
      "text/plain": [
       "           event_datetime     event  building_type  \\\n",
       "15950 2020-05-05 20:34:11  building  assembly_shop   \n",
       "24861 2020-05-06 18:44:36  building  assembly_shop   \n",
       "42819 2020-05-08 09:43:44  building  assembly_shop   \n",
       "46859 2020-05-08 17:39:07  building  assembly_shop   \n",
       "59875 2020-05-09 18:14:20  building  assembly_shop   \n",
       "\n",
       "                                    user_id project_type  \n",
       "15950  c9af55d2-b0ae-4bb4-b3d5-f32aa9ac03af          NaN  \n",
       "24861  c9af55d2-b0ae-4bb4-b3d5-f32aa9ac03af          NaN  \n",
       "42819  c9af55d2-b0ae-4bb4-b3d5-f32aa9ac03af          NaN  \n",
       "46859  c9af55d2-b0ae-4bb4-b3d5-f32aa9ac03af          NaN  \n",
       "59875  c9af55d2-b0ae-4bb4-b3d5-f32aa9ac03af          NaN  "
      ]
     },
     "execution_count": 16,
     "metadata": {},
     "output_type": "execute_result"
    }
   ],
   "source": [
    "%%time\n",
    "game_actions_C.query('user_id == \"c9af55d2-b0ae-4bb4-b3d5-f32aa9ac03af\"').head()"
   ]
  },
  {
   "cell_type": "code",
   "execution_count": 17,
   "metadata": {},
   "outputs": [
    {
     "name": "stdout",
     "output_type": "stream",
     "text": [
      "Wall time: 133 ms\n"
     ]
    },
    {
     "data": {
      "text/html": [
       "<div>\n",
       "<style scoped>\n",
       "    .dataframe tbody tr th:only-of-type {\n",
       "        vertical-align: middle;\n",
       "    }\n",
       "\n",
       "    .dataframe tbody tr th {\n",
       "        vertical-align: top;\n",
       "    }\n",
       "\n",
       "    .dataframe thead th {\n",
       "        text-align: right;\n",
       "    }\n",
       "</style>\n",
       "<table border=\"1\" class=\"dataframe\">\n",
       "  <thead>\n",
       "    <tr style=\"text-align: right;\">\n",
       "      <th></th>\n",
       "      <th>event_datetime</th>\n",
       "      <th>event</th>\n",
       "      <th>building_type</th>\n",
       "      <th>user_id</th>\n",
       "      <th>project_type</th>\n",
       "    </tr>\n",
       "  </thead>\n",
       "  <tbody>\n",
       "    <tr>\n",
       "      <td>0</td>\n",
       "      <td>2020-05-04 00:00:01</td>\n",
       "      <td>building</td>\n",
       "      <td>assembly_shop</td>\n",
       "      <td>55e92310-cb8e-4754-b622-597e124b03de</td>\n",
       "      <td>NaN</td>\n",
       "    </tr>\n",
       "    <tr>\n",
       "      <td>1</td>\n",
       "      <td>2020-05-04 00:00:03</td>\n",
       "      <td>building</td>\n",
       "      <td>assembly_shop</td>\n",
       "      <td>c07b1c10-f477-44dc-81dc-ec82254b1347</td>\n",
       "      <td>NaN</td>\n",
       "    </tr>\n",
       "    <tr>\n",
       "      <td>2</td>\n",
       "      <td>2020-05-04 00:00:16</td>\n",
       "      <td>building</td>\n",
       "      <td>assembly_shop</td>\n",
       "      <td>6edd42cc-e753-4ff6-a947-2107cd560710</td>\n",
       "      <td>NaN</td>\n",
       "    </tr>\n",
       "    <tr>\n",
       "      <td>3</td>\n",
       "      <td>2020-05-04 00:00:16</td>\n",
       "      <td>building</td>\n",
       "      <td>assembly_shop</td>\n",
       "      <td>92c69003-d60a-444a-827f-8cc51bf6bf4c</td>\n",
       "      <td>NaN</td>\n",
       "    </tr>\n",
       "    <tr>\n",
       "      <td>4</td>\n",
       "      <td>2020-05-04 00:00:35</td>\n",
       "      <td>building</td>\n",
       "      <td>assembly_shop</td>\n",
       "      <td>cdc6bb92-0ccb-4490-9866-ef142f09139d</td>\n",
       "      <td>NaN</td>\n",
       "    </tr>\n",
       "  </tbody>\n",
       "</table>\n",
       "</div>"
      ],
      "text/plain": [
       "       event_datetime     event  building_type  \\\n",
       "0 2020-05-04 00:00:01  building  assembly_shop   \n",
       "1 2020-05-04 00:00:03  building  assembly_shop   \n",
       "2 2020-05-04 00:00:16  building  assembly_shop   \n",
       "3 2020-05-04 00:00:16  building  assembly_shop   \n",
       "4 2020-05-04 00:00:35  building  assembly_shop   \n",
       "\n",
       "                                user_id project_type  \n",
       "0  55e92310-cb8e-4754-b622-597e124b03de          NaN  \n",
       "1  c07b1c10-f477-44dc-81dc-ec82254b1347          NaN  \n",
       "2  6edd42cc-e753-4ff6-a947-2107cd560710          NaN  \n",
       "3  92c69003-d60a-444a-827f-8cc51bf6bf4c          NaN  \n",
       "4  cdc6bb92-0ccb-4490-9866-ef142f09139d          NaN  "
      ]
     },
     "execution_count": 17,
     "metadata": {},
     "output_type": "execute_result"
    }
   ],
   "source": [
    "%%time\n",
    "# remove duplicates\n",
    "game_actions_C = game_actions_C.drop_duplicates()\n",
    "game_actions_C.head()"
   ]
  },
  {
   "cell_type": "markdown",
   "metadata": {},
   "source": [
    "**Let's look at the gaps**\n",
    "\n",
    "There are gaps in the `game_actions_C` dataset in the` building_type` and `project_type` columns"
   ]
  },
  {
   "cell_type": "code",
   "execution_count": 18,
   "metadata": {
    "scrolled": false
   },
   "outputs": [
    {
     "data": {
      "text/html": [
       "<div>\n",
       "<style scoped>\n",
       "    .dataframe tbody tr th:only-of-type {\n",
       "        vertical-align: middle;\n",
       "    }\n",
       "\n",
       "    .dataframe tbody tr th {\n",
       "        vertical-align: top;\n",
       "    }\n",
       "\n",
       "    .dataframe thead th {\n",
       "        text-align: right;\n",
       "    }\n",
       "</style>\n",
       "<table border=\"1\" class=\"dataframe\">\n",
       "  <thead>\n",
       "    <tr style=\"text-align: right;\">\n",
       "      <th></th>\n",
       "      <th>event_datetime</th>\n",
       "      <th>event</th>\n",
       "      <th>building_type</th>\n",
       "      <th>user_id</th>\n",
       "      <th>project_type</th>\n",
       "    </tr>\n",
       "  </thead>\n",
       "  <tbody>\n",
       "    <tr>\n",
       "      <td>0</td>\n",
       "      <td>2020-05-04 00:00:01</td>\n",
       "      <td>building</td>\n",
       "      <td>assembly_shop</td>\n",
       "      <td>55e92310-cb8e-4754-b622-597e124b03de</td>\n",
       "      <td>NaN</td>\n",
       "    </tr>\n",
       "    <tr>\n",
       "      <td>1</td>\n",
       "      <td>2020-05-04 00:00:03</td>\n",
       "      <td>building</td>\n",
       "      <td>assembly_shop</td>\n",
       "      <td>c07b1c10-f477-44dc-81dc-ec82254b1347</td>\n",
       "      <td>NaN</td>\n",
       "    </tr>\n",
       "    <tr>\n",
       "      <td>2</td>\n",
       "      <td>2020-05-04 00:00:16</td>\n",
       "      <td>building</td>\n",
       "      <td>assembly_shop</td>\n",
       "      <td>6edd42cc-e753-4ff6-a947-2107cd560710</td>\n",
       "      <td>NaN</td>\n",
       "    </tr>\n",
       "    <tr>\n",
       "      <td>3</td>\n",
       "      <td>2020-05-04 00:00:16</td>\n",
       "      <td>building</td>\n",
       "      <td>assembly_shop</td>\n",
       "      <td>92c69003-d60a-444a-827f-8cc51bf6bf4c</td>\n",
       "      <td>NaN</td>\n",
       "    </tr>\n",
       "    <tr>\n",
       "      <td>4</td>\n",
       "      <td>2020-05-04 00:00:35</td>\n",
       "      <td>building</td>\n",
       "      <td>assembly_shop</td>\n",
       "      <td>cdc6bb92-0ccb-4490-9866-ef142f09139d</td>\n",
       "      <td>NaN</td>\n",
       "    </tr>\n",
       "    <tr>\n",
       "      <td>...</td>\n",
       "      <td>...</td>\n",
       "      <td>...</td>\n",
       "      <td>...</td>\n",
       "      <td>...</td>\n",
       "      <td>...</td>\n",
       "    </tr>\n",
       "    <tr>\n",
       "      <td>135635</td>\n",
       "      <td>2020-06-05 00:08:06</td>\n",
       "      <td>building</td>\n",
       "      <td>research_center</td>\n",
       "      <td>f21d179f-1c4b-437e-b9c6-ab1976907195</td>\n",
       "      <td>NaN</td>\n",
       "    </tr>\n",
       "    <tr>\n",
       "      <td>135636</td>\n",
       "      <td>2020-06-05 02:25:12</td>\n",
       "      <td>finished_stage_1</td>\n",
       "      <td>NaN</td>\n",
       "      <td>515c1952-99aa-4bca-a7ea-d0449eb5385a</td>\n",
       "      <td>NaN</td>\n",
       "    </tr>\n",
       "    <tr>\n",
       "      <td>135637</td>\n",
       "      <td>2020-06-05 08:57:52</td>\n",
       "      <td>building</td>\n",
       "      <td>research_center</td>\n",
       "      <td>ed3e7d02-8a96-4be7-9998-e9813ff9c316</td>\n",
       "      <td>NaN</td>\n",
       "    </tr>\n",
       "    <tr>\n",
       "      <td>135638</td>\n",
       "      <td>2020-06-05 12:12:27</td>\n",
       "      <td>finished_stage_1</td>\n",
       "      <td>NaN</td>\n",
       "      <td>32572adb-900f-4b5d-a453-1eb1e6d88d8b</td>\n",
       "      <td>NaN</td>\n",
       "    </tr>\n",
       "    <tr>\n",
       "      <td>135639</td>\n",
       "      <td>2020-06-05 12:32:49</td>\n",
       "      <td>finished_stage_1</td>\n",
       "      <td>NaN</td>\n",
       "      <td>f21d179f-1c4b-437e-b9c6-ab1976907195</td>\n",
       "      <td>NaN</td>\n",
       "    </tr>\n",
       "  </tbody>\n",
       "</table>\n",
       "<p>135639 rows × 5 columns</p>\n",
       "</div>"
      ],
      "text/plain": [
       "            event_datetime             event    building_type  \\\n",
       "0      2020-05-04 00:00:01          building    assembly_shop   \n",
       "1      2020-05-04 00:00:03          building    assembly_shop   \n",
       "2      2020-05-04 00:00:16          building    assembly_shop   \n",
       "3      2020-05-04 00:00:16          building    assembly_shop   \n",
       "4      2020-05-04 00:00:35          building    assembly_shop   \n",
       "...                    ...               ...              ...   \n",
       "135635 2020-06-05 00:08:06          building  research_center   \n",
       "135636 2020-06-05 02:25:12  finished_stage_1              NaN   \n",
       "135637 2020-06-05 08:57:52          building  research_center   \n",
       "135638 2020-06-05 12:12:27  finished_stage_1              NaN   \n",
       "135639 2020-06-05 12:32:49  finished_stage_1              NaN   \n",
       "\n",
       "                                     user_id project_type  \n",
       "0       55e92310-cb8e-4754-b622-597e124b03de          NaN  \n",
       "1       c07b1c10-f477-44dc-81dc-ec82254b1347          NaN  \n",
       "2       6edd42cc-e753-4ff6-a947-2107cd560710          NaN  \n",
       "3       92c69003-d60a-444a-827f-8cc51bf6bf4c          NaN  \n",
       "4       cdc6bb92-0ccb-4490-9866-ef142f09139d          NaN  \n",
       "...                                      ...          ...  \n",
       "135635  f21d179f-1c4b-437e-b9c6-ab1976907195          NaN  \n",
       "135636  515c1952-99aa-4bca-a7ea-d0449eb5385a          NaN  \n",
       "135637  ed3e7d02-8a96-4be7-9998-e9813ff9c316          NaN  \n",
       "135638  32572adb-900f-4b5d-a453-1eb1e6d88d8b          NaN  \n",
       "135639  f21d179f-1c4b-437e-b9c6-ab1976907195          NaN  \n",
       "\n",
       "[135639 rows x 5 columns]"
      ]
     },
     "execution_count": 18,
     "metadata": {},
     "output_type": "execute_result"
    }
   ],
   "source": [
    "game_actions_C"
   ]
  },
  {
   "cell_type": "code",
   "execution_count": 19,
   "metadata": {},
   "outputs": [
    {
     "name": "stdout",
     "output_type": "stream",
     "text": [
      "Wall time: 5.17 s\n"
     ]
    },
    {
     "data": {
      "text/html": [
       "<div>\n",
       "<style scoped>\n",
       "    .dataframe tbody tr th:only-of-type {\n",
       "        vertical-align: middle;\n",
       "    }\n",
       "\n",
       "    .dataframe tbody tr th {\n",
       "        vertical-align: top;\n",
       "    }\n",
       "\n",
       "    .dataframe thead th {\n",
       "        text-align: right;\n",
       "    }\n",
       "</style>\n",
       "<table border=\"1\" class=\"dataframe\">\n",
       "  <thead>\n",
       "    <tr style=\"text-align: right;\">\n",
       "      <th></th>\n",
       "      <th>event_datetime</th>\n",
       "      <th>event</th>\n",
       "      <th>building_type</th>\n",
       "      <th>user_id</th>\n",
       "      <th>project_type</th>\n",
       "      <th>user_level</th>\n",
       "    </tr>\n",
       "  </thead>\n",
       "  <tbody>\n",
       "    <tr>\n",
       "      <td>0</td>\n",
       "      <td>2020-05-04 00:00:01</td>\n",
       "      <td>building</td>\n",
       "      <td>assembly_shop</td>\n",
       "      <td>55e92310-cb8e-4754-b622-597e124b03de</td>\n",
       "      <td>NaN</td>\n",
       "      <td>0</td>\n",
       "    </tr>\n",
       "    <tr>\n",
       "      <td>1</td>\n",
       "      <td>2020-05-04 00:00:03</td>\n",
       "      <td>building</td>\n",
       "      <td>assembly_shop</td>\n",
       "      <td>c07b1c10-f477-44dc-81dc-ec82254b1347</td>\n",
       "      <td>NaN</td>\n",
       "      <td>0</td>\n",
       "    </tr>\n",
       "    <tr>\n",
       "      <td>2</td>\n",
       "      <td>2020-05-04 00:00:16</td>\n",
       "      <td>building</td>\n",
       "      <td>assembly_shop</td>\n",
       "      <td>6edd42cc-e753-4ff6-a947-2107cd560710</td>\n",
       "      <td>NaN</td>\n",
       "      <td>0</td>\n",
       "    </tr>\n",
       "    <tr>\n",
       "      <td>3</td>\n",
       "      <td>2020-05-04 00:00:16</td>\n",
       "      <td>building</td>\n",
       "      <td>assembly_shop</td>\n",
       "      <td>92c69003-d60a-444a-827f-8cc51bf6bf4c</td>\n",
       "      <td>NaN</td>\n",
       "      <td>0</td>\n",
       "    </tr>\n",
       "    <tr>\n",
       "      <td>4</td>\n",
       "      <td>2020-05-04 00:00:35</td>\n",
       "      <td>building</td>\n",
       "      <td>assembly_shop</td>\n",
       "      <td>cdc6bb92-0ccb-4490-9866-ef142f09139d</td>\n",
       "      <td>NaN</td>\n",
       "      <td>0</td>\n",
       "    </tr>\n",
       "  </tbody>\n",
       "</table>\n",
       "</div>"
      ],
      "text/plain": [
       "       event_datetime     event  building_type  \\\n",
       "0 2020-05-04 00:00:01  building  assembly_shop   \n",
       "1 2020-05-04 00:00:03  building  assembly_shop   \n",
       "2 2020-05-04 00:00:16  building  assembly_shop   \n",
       "3 2020-05-04 00:00:16  building  assembly_shop   \n",
       "4 2020-05-04 00:00:35  building  assembly_shop   \n",
       "\n",
       "                                user_id project_type  user_level  \n",
       "0  55e92310-cb8e-4754-b622-597e124b03de          NaN           0  \n",
       "1  c07b1c10-f477-44dc-81dc-ec82254b1347          NaN           0  \n",
       "2  6edd42cc-e753-4ff6-a947-2107cd560710          NaN           0  \n",
       "3  92c69003-d60a-444a-827f-8cc51bf6bf4c          NaN           0  \n",
       "4  cdc6bb92-0ccb-4490-9866-ef142f09139d          NaN           0  "
      ]
     },
     "execution_count": 19,
     "metadata": {},
     "output_type": "execute_result"
    }
   ],
   "source": [
    "%%time\n",
    "# set a function that changes the value of cells based on the third rule above\n",
    "def replace_3(row):\n",
    "    if row['event'] == 'finished_stage_1':\n",
    "        return 1\n",
    "    else:\n",
    "        return 0\n",
    "\n",
    "# replace the values in DF\n",
    "game_actions_C['user_level'] = game_actions_C.apply(replace_3, axis = 1)\n",
    "game_actions_clean = game_actions_C.copy() # blank copy\n",
    "game_actions_C.head()"
   ]
  },
  {
   "cell_type": "code",
   "execution_count": 20,
   "metadata": {},
   "outputs": [
    {
     "data": {
      "text/html": [
       "<div>\n",
       "<style scoped>\n",
       "    .dataframe tbody tr th:only-of-type {\n",
       "        vertical-align: middle;\n",
       "    }\n",
       "\n",
       "    .dataframe tbody tr th {\n",
       "        vertical-align: top;\n",
       "    }\n",
       "\n",
       "    .dataframe thead th {\n",
       "        text-align: right;\n",
       "    }\n",
       "</style>\n",
       "<table border=\"1\" class=\"dataframe\">\n",
       "  <thead>\n",
       "    <tr style=\"text-align: right;\">\n",
       "      <th></th>\n",
       "      <th>event_datetime</th>\n",
       "      <th>event</th>\n",
       "      <th>building_type</th>\n",
       "      <th>user_id</th>\n",
       "      <th>project_type</th>\n",
       "      <th>user_level</th>\n",
       "    </tr>\n",
       "  </thead>\n",
       "  <tbody>\n",
       "    <tr>\n",
       "      <td>6659</td>\n",
       "      <td>2020-05-04 19:47:29</td>\n",
       "      <td>finished_stage_1</td>\n",
       "      <td>NaN</td>\n",
       "      <td>ced7b368-818f-48f6-9461-2346de0892c5</td>\n",
       "      <td>NaN</td>\n",
       "      <td>1</td>\n",
       "    </tr>\n",
       "    <tr>\n",
       "      <td>13134</td>\n",
       "      <td>2020-05-05 13:22:09</td>\n",
       "      <td>finished_stage_1</td>\n",
       "      <td>NaN</td>\n",
       "      <td>7ef7fc89-2779-46ea-b328-9e5035b83af5</td>\n",
       "      <td>NaN</td>\n",
       "      <td>1</td>\n",
       "    </tr>\n",
       "    <tr>\n",
       "      <td>15274</td>\n",
       "      <td>2020-05-05 18:54:37</td>\n",
       "      <td>finished_stage_1</td>\n",
       "      <td>NaN</td>\n",
       "      <td>70db22b3-c2f4-43bc-94ea-51c8d2904a29</td>\n",
       "      <td>NaN</td>\n",
       "      <td>1</td>\n",
       "    </tr>\n",
       "    <tr>\n",
       "      <td>16284</td>\n",
       "      <td>2020-05-05 21:27:29</td>\n",
       "      <td>finished_stage_1</td>\n",
       "      <td>NaN</td>\n",
       "      <td>903fc9ef-ba97-4b12-9d5c-ac8d602fbd8b</td>\n",
       "      <td>NaN</td>\n",
       "      <td>1</td>\n",
       "    </tr>\n",
       "    <tr>\n",
       "      <td>19650</td>\n",
       "      <td>2020-05-06 06:02:22</td>\n",
       "      <td>finished_stage_1</td>\n",
       "      <td>NaN</td>\n",
       "      <td>58e077ba-feb1-4556-a5a0-d96bd04efa39</td>\n",
       "      <td>NaN</td>\n",
       "      <td>1</td>\n",
       "    </tr>\n",
       "    <tr>\n",
       "      <td>...</td>\n",
       "      <td>...</td>\n",
       "      <td>...</td>\n",
       "      <td>...</td>\n",
       "      <td>...</td>\n",
       "      <td>...</td>\n",
       "      <td>...</td>\n",
       "    </tr>\n",
       "    <tr>\n",
       "      <td>135632</td>\n",
       "      <td>2020-06-04 15:50:38</td>\n",
       "      <td>finished_stage_1</td>\n",
       "      <td>NaN</td>\n",
       "      <td>22cce310-fe10-41a2-941b-9c3d63327fea</td>\n",
       "      <td>NaN</td>\n",
       "      <td>1</td>\n",
       "    </tr>\n",
       "    <tr>\n",
       "      <td>135633</td>\n",
       "      <td>2020-06-04 17:56:14</td>\n",
       "      <td>finished_stage_1</td>\n",
       "      <td>NaN</td>\n",
       "      <td>d477dde8-7c22-4f23-9c4f-4ec31a1aa4c8</td>\n",
       "      <td>NaN</td>\n",
       "      <td>1</td>\n",
       "    </tr>\n",
       "    <tr>\n",
       "      <td>135636</td>\n",
       "      <td>2020-06-05 02:25:12</td>\n",
       "      <td>finished_stage_1</td>\n",
       "      <td>NaN</td>\n",
       "      <td>515c1952-99aa-4bca-a7ea-d0449eb5385a</td>\n",
       "      <td>NaN</td>\n",
       "      <td>1</td>\n",
       "    </tr>\n",
       "    <tr>\n",
       "      <td>135638</td>\n",
       "      <td>2020-06-05 12:12:27</td>\n",
       "      <td>finished_stage_1</td>\n",
       "      <td>NaN</td>\n",
       "      <td>32572adb-900f-4b5d-a453-1eb1e6d88d8b</td>\n",
       "      <td>NaN</td>\n",
       "      <td>1</td>\n",
       "    </tr>\n",
       "    <tr>\n",
       "      <td>135639</td>\n",
       "      <td>2020-06-05 12:32:49</td>\n",
       "      <td>finished_stage_1</td>\n",
       "      <td>NaN</td>\n",
       "      <td>f21d179f-1c4b-437e-b9c6-ab1976907195</td>\n",
       "      <td>NaN</td>\n",
       "      <td>1</td>\n",
       "    </tr>\n",
       "  </tbody>\n",
       "</table>\n",
       "<p>5817 rows × 6 columns</p>\n",
       "</div>"
      ],
      "text/plain": [
       "            event_datetime             event building_type  \\\n",
       "6659   2020-05-04 19:47:29  finished_stage_1           NaN   \n",
       "13134  2020-05-05 13:22:09  finished_stage_1           NaN   \n",
       "15274  2020-05-05 18:54:37  finished_stage_1           NaN   \n",
       "16284  2020-05-05 21:27:29  finished_stage_1           NaN   \n",
       "19650  2020-05-06 06:02:22  finished_stage_1           NaN   \n",
       "...                    ...               ...           ...   \n",
       "135632 2020-06-04 15:50:38  finished_stage_1           NaN   \n",
       "135633 2020-06-04 17:56:14  finished_stage_1           NaN   \n",
       "135636 2020-06-05 02:25:12  finished_stage_1           NaN   \n",
       "135638 2020-06-05 12:12:27  finished_stage_1           NaN   \n",
       "135639 2020-06-05 12:32:49  finished_stage_1           NaN   \n",
       "\n",
       "                                     user_id project_type  user_level  \n",
       "6659    ced7b368-818f-48f6-9461-2346de0892c5          NaN           1  \n",
       "13134   7ef7fc89-2779-46ea-b328-9e5035b83af5          NaN           1  \n",
       "15274   70db22b3-c2f4-43bc-94ea-51c8d2904a29          NaN           1  \n",
       "16284   903fc9ef-ba97-4b12-9d5c-ac8d602fbd8b          NaN           1  \n",
       "19650   58e077ba-feb1-4556-a5a0-d96bd04efa39          NaN           1  \n",
       "...                                      ...          ...         ...  \n",
       "135632  22cce310-fe10-41a2-941b-9c3d63327fea          NaN           1  \n",
       "135633  d477dde8-7c22-4f23-9c4f-4ec31a1aa4c8          NaN           1  \n",
       "135636  515c1952-99aa-4bca-a7ea-d0449eb5385a          NaN           1  \n",
       "135638  32572adb-900f-4b5d-a453-1eb1e6d88d8b          NaN           1  \n",
       "135639  f21d179f-1c4b-437e-b9c6-ab1976907195          NaN           1  \n",
       "\n",
       "[5817 rows x 6 columns]"
      ]
     },
     "execution_count": 20,
     "metadata": {},
     "output_type": "execute_result"
    }
   ],
   "source": [
    "game_actions_C[(game_actions_C['user_level'] == 1) & (game_actions_C['event'] == \"finished_stage_1\")]"
   ]
  },
  {
   "cell_type": "code",
   "execution_count": 21,
   "metadata": {},
   "outputs": [
    {
     "name": "stdout",
     "output_type": "stream",
     "text": [
      "<class 'pandas.core.frame.DataFrame'>\n",
      "Int64Index: 135639 entries, 0 to 135639\n",
      "Data columns (total 6 columns):\n",
      "event_datetime    135639 non-null datetime64[ns]\n",
      "event             135639 non-null object\n",
      "building_type     127956 non-null object\n",
      "user_id           135639 non-null object\n",
      "project_type      1866 non-null object\n",
      "user_level        135639 non-null int64\n",
      "dtypes: datetime64[ns](1), int64(1), object(4)\n",
      "memory usage: 7.2+ MB\n"
     ]
    }
   ],
   "source": [
    "game_actions_C.info()"
   ]
  },
  {
   "cell_type": "markdown",
   "metadata": {},
   "source": [
    "# Conclusions Data reading and data processing\n",
    "<a id='Выводы чтение и обработка данных'></a>"
   ]
  },
  {
   "cell_type": "markdown",
   "metadata": {},
   "source": [
    "DF `ad_costs`:\n",
    "  - no duplicates\n",
    "  - invalid data type for column `day`\n",
    "  - NA are absent\n",
    "\n",
    "DF `user_source`:\n",
    "  - no duplicates\n",
    "  - data types are correct\n",
    "  - NA are absent\n",
    "\n",
    "DF `game_actions`:\n",
    "  - 1 duplicate found\n",
    "  - data type of column `event_datetime` is invalid\n",
    "  - name NA in the `building_type` and `project_type` columns, you do not need to fill in the blanks, because are not used in further work.\n",
    "\n",
    "**Fixes**\n",
    "1. created DF `game_actions_С` without duplicates, added custom levels.\n",
    "2. created DF `user_sources_C` copy of `user_source`\n",
    "3. created DF `ad_costs_С` with the correct data type"
   ]
  },
  {
   "cell_type": "markdown",
   "metadata": {},
   "source": [
    "# 5. Exploratory Data Analysis (EDA)\n",
    "<a id='исследовательский анализ данных (EDA)'></a>"
   ]
  },
  {
   "cell_type": "markdown",
   "metadata": {},
   "source": [
    "**find and explain the target event:**\n",
    "\n",
    "Our goal is to make money. To do this, we need to find the target event on which our model will depend.\n",
    "It is logical to assume that the target event is the fact of purchase / subscription / display, i.e. an action that brings money to the company.\n",
    "There are several ways to earn this money:\n",
    " - Premium - A model in which for unlimited game possibilities it is necessary to pay a fixed amount in the store. This model is popular among business applications and educational programs, but in the gaming industry it generates less than 10% of the revenue in the mobile market. Doesn't suit us.\n",
    " - Freemium - shareware model with limited access. The essence of the model is simple: the basic features of the application are provided free of charge, while the advanced features require additional payment. This causes negativity among those who are used to relying only on their own strength. Not the best option.\n",
    " - Free-to-Play - shareware model with in-game purchases. The most requested business model in mobile gaming. At the moment, it accounts for 90% of the market revenue. Super, but let's see what is.\n",
    " - Subscribe - subscription. The essence of the model: the user pays a certain amount once a month / year and gets access to all game content for this period. The model is popular for services that integrate into the daily life of users - music services. Not that coat.\n",
    " - Advertising model. Users of applications with embedded ads pay for the extended functionality with their own time - the application offers an in-game bonus for watching a video. Valid option.\n",
    " - Donations and crowdfunding. We are not used to waiting for the weather by the sea.\n",
    "\n",
    "Total:\n",
    "\n",
    "1. the company decided to focus on the advertising model - watching the video, but it's worth noting that the Free-to-Play model is also good and can be used.\n",
    "\n",
    "2. in the advertising model, the target event is the display of advertising to the user, at this moment we earn money from the advertiser.\n",
    "\n",
    "3. Now it is necessary to determine the optimal time for the occurrence of this event and the factors influencing it."
   ]
  },
  {
   "cell_type": "markdown",
   "metadata": {},
   "source": [
    "**When users come and leave**"
   ]
  },
  {
   "cell_type": "code",
   "execution_count": 22,
   "metadata": {},
   "outputs": [
    {
     "name": "stdout",
     "output_type": "stream",
     "text": [
      "Wall time: 375 ms\n"
     ]
    },
    {
     "data": {
      "text/html": [
       "<div>\n",
       "<style scoped>\n",
       "    .dataframe tbody tr th:only-of-type {\n",
       "        vertical-align: middle;\n",
       "    }\n",
       "\n",
       "    .dataframe tbody tr th {\n",
       "        vertical-align: top;\n",
       "    }\n",
       "\n",
       "    .dataframe thead th {\n",
       "        text-align: right;\n",
       "    }\n",
       "</style>\n",
       "<table border=\"1\" class=\"dataframe\">\n",
       "  <thead>\n",
       "    <tr style=\"text-align: right;\">\n",
       "      <th></th>\n",
       "      <th>user_id</th>\n",
       "      <th>max</th>\n",
       "      <th>min</th>\n",
       "      <th>life</th>\n",
       "    </tr>\n",
       "  </thead>\n",
       "  <tbody>\n",
       "    <tr>\n",
       "      <td>0</td>\n",
       "      <td>0001f83c-c6ac-4621-b7f0-8a28b283ac30</td>\n",
       "      <td>2020-05-20 11:26:06</td>\n",
       "      <td>2020-05-06 01:07:37</td>\n",
       "      <td>14.429502</td>\n",
       "    </tr>\n",
       "    <tr>\n",
       "      <td>1</td>\n",
       "      <td>00151b4f-ba38-44a8-a650-d7cf130a0105</td>\n",
       "      <td>2020-05-18 10:46:52</td>\n",
       "      <td>2020-05-06 03:09:12</td>\n",
       "      <td>12.317824</td>\n",
       "    </tr>\n",
       "    <tr>\n",
       "      <td>2</td>\n",
       "      <td>001aaea6-3d14-43f1-8ca8-7f48820f17aa</td>\n",
       "      <td>2020-05-14 09:21:27</td>\n",
       "      <td>2020-05-05 18:08:52</td>\n",
       "      <td>8.633738</td>\n",
       "    </tr>\n",
       "    <tr>\n",
       "      <td>3</td>\n",
       "      <td>001d39dc-366c-4021-9604-6a3b9ff01e25</td>\n",
       "      <td>2020-05-12 07:40:47</td>\n",
       "      <td>2020-05-05 21:02:05</td>\n",
       "      <td>6.443542</td>\n",
       "    </tr>\n",
       "    <tr>\n",
       "      <td>4</td>\n",
       "      <td>002f508f-67b6-479f-814b-b05f00d4e995</td>\n",
       "      <td>2020-05-22 02:46:45</td>\n",
       "      <td>2020-05-05 13:49:58</td>\n",
       "      <td>16.539433</td>\n",
       "    </tr>\n",
       "    <tr>\n",
       "      <td>...</td>\n",
       "      <td>...</td>\n",
       "      <td>...</td>\n",
       "      <td>...</td>\n",
       "      <td>...</td>\n",
       "    </tr>\n",
       "    <tr>\n",
       "      <td>13571</td>\n",
       "      <td>ffef4fed-164c-40e1-bde1-3980f76d0fb5</td>\n",
       "      <td>2020-05-11 22:15:54</td>\n",
       "      <td>2020-05-04 01:58:59</td>\n",
       "      <td>7.845081</td>\n",
       "    </tr>\n",
       "    <tr>\n",
       "      <td>13572</td>\n",
       "      <td>fffab3da-da0e-4e30-ae62-10d0a2e24a4e</td>\n",
       "      <td>2020-05-14 10:11:36</td>\n",
       "      <td>2020-05-04 11:58:14</td>\n",
       "      <td>9.925949</td>\n",
       "    </tr>\n",
       "    <tr>\n",
       "      <td>13573</td>\n",
       "      <td>fffb626c-5ab6-47c9-8113-2062a2f18494</td>\n",
       "      <td>2020-05-12 13:01:52</td>\n",
       "      <td>2020-05-04 02:05:09</td>\n",
       "      <td>8.456053</td>\n",
       "    </tr>\n",
       "    <tr>\n",
       "      <td>13574</td>\n",
       "      <td>ffff194a-56b7-4c12-860d-3485242ae7f5</td>\n",
       "      <td>2020-05-11 22:04:30</td>\n",
       "      <td>2020-05-04 20:28:28</td>\n",
       "      <td>7.066690</td>\n",
       "    </tr>\n",
       "    <tr>\n",
       "      <td>13575</td>\n",
       "      <td>ffff69cc-fec1-4fd3-9f98-93be1112a6b8</td>\n",
       "      <td>2020-05-25 14:05:51</td>\n",
       "      <td>2020-05-08 06:57:30</td>\n",
       "      <td>17.297465</td>\n",
       "    </tr>\n",
       "  </tbody>\n",
       "</table>\n",
       "<p>13576 rows × 4 columns</p>\n",
       "</div>"
      ],
      "text/plain": [
       "                                    user_id                 max  \\\n",
       "0      0001f83c-c6ac-4621-b7f0-8a28b283ac30 2020-05-20 11:26:06   \n",
       "1      00151b4f-ba38-44a8-a650-d7cf130a0105 2020-05-18 10:46:52   \n",
       "2      001aaea6-3d14-43f1-8ca8-7f48820f17aa 2020-05-14 09:21:27   \n",
       "3      001d39dc-366c-4021-9604-6a3b9ff01e25 2020-05-12 07:40:47   \n",
       "4      002f508f-67b6-479f-814b-b05f00d4e995 2020-05-22 02:46:45   \n",
       "...                                     ...                 ...   \n",
       "13571  ffef4fed-164c-40e1-bde1-3980f76d0fb5 2020-05-11 22:15:54   \n",
       "13572  fffab3da-da0e-4e30-ae62-10d0a2e24a4e 2020-05-14 10:11:36   \n",
       "13573  fffb626c-5ab6-47c9-8113-2062a2f18494 2020-05-12 13:01:52   \n",
       "13574  ffff194a-56b7-4c12-860d-3485242ae7f5 2020-05-11 22:04:30   \n",
       "13575  ffff69cc-fec1-4fd3-9f98-93be1112a6b8 2020-05-25 14:05:51   \n",
       "\n",
       "                      min       life  \n",
       "0     2020-05-06 01:07:37  14.429502  \n",
       "1     2020-05-06 03:09:12  12.317824  \n",
       "2     2020-05-05 18:08:52   8.633738  \n",
       "3     2020-05-05 21:02:05   6.443542  \n",
       "4     2020-05-05 13:49:58  16.539433  \n",
       "...                   ...        ...  \n",
       "13571 2020-05-04 01:58:59   7.845081  \n",
       "13572 2020-05-04 11:58:14   9.925949  \n",
       "13573 2020-05-04 02:05:09   8.456053  \n",
       "13574 2020-05-04 20:28:28   7.066690  \n",
       "13575 2020-05-08 06:57:30  17.297465  \n",
       "\n",
       "[13576 rows x 4 columns]"
      ]
     },
     "execution_count": 22,
     "metadata": {},
     "output_type": "execute_result"
    }
   ],
   "source": [
    "%%time\n",
    "# start and end date of each user\n",
    "min_max_user_date = game_actions_C.sort_values(by = ['event_datetime','user_id'], ascending = True) \\\n",
    "                                  .pivot_table(index = ['user_id'], \n",
    "                                               values = 'event_datetime', \n",
    "                                               aggfunc = {'min','max'}) \\\n",
    "                                  .reset_index()\n",
    "\n",
    "# find the duration of application use for each user\n",
    "min_max_user_date['life'] = min_max_user_date['max'] - min_max_user_date['min']\n",
    "min_max_user_date['life'] = min_max_user_date['life'] / pd.to_timedelta(1, unit='D')\n",
    "min_max_user_date"
   ]
  },
  {
   "cell_type": "code",
   "execution_count": 23,
   "metadata": {
    "scrolled": true
   },
   "outputs": [
    {
     "data": {
      "image/png": "[encoded data removed]",
      "text/plain": [
       "<Figure size 432x288 with 1 Axes>"
      ]
     },
     "metadata": {
      "needs_background": "light"
     },
     "output_type": "display_data"
    }
   ],
   "source": [
    "sns.distplot( min_max_user_date['life'], hist=True, kde=False, rug=False, color=\"red\" ).set_title('User lifetime');\n",
    "plt.xlabel(\"days\");"
   ]
  },
  {
   "cell_type": "markdown",
   "metadata": {},
   "source": [
    "**Users live from 0 to almost 30 days, on average 10-15 days**"
   ]
  },
  {
   "cell_type": "code",
   "execution_count": 24,
   "metadata": {},
   "outputs": [
    {
     "data": {
      "text/plain": [
       "count    13576.000000\n",
       "mean        10.675782\n",
       "std          4.350471\n",
       "min          0.000000\n",
       "25%          7.690032\n",
       "50%         10.521441\n",
       "75%         13.311713\n",
       "max         30.915891\n",
       "Name: life, dtype: float64"
      ]
     },
     "execution_count": 24,
     "metadata": {},
     "output_type": "execute_result"
    }
   ],
   "source": [
    "min_max_user_date['life'].describe()"
   ]
  },
  {
   "cell_type": "code",
   "execution_count": 25,
   "metadata": {
    "scrolled": true
   },
   "outputs": [
    {
     "data": {
      "image/png": "[encoded data removed]",
      "text/plain": [
       "<Figure size 432x288 with 1 Axes>"
      ]
     },
     "metadata": {
      "needs_background": "light"
     },
     "output_type": "display_data"
    }
   ],
   "source": [
    "sns.boxplot(y=min_max_user_date['life']).set_title('User lifetime')\n",
    "plt.show()"
   ]
  },
  {
   "cell_type": "code",
   "execution_count": 26,
   "metadata": {},
   "outputs": [
    {
     "name": "stdout",
     "output_type": "stream",
     "text": [
      "median user lifespan at the first level 10.52\n"
     ]
    }
   ],
   "source": [
    "print('median user lifespan at the first level', np.round(min_max_user_date['life'].median(),2))"
   ]
  },
  {
   "cell_type": "markdown",
   "metadata": {},
   "source": [
    "**When the user makes the first building**"
   ]
  },
  {
   "cell_type": "code",
   "execution_count": 27,
   "metadata": {},
   "outputs": [
    {
     "data": {
      "text/html": [
       "<div>\n",
       "<style scoped>\n",
       "    .dataframe tbody tr th:only-of-type {\n",
       "        vertical-align: middle;\n",
       "    }\n",
       "\n",
       "    .dataframe tbody tr th {\n",
       "        vertical-align: top;\n",
       "    }\n",
       "\n",
       "    .dataframe thead th {\n",
       "        text-align: right;\n",
       "    }\n",
       "</style>\n",
       "<table border=\"1\" class=\"dataframe\">\n",
       "  <thead>\n",
       "    <tr style=\"text-align: right;\">\n",
       "      <th></th>\n",
       "      <th>event_datetime</th>\n",
       "      <th>event</th>\n",
       "      <th>building_type</th>\n",
       "      <th>user_id</th>\n",
       "      <th>project_type</th>\n",
       "      <th>user_level</th>\n",
       "      <th>min</th>\n",
       "      <th>duration</th>\n",
       "    </tr>\n",
       "  </thead>\n",
       "  <tbody>\n",
       "    <tr>\n",
       "      <td>0</td>\n",
       "      <td>2020-05-04 00:00:01</td>\n",
       "      <td>building</td>\n",
       "      <td>assembly_shop</td>\n",
       "      <td>55e92310-cb8e-4754-b622-597e124b03de</td>\n",
       "      <td>NaN</td>\n",
       "      <td>0</td>\n",
       "      <td>2020-05-04 00:00:01</td>\n",
       "      <td>0.00</td>\n",
       "    </tr>\n",
       "    <tr>\n",
       "      <td>1</td>\n",
       "      <td>2020-05-05 05:20:15</td>\n",
       "      <td>building</td>\n",
       "      <td>assembly_shop</td>\n",
       "      <td>55e92310-cb8e-4754-b622-597e124b03de</td>\n",
       "      <td>NaN</td>\n",
       "      <td>0</td>\n",
       "      <td>2020-05-04 00:00:01</td>\n",
       "      <td>1.22</td>\n",
       "    </tr>\n",
       "    <tr>\n",
       "      <td>2</td>\n",
       "      <td>2020-05-05 19:24:02</td>\n",
       "      <td>building</td>\n",
       "      <td>assembly_shop</td>\n",
       "      <td>55e92310-cb8e-4754-b622-597e124b03de</td>\n",
       "      <td>NaN</td>\n",
       "      <td>0</td>\n",
       "      <td>2020-05-04 00:00:01</td>\n",
       "      <td>1.81</td>\n",
       "    </tr>\n",
       "    <tr>\n",
       "      <td>3</td>\n",
       "      <td>2020-05-05 20:59:19</td>\n",
       "      <td>building</td>\n",
       "      <td>assembly_shop</td>\n",
       "      <td>55e92310-cb8e-4754-b622-597e124b03de</td>\n",
       "      <td>NaN</td>\n",
       "      <td>0</td>\n",
       "      <td>2020-05-04 00:00:01</td>\n",
       "      <td>1.87</td>\n",
       "    </tr>\n",
       "    <tr>\n",
       "      <td>4</td>\n",
       "      <td>2020-05-06 00:52:56</td>\n",
       "      <td>building</td>\n",
       "      <td>assembly_shop</td>\n",
       "      <td>55e92310-cb8e-4754-b622-597e124b03de</td>\n",
       "      <td>NaN</td>\n",
       "      <td>0</td>\n",
       "      <td>2020-05-04 00:00:01</td>\n",
       "      <td>2.04</td>\n",
       "    </tr>\n",
       "  </tbody>\n",
       "</table>\n",
       "</div>"
      ],
      "text/plain": [
       "       event_datetime     event  building_type  \\\n",
       "0 2020-05-04 00:00:01  building  assembly_shop   \n",
       "1 2020-05-05 05:20:15  building  assembly_shop   \n",
       "2 2020-05-05 19:24:02  building  assembly_shop   \n",
       "3 2020-05-05 20:59:19  building  assembly_shop   \n",
       "4 2020-05-06 00:52:56  building  assembly_shop   \n",
       "\n",
       "                                user_id project_type  user_level  \\\n",
       "0  55e92310-cb8e-4754-b622-597e124b03de          NaN           0   \n",
       "1  55e92310-cb8e-4754-b622-597e124b03de          NaN           0   \n",
       "2  55e92310-cb8e-4754-b622-597e124b03de          NaN           0   \n",
       "3  55e92310-cb8e-4754-b622-597e124b03de          NaN           0   \n",
       "4  55e92310-cb8e-4754-b622-597e124b03de          NaN           0   \n",
       "\n",
       "                  min  duration  \n",
       "0 2020-05-04 00:00:01      0.00  \n",
       "1 2020-05-04 00:00:01      1.22  \n",
       "2 2020-05-04 00:00:01      1.81  \n",
       "3 2020-05-04 00:00:01      1.87  \n",
       "4 2020-05-04 00:00:01      2.04  "
      ]
     },
     "execution_count": 27,
     "metadata": {},
     "output_type": "execute_result"
    }
   ],
   "source": [
    "first_build = game_actions_C.merge(min_max_user_date[['user_id','min']], left_on='user_id', right_on='user_id')\n",
    "first_build['duration'] = first_build['event_datetime'] - first_build['min']\n",
    "first_build['duration'] = np.round(first_build['duration'] / pd.to_timedelta(1, unit='D'),2)\n",
    "first_build.head(5)"
   ]
  },
  {
   "cell_type": "code",
   "execution_count": 28,
   "metadata": {},
   "outputs": [
    {
     "data": {
      "text/html": [
       "<div>\n",
       "<style scoped>\n",
       "    .dataframe tbody tr th:only-of-type {\n",
       "        vertical-align: middle;\n",
       "    }\n",
       "\n",
       "    .dataframe tbody tr th {\n",
       "        vertical-align: top;\n",
       "    }\n",
       "\n",
       "    .dataframe thead th {\n",
       "        text-align: right;\n",
       "    }\n",
       "</style>\n",
       "<table border=\"1\" class=\"dataframe\">\n",
       "  <thead>\n",
       "    <tr style=\"text-align: right;\">\n",
       "      <th></th>\n",
       "      <th>user_id</th>\n",
       "      <th>duration</th>\n",
       "      <th>event_datetime</th>\n",
       "    </tr>\n",
       "  </thead>\n",
       "  <tbody>\n",
       "    <tr>\n",
       "      <td>0</td>\n",
       "      <td>0001f83c-c6ac-4621-b7f0-8a28b283ac30</td>\n",
       "      <td>0.00</td>\n",
       "      <td>2020-05-06 01:07:37</td>\n",
       "    </tr>\n",
       "    <tr>\n",
       "      <td>1</td>\n",
       "      <td>0001f83c-c6ac-4621-b7f0-8a28b283ac30</td>\n",
       "      <td>0.43</td>\n",
       "      <td>2020-05-06 11:31:56</td>\n",
       "    </tr>\n",
       "    <tr>\n",
       "      <td>2</td>\n",
       "      <td>0001f83c-c6ac-4621-b7f0-8a28b283ac30</td>\n",
       "      <td>0.59</td>\n",
       "      <td>2020-05-06 15:11:50</td>\n",
       "    </tr>\n",
       "    <tr>\n",
       "      <td>3</td>\n",
       "      <td>0001f83c-c6ac-4621-b7f0-8a28b283ac30</td>\n",
       "      <td>3.20</td>\n",
       "      <td>2020-05-09 05:59:57</td>\n",
       "    </tr>\n",
       "    <tr>\n",
       "      <td>4</td>\n",
       "      <td>0001f83c-c6ac-4621-b7f0-8a28b283ac30</td>\n",
       "      <td>3.27</td>\n",
       "      <td>2020-05-09 07:35:40</td>\n",
       "    </tr>\n",
       "  </tbody>\n",
       "</table>\n",
       "</div>"
      ],
      "text/plain": [
       "                                user_id  duration      event_datetime\n",
       "0  0001f83c-c6ac-4621-b7f0-8a28b283ac30      0.00 2020-05-06 01:07:37\n",
       "1  0001f83c-c6ac-4621-b7f0-8a28b283ac30      0.43 2020-05-06 11:31:56\n",
       "2  0001f83c-c6ac-4621-b7f0-8a28b283ac30      0.59 2020-05-06 15:11:50\n",
       "3  0001f83c-c6ac-4621-b7f0-8a28b283ac30      3.20 2020-05-09 05:59:57\n",
       "4  0001f83c-c6ac-4621-b7f0-8a28b283ac30      3.27 2020-05-09 07:35:40"
      ]
     },
     "execution_count": 28,
     "metadata": {},
     "output_type": "execute_result"
    }
   ],
   "source": [
    "first_build_start = first_build.pivot_table(index = ['user_id', 'duration'], values = 'event_datetime', aggfunc = 'min').reset_index()\n",
    "first_build_start.head()"
   ]
  },
  {
   "cell_type": "code",
   "execution_count": 29,
   "metadata": {},
   "outputs": [
    {
     "data": {
      "image/png": "[encoded data removed]",
      "text/plain": [
       "<Figure size 432x288 with 1 Axes>"
      ]
     },
     "metadata": {
      "needs_background": "light"
     },
     "output_type": "display_data"
    }
   ],
   "source": [
    "sns.distplot(first_build_start['duration'], hist=True, kde=False, rug=False, color=\"red\").set_title('First building');"
   ]
  },
  {
   "cell_type": "code",
   "execution_count": 30,
   "metadata": {},
   "outputs": [
    {
     "data": {
      "text/plain": [
       "count    135124.000000\n",
       "mean          5.602025\n",
       "std           4.483096\n",
       "min           0.000000\n",
       "25%           2.020000\n",
       "50%           4.910000\n",
       "75%           8.330000\n",
       "max          30.920000\n",
       "Name: duration, dtype: float64"
      ]
     },
     "execution_count": 30,
     "metadata": {},
     "output_type": "execute_result"
    }
   ],
   "source": [
    "first_build_start['duration'].describe()"
   ]
  },
  {
   "cell_type": "code",
   "execution_count": 31,
   "metadata": {},
   "outputs": [
    {
     "name": "stdout",
     "output_type": "stream",
     "text": [
      "median time of completion of the first construction 4.91\n"
     ]
    }
   ],
   "source": [
    "print('median time of completion of the first construction', np.round(first_build_start['duration'].median(),2))"
   ]
  },
  {
   "cell_type": "markdown",
   "metadata": {},
   "source": [
    "**When the user reaches the first level** \n"
   ]
  },
  {
   "cell_type": "code",
   "execution_count": 32,
   "metadata": {},
   "outputs": [
    {
     "data": {
      "text/html": [
       "<div>\n",
       "<style scoped>\n",
       "    .dataframe tbody tr th:only-of-type {\n",
       "        vertical-align: middle;\n",
       "    }\n",
       "\n",
       "    .dataframe tbody tr th {\n",
       "        vertical-align: top;\n",
       "    }\n",
       "\n",
       "    .dataframe thead th {\n",
       "        text-align: right;\n",
       "    }\n",
       "</style>\n",
       "<table border=\"1\" class=\"dataframe\">\n",
       "  <thead>\n",
       "    <tr style=\"text-align: right;\">\n",
       "      <th></th>\n",
       "      <th>user_id</th>\n",
       "      <th>duration</th>\n",
       "      <th>event_datetime</th>\n",
       "    </tr>\n",
       "  </thead>\n",
       "  <tbody>\n",
       "    <tr>\n",
       "      <td>0</td>\n",
       "      <td>001d39dc-366c-4021-9604-6a3b9ff01e25</td>\n",
       "      <td>6.44</td>\n",
       "      <td>2020-05-12 07:40:47</td>\n",
       "    </tr>\n",
       "    <tr>\n",
       "      <td>1</td>\n",
       "      <td>003ee7e8-6356-4286-a715-62f22a18d2a1</td>\n",
       "      <td>12.55</td>\n",
       "      <td>2020-05-17 21:47:49</td>\n",
       "    </tr>\n",
       "    <tr>\n",
       "      <td>2</td>\n",
       "      <td>004074f8-251a-4776-922c-8348dca1a2f6</td>\n",
       "      <td>12.78</td>\n",
       "      <td>2020-05-16 19:57:40</td>\n",
       "    </tr>\n",
       "    <tr>\n",
       "      <td>3</td>\n",
       "      <td>00464e5e-28ed-4be6-bf44-517ef7b3937b</td>\n",
       "      <td>11.31</td>\n",
       "      <td>2020-05-15 16:02:01</td>\n",
       "    </tr>\n",
       "    <tr>\n",
       "      <td>4</td>\n",
       "      <td>0056c007-c082-43cc-bdef-afc49bca4cb9</td>\n",
       "      <td>6.08</td>\n",
       "      <td>2020-05-16 13:48:39</td>\n",
       "    </tr>\n",
       "  </tbody>\n",
       "</table>\n",
       "</div>"
      ],
      "text/plain": [
       "                                user_id  duration      event_datetime\n",
       "0  001d39dc-366c-4021-9604-6a3b9ff01e25      6.44 2020-05-12 07:40:47\n",
       "1  003ee7e8-6356-4286-a715-62f22a18d2a1     12.55 2020-05-17 21:47:49\n",
       "2  004074f8-251a-4776-922c-8348dca1a2f6     12.78 2020-05-16 19:57:40\n",
       "3  00464e5e-28ed-4be6-bf44-517ef7b3937b     11.31 2020-05-15 16:02:01\n",
       "4  0056c007-c082-43cc-bdef-afc49bca4cb9      6.08 2020-05-16 13:48:39"
      ]
     },
     "execution_count": 32,
     "metadata": {},
     "output_type": "execute_result"
    }
   ],
   "source": [
    "first_level = first_build.query('user_level == 1').pivot_table(index = ['user_id', 'duration'], values = 'event_datetime', aggfunc = 'min').reset_index()\n",
    "first_level.head()"
   ]
  },
  {
   "cell_type": "code",
   "execution_count": 33,
   "metadata": {},
   "outputs": [
    {
     "data": {
      "image/png": "[encoded data removed]",
      "text/plain": [
       "<Figure size 432x288 with 1 Axes>"
      ]
     },
     "metadata": {
      "needs_background": "light"
     },
     "output_type": "display_data"
    }
   ],
   "source": [
    "sns.distplot(first_level['duration'], hist=True, kde=False, rug=False, color=\"red\").set_title('First level achievement');"
   ]
  },
  {
   "cell_type": "markdown",
   "metadata": {},
   "source": [
    "**Most of users reach 1st level from 10 to 15 days**"
   ]
  },
  {
   "cell_type": "code",
   "execution_count": 34,
   "metadata": {},
   "outputs": [
    {
     "data": {
      "text/plain": [
       "count    5817.000000\n",
       "mean       11.859654\n",
       "std         4.067722\n",
       "min         0.400000\n",
       "25%         9.220000\n",
       "50%        11.560000\n",
       "75%        14.220000\n",
       "max        30.920000\n",
       "Name: duration, dtype: float64"
      ]
     },
     "execution_count": 34,
     "metadata": {},
     "output_type": "execute_result"
    }
   ],
   "source": [
    "first_level['duration'].describe()"
   ]
  },
  {
   "cell_type": "code",
   "execution_count": 35,
   "metadata": {},
   "outputs": [
    {
     "data": {
      "image/png": "[encoded data removed]",
      "text/plain": [
       "<Figure size 432x288 with 1 Axes>"
      ]
     },
     "metadata": {
      "needs_background": "light"
     },
     "output_type": "display_data"
    }
   ],
   "source": [
    "sns.boxplot(y=first_level['duration']).set_title('First level achievement')\n",
    "plt.show()"
   ]
  },
  {
   "cell_type": "code",
   "execution_count": 36,
   "metadata": {
    "scrolled": true
   },
   "outputs": [
    {
     "name": "stdout",
     "output_type": "stream",
     "text": [
      "median time to complete the first level 11.56\n"
     ]
    }
   ],
   "source": [
    "print('median time to complete the first level', np.round(first_level['duration'].median(),2))"
   ]
  },
  {
   "cell_type": "markdown",
   "metadata": {},
   "source": [
    "**Let's see which stage of the passage is the longest and where users get stuck**"
   ]
  },
  {
   "cell_type": "code",
   "execution_count": 37,
   "metadata": {},
   "outputs": [
    {
     "data": {
      "text/html": [
       "<div>\n",
       "<style scoped>\n",
       "    .dataframe tbody tr th:only-of-type {\n",
       "        vertical-align: middle;\n",
       "    }\n",
       "\n",
       "    .dataframe tbody tr th {\n",
       "        vertical-align: top;\n",
       "    }\n",
       "\n",
       "    .dataframe thead th {\n",
       "        text-align: right;\n",
       "    }\n",
       "</style>\n",
       "<table border=\"1\" class=\"dataframe\">\n",
       "  <thead>\n",
       "    <tr style=\"text-align: right;\">\n",
       "      <th></th>\n",
       "      <th>event_datetime</th>\n",
       "      <th>event</th>\n",
       "      <th>building_type</th>\n",
       "      <th>user_id</th>\n",
       "      <th>project_type</th>\n",
       "      <th>user_level</th>\n",
       "      <th>min</th>\n",
       "      <th>duration</th>\n",
       "    </tr>\n",
       "  </thead>\n",
       "  <tbody>\n",
       "    <tr>\n",
       "      <td>0</td>\n",
       "      <td>2020-05-04 00:00:01</td>\n",
       "      <td>building</td>\n",
       "      <td>assembly_shop</td>\n",
       "      <td>55e92310-cb8e-4754-b622-597e124b03de</td>\n",
       "      <td>NaN</td>\n",
       "      <td>0</td>\n",
       "      <td>2020-05-04 00:00:01</td>\n",
       "      <td>0.00</td>\n",
       "    </tr>\n",
       "    <tr>\n",
       "      <td>1</td>\n",
       "      <td>2020-05-05 05:20:15</td>\n",
       "      <td>building</td>\n",
       "      <td>assembly_shop</td>\n",
       "      <td>55e92310-cb8e-4754-b622-597e124b03de</td>\n",
       "      <td>NaN</td>\n",
       "      <td>0</td>\n",
       "      <td>2020-05-04 00:00:01</td>\n",
       "      <td>1.22</td>\n",
       "    </tr>\n",
       "    <tr>\n",
       "      <td>2</td>\n",
       "      <td>2020-05-05 19:24:02</td>\n",
       "      <td>building</td>\n",
       "      <td>assembly_shop</td>\n",
       "      <td>55e92310-cb8e-4754-b622-597e124b03de</td>\n",
       "      <td>NaN</td>\n",
       "      <td>0</td>\n",
       "      <td>2020-05-04 00:00:01</td>\n",
       "      <td>1.81</td>\n",
       "    </tr>\n",
       "    <tr>\n",
       "      <td>3</td>\n",
       "      <td>2020-05-05 20:59:19</td>\n",
       "      <td>building</td>\n",
       "      <td>assembly_shop</td>\n",
       "      <td>55e92310-cb8e-4754-b622-597e124b03de</td>\n",
       "      <td>NaN</td>\n",
       "      <td>0</td>\n",
       "      <td>2020-05-04 00:00:01</td>\n",
       "      <td>1.87</td>\n",
       "    </tr>\n",
       "    <tr>\n",
       "      <td>4</td>\n",
       "      <td>2020-05-06 00:52:56</td>\n",
       "      <td>building</td>\n",
       "      <td>assembly_shop</td>\n",
       "      <td>55e92310-cb8e-4754-b622-597e124b03de</td>\n",
       "      <td>NaN</td>\n",
       "      <td>0</td>\n",
       "      <td>2020-05-04 00:00:01</td>\n",
       "      <td>2.04</td>\n",
       "    </tr>\n",
       "  </tbody>\n",
       "</table>\n",
       "</div>"
      ],
      "text/plain": [
       "       event_datetime     event  building_type  \\\n",
       "0 2020-05-04 00:00:01  building  assembly_shop   \n",
       "1 2020-05-05 05:20:15  building  assembly_shop   \n",
       "2 2020-05-05 19:24:02  building  assembly_shop   \n",
       "3 2020-05-05 20:59:19  building  assembly_shop   \n",
       "4 2020-05-06 00:52:56  building  assembly_shop   \n",
       "\n",
       "                                user_id project_type  user_level  \\\n",
       "0  55e92310-cb8e-4754-b622-597e124b03de          NaN           0   \n",
       "1  55e92310-cb8e-4754-b622-597e124b03de          NaN           0   \n",
       "2  55e92310-cb8e-4754-b622-597e124b03de          NaN           0   \n",
       "3  55e92310-cb8e-4754-b622-597e124b03de          NaN           0   \n",
       "4  55e92310-cb8e-4754-b622-597e124b03de          NaN           0   \n",
       "\n",
       "                  min  duration  \n",
       "0 2020-05-04 00:00:01      0.00  \n",
       "1 2020-05-04 00:00:01      1.22  \n",
       "2 2020-05-04 00:00:01      1.81  \n",
       "3 2020-05-04 00:00:01      1.87  \n",
       "4 2020-05-04 00:00:01      2.04  "
      ]
     },
     "execution_count": 37,
     "metadata": {},
     "output_type": "execute_result"
    }
   ],
   "source": [
    "first_build.head(5)"
   ]
  },
  {
   "cell_type": "code",
   "execution_count": 38,
   "metadata": {},
   "outputs": [
    {
     "name": "stdout",
     "output_type": "stream",
     "text": [
      "Wall time: 16.3 s\n"
     ]
    }
   ],
   "source": [
    "%%time\n",
    "stage = [] # sheet for counters\n",
    "counter = 0 # building / step counter\n",
    "stage.append(counter)\n",
    "stage_duration = [] # sheet for building duration\n",
    "stage_duration.append((first_build.loc[0,'event_datetime'] - first_build.loc[0,'min']) / pd.to_timedelta(1, unit='D'))\n",
    "\n",
    "    \n",
    "for i in range(len(first_build['user_id'])-1):\n",
    "    if first_build.loc[i+1,'user_id'] == first_build.loc[i,'user_id']:\n",
    "        counter += 1\n",
    "        stage.append(counter)\n",
    "        build_time = np.round(first_build.loc[i+1,'duration'] - first_build.loc[i,'duration'],2)\n",
    "        stage_duration.append(build_time)\n",
    "    else:\n",
    "        counter = 0\n",
    "        stage.append(counter)\n",
    "        build_time = np.round((first_build.loc[i+1,'event_datetime'] - first_build.loc[i+1,'min']) / pd.to_timedelta(1, unit='D'),2)\n",
    "        stage_duration.append(build_time)"
   ]
  },
  {
   "cell_type": "code",
   "execution_count": 39,
   "metadata": {},
   "outputs": [
    {
     "data": {
      "text/html": [
       "<div>\n",
       "<style scoped>\n",
       "    .dataframe tbody tr th:only-of-type {\n",
       "        vertical-align: middle;\n",
       "    }\n",
       "\n",
       "    .dataframe tbody tr th {\n",
       "        vertical-align: top;\n",
       "    }\n",
       "\n",
       "    .dataframe thead th {\n",
       "        text-align: right;\n",
       "    }\n",
       "</style>\n",
       "<table border=\"1\" class=\"dataframe\">\n",
       "  <thead>\n",
       "    <tr style=\"text-align: right;\">\n",
       "      <th></th>\n",
       "      <th>event_datetime</th>\n",
       "      <th>event</th>\n",
       "      <th>building_type</th>\n",
       "      <th>user_id</th>\n",
       "      <th>project_type</th>\n",
       "      <th>user_level</th>\n",
       "      <th>min</th>\n",
       "      <th>duration</th>\n",
       "      <th>stage</th>\n",
       "      <th>stage_duration</th>\n",
       "    </tr>\n",
       "  </thead>\n",
       "  <tbody>\n",
       "    <tr>\n",
       "      <td>0</td>\n",
       "      <td>2020-05-04 00:00:01</td>\n",
       "      <td>building</td>\n",
       "      <td>assembly_shop</td>\n",
       "      <td>55e92310-cb8e-4754-b622-597e124b03de</td>\n",
       "      <td>NaN</td>\n",
       "      <td>0</td>\n",
       "      <td>2020-05-04 00:00:01</td>\n",
       "      <td>0.00</td>\n",
       "      <td>0</td>\n",
       "      <td>0.00</td>\n",
       "    </tr>\n",
       "    <tr>\n",
       "      <td>1</td>\n",
       "      <td>2020-05-05 05:20:15</td>\n",
       "      <td>building</td>\n",
       "      <td>assembly_shop</td>\n",
       "      <td>55e92310-cb8e-4754-b622-597e124b03de</td>\n",
       "      <td>NaN</td>\n",
       "      <td>0</td>\n",
       "      <td>2020-05-04 00:00:01</td>\n",
       "      <td>1.22</td>\n",
       "      <td>1</td>\n",
       "      <td>1.22</td>\n",
       "    </tr>\n",
       "    <tr>\n",
       "      <td>2</td>\n",
       "      <td>2020-05-05 19:24:02</td>\n",
       "      <td>building</td>\n",
       "      <td>assembly_shop</td>\n",
       "      <td>55e92310-cb8e-4754-b622-597e124b03de</td>\n",
       "      <td>NaN</td>\n",
       "      <td>0</td>\n",
       "      <td>2020-05-04 00:00:01</td>\n",
       "      <td>1.81</td>\n",
       "      <td>2</td>\n",
       "      <td>0.59</td>\n",
       "    </tr>\n",
       "    <tr>\n",
       "      <td>3</td>\n",
       "      <td>2020-05-05 20:59:19</td>\n",
       "      <td>building</td>\n",
       "      <td>assembly_shop</td>\n",
       "      <td>55e92310-cb8e-4754-b622-597e124b03de</td>\n",
       "      <td>NaN</td>\n",
       "      <td>0</td>\n",
       "      <td>2020-05-04 00:00:01</td>\n",
       "      <td>1.87</td>\n",
       "      <td>3</td>\n",
       "      <td>0.06</td>\n",
       "    </tr>\n",
       "    <tr>\n",
       "      <td>4</td>\n",
       "      <td>2020-05-06 00:52:56</td>\n",
       "      <td>building</td>\n",
       "      <td>assembly_shop</td>\n",
       "      <td>55e92310-cb8e-4754-b622-597e124b03de</td>\n",
       "      <td>NaN</td>\n",
       "      <td>0</td>\n",
       "      <td>2020-05-04 00:00:01</td>\n",
       "      <td>2.04</td>\n",
       "      <td>4</td>\n",
       "      <td>0.17</td>\n",
       "    </tr>\n",
       "  </tbody>\n",
       "</table>\n",
       "</div>"
      ],
      "text/plain": [
       "       event_datetime     event  building_type  \\\n",
       "0 2020-05-04 00:00:01  building  assembly_shop   \n",
       "1 2020-05-05 05:20:15  building  assembly_shop   \n",
       "2 2020-05-05 19:24:02  building  assembly_shop   \n",
       "3 2020-05-05 20:59:19  building  assembly_shop   \n",
       "4 2020-05-06 00:52:56  building  assembly_shop   \n",
       "\n",
       "                                user_id project_type  user_level  \\\n",
       "0  55e92310-cb8e-4754-b622-597e124b03de          NaN           0   \n",
       "1  55e92310-cb8e-4754-b622-597e124b03de          NaN           0   \n",
       "2  55e92310-cb8e-4754-b622-597e124b03de          NaN           0   \n",
       "3  55e92310-cb8e-4754-b622-597e124b03de          NaN           0   \n",
       "4  55e92310-cb8e-4754-b622-597e124b03de          NaN           0   \n",
       "\n",
       "                  min  duration  stage  stage_duration  \n",
       "0 2020-05-04 00:00:01      0.00      0            0.00  \n",
       "1 2020-05-04 00:00:01      1.22      1            1.22  \n",
       "2 2020-05-04 00:00:01      1.81      2            0.59  \n",
       "3 2020-05-04 00:00:01      1.87      3            0.06  \n",
       "4 2020-05-04 00:00:01      2.04      4            0.17  "
      ]
     },
     "execution_count": 39,
     "metadata": {},
     "output_type": "execute_result"
    }
   ],
   "source": [
    "first_build['stage'] = stage\n",
    "first_build['stage_duration'] = stage_duration\n",
    "first_build.head(5)"
   ]
  },
  {
   "cell_type": "code",
   "execution_count": 40,
   "metadata": {},
   "outputs": [
    {
     "data": {
      "text/html": [
       "<div>\n",
       "<style scoped>\n",
       "    .dataframe tbody tr th:only-of-type {\n",
       "        vertical-align: middle;\n",
       "    }\n",
       "\n",
       "    .dataframe tbody tr th {\n",
       "        vertical-align: top;\n",
       "    }\n",
       "\n",
       "    .dataframe thead th {\n",
       "        text-align: right;\n",
       "    }\n",
       "</style>\n",
       "<table border=\"1\" class=\"dataframe\">\n",
       "  <thead>\n",
       "    <tr style=\"text-align: right;\">\n",
       "      <th></th>\n",
       "      <th>count</th>\n",
       "      <th>median</th>\n",
       "    </tr>\n",
       "    <tr>\n",
       "      <th>stage</th>\n",
       "      <th></th>\n",
       "      <th></th>\n",
       "    </tr>\n",
       "  </thead>\n",
       "  <tbody>\n",
       "    <tr>\n",
       "      <td>0</td>\n",
       "      <td>13576</td>\n",
       "      <td>0.000</td>\n",
       "    </tr>\n",
       "    <tr>\n",
       "      <td>1</td>\n",
       "      <td>13519</td>\n",
       "      <td>0.990</td>\n",
       "    </tr>\n",
       "    <tr>\n",
       "      <td>2</td>\n",
       "      <td>13290</td>\n",
       "      <td>0.890</td>\n",
       "    </tr>\n",
       "    <tr>\n",
       "      <td>3</td>\n",
       "      <td>12786</td>\n",
       "      <td>0.800</td>\n",
       "    </tr>\n",
       "    <tr>\n",
       "      <td>4</td>\n",
       "      <td>12071</td>\n",
       "      <td>0.780</td>\n",
       "    </tr>\n",
       "    <tr>\n",
       "      <td>5</td>\n",
       "      <td>11124</td>\n",
       "      <td>0.770</td>\n",
       "    </tr>\n",
       "    <tr>\n",
       "      <td>6</td>\n",
       "      <td>9878</td>\n",
       "      <td>0.780</td>\n",
       "    </tr>\n",
       "    <tr>\n",
       "      <td>7</td>\n",
       "      <td>9349</td>\n",
       "      <td>0.790</td>\n",
       "    </tr>\n",
       "    <tr>\n",
       "      <td>8</td>\n",
       "      <td>8788</td>\n",
       "      <td>0.780</td>\n",
       "    </tr>\n",
       "    <tr>\n",
       "      <td>9</td>\n",
       "      <td>7793</td>\n",
       "      <td>0.750</td>\n",
       "    </tr>\n",
       "    <tr>\n",
       "      <td>10</td>\n",
       "      <td>6527</td>\n",
       "      <td>0.790</td>\n",
       "    </tr>\n",
       "    <tr>\n",
       "      <td>11</td>\n",
       "      <td>5508</td>\n",
       "      <td>0.730</td>\n",
       "    </tr>\n",
       "    <tr>\n",
       "      <td>12</td>\n",
       "      <td>4178</td>\n",
       "      <td>0.770</td>\n",
       "    </tr>\n",
       "    <tr>\n",
       "      <td>13</td>\n",
       "      <td>2981</td>\n",
       "      <td>0.750</td>\n",
       "    </tr>\n",
       "    <tr>\n",
       "      <td>14</td>\n",
       "      <td>1952</td>\n",
       "      <td>0.820</td>\n",
       "    </tr>\n",
       "    <tr>\n",
       "      <td>15</td>\n",
       "      <td>1121</td>\n",
       "      <td>0.750</td>\n",
       "    </tr>\n",
       "    <tr>\n",
       "      <td>16</td>\n",
       "      <td>637</td>\n",
       "      <td>0.770</td>\n",
       "    </tr>\n",
       "    <tr>\n",
       "      <td>17</td>\n",
       "      <td>335</td>\n",
       "      <td>0.680</td>\n",
       "    </tr>\n",
       "    <tr>\n",
       "      <td>18</td>\n",
       "      <td>154</td>\n",
       "      <td>0.665</td>\n",
       "    </tr>\n",
       "    <tr>\n",
       "      <td>19</td>\n",
       "      <td>54</td>\n",
       "      <td>0.720</td>\n",
       "    </tr>\n",
       "    <tr>\n",
       "      <td>20</td>\n",
       "      <td>15</td>\n",
       "      <td>0.620</td>\n",
       "    </tr>\n",
       "    <tr>\n",
       "      <td>21</td>\n",
       "      <td>3</td>\n",
       "      <td>0.740</td>\n",
       "    </tr>\n",
       "  </tbody>\n",
       "</table>\n",
       "</div>"
      ],
      "text/plain": [
       "       count  median\n",
       "stage               \n",
       "0      13576   0.000\n",
       "1      13519   0.990\n",
       "2      13290   0.890\n",
       "3      12786   0.800\n",
       "4      12071   0.780\n",
       "5      11124   0.770\n",
       "6       9878   0.780\n",
       "7       9349   0.790\n",
       "8       8788   0.780\n",
       "9       7793   0.750\n",
       "10      6527   0.790\n",
       "11      5508   0.730\n",
       "12      4178   0.770\n",
       "13      2981   0.750\n",
       "14      1952   0.820\n",
       "15      1121   0.750\n",
       "16       637   0.770\n",
       "17       335   0.680\n",
       "18       154   0.665\n",
       "19        54   0.720\n",
       "20        15   0.620\n",
       "21         3   0.740"
      ]
     },
     "execution_count": 40,
     "metadata": {},
     "output_type": "execute_result"
    }
   ],
   "source": [
    "first_build.pivot_table(index= 'stage', values = 'stage_duration', aggfunc = {'median','count'})"
   ]
  },
  {
   "cell_type": "code",
   "execution_count": 41,
   "metadata": {},
   "outputs": [
    {
     "data": {
      "text/html": [
       "<div>\n",
       "<style scoped>\n",
       "    .dataframe tbody tr th:only-of-type {\n",
       "        vertical-align: middle;\n",
       "    }\n",
       "\n",
       "    .dataframe tbody tr th {\n",
       "        vertical-align: top;\n",
       "    }\n",
       "\n",
       "    .dataframe thead th {\n",
       "        text-align: right;\n",
       "    }\n",
       "</style>\n",
       "<table border=\"1\" class=\"dataframe\">\n",
       "  <thead>\n",
       "    <tr style=\"text-align: right;\">\n",
       "      <th></th>\n",
       "      <th>nuniq_users</th>\n",
       "      <th>shift</th>\n",
       "      <th>ratio</th>\n",
       "      <th>end_ratio</th>\n",
       "    </tr>\n",
       "    <tr>\n",
       "      <th>stage</th>\n",
       "      <th></th>\n",
       "      <th></th>\n",
       "      <th></th>\n",
       "      <th></th>\n",
       "    </tr>\n",
       "  </thead>\n",
       "  <tbody>\n",
       "    <tr>\n",
       "      <td>0</td>\n",
       "      <td>13576</td>\n",
       "      <td>NaN</td>\n",
       "      <td>NaN</td>\n",
       "      <td>1.00</td>\n",
       "    </tr>\n",
       "    <tr>\n",
       "      <td>1</td>\n",
       "      <td>13519</td>\n",
       "      <td>13576.0</td>\n",
       "      <td>1.00</td>\n",
       "      <td>1.00</td>\n",
       "    </tr>\n",
       "    <tr>\n",
       "      <td>2</td>\n",
       "      <td>13290</td>\n",
       "      <td>13519.0</td>\n",
       "      <td>0.98</td>\n",
       "      <td>0.98</td>\n",
       "    </tr>\n",
       "    <tr>\n",
       "      <td>3</td>\n",
       "      <td>12786</td>\n",
       "      <td>13290.0</td>\n",
       "      <td>0.96</td>\n",
       "      <td>0.94</td>\n",
       "    </tr>\n",
       "    <tr>\n",
       "      <td>4</td>\n",
       "      <td>12071</td>\n",
       "      <td>12786.0</td>\n",
       "      <td>0.94</td>\n",
       "      <td>0.89</td>\n",
       "    </tr>\n",
       "    <tr>\n",
       "      <td>5</td>\n",
       "      <td>11124</td>\n",
       "      <td>12071.0</td>\n",
       "      <td>0.92</td>\n",
       "      <td>0.82</td>\n",
       "    </tr>\n",
       "    <tr>\n",
       "      <td>6</td>\n",
       "      <td>9878</td>\n",
       "      <td>11124.0</td>\n",
       "      <td>0.89</td>\n",
       "      <td>0.73</td>\n",
       "    </tr>\n",
       "    <tr>\n",
       "      <td>7</td>\n",
       "      <td>9349</td>\n",
       "      <td>9878.0</td>\n",
       "      <td>0.95</td>\n",
       "      <td>0.69</td>\n",
       "    </tr>\n",
       "    <tr>\n",
       "      <td>8</td>\n",
       "      <td>8788</td>\n",
       "      <td>9349.0</td>\n",
       "      <td>0.94</td>\n",
       "      <td>0.65</td>\n",
       "    </tr>\n",
       "    <tr>\n",
       "      <td>9</td>\n",
       "      <td>7793</td>\n",
       "      <td>8788.0</td>\n",
       "      <td>0.89</td>\n",
       "      <td>0.57</td>\n",
       "    </tr>\n",
       "    <tr>\n",
       "      <td>10</td>\n",
       "      <td>6527</td>\n",
       "      <td>7793.0</td>\n",
       "      <td>0.84</td>\n",
       "      <td>0.48</td>\n",
       "    </tr>\n",
       "    <tr>\n",
       "      <td>11</td>\n",
       "      <td>5508</td>\n",
       "      <td>6527.0</td>\n",
       "      <td>0.84</td>\n",
       "      <td>0.41</td>\n",
       "    </tr>\n",
       "    <tr>\n",
       "      <td>12</td>\n",
       "      <td>4178</td>\n",
       "      <td>5508.0</td>\n",
       "      <td>0.76</td>\n",
       "      <td>0.31</td>\n",
       "    </tr>\n",
       "    <tr>\n",
       "      <td>13</td>\n",
       "      <td>2981</td>\n",
       "      <td>4178.0</td>\n",
       "      <td>0.71</td>\n",
       "      <td>0.22</td>\n",
       "    </tr>\n",
       "    <tr>\n",
       "      <td>14</td>\n",
       "      <td>1952</td>\n",
       "      <td>2981.0</td>\n",
       "      <td>0.65</td>\n",
       "      <td>0.14</td>\n",
       "    </tr>\n",
       "    <tr>\n",
       "      <td>15</td>\n",
       "      <td>1121</td>\n",
       "      <td>1952.0</td>\n",
       "      <td>0.57</td>\n",
       "      <td>0.08</td>\n",
       "    </tr>\n",
       "    <tr>\n",
       "      <td>16</td>\n",
       "      <td>637</td>\n",
       "      <td>1121.0</td>\n",
       "      <td>0.57</td>\n",
       "      <td>0.05</td>\n",
       "    </tr>\n",
       "    <tr>\n",
       "      <td>17</td>\n",
       "      <td>335</td>\n",
       "      <td>637.0</td>\n",
       "      <td>0.53</td>\n",
       "      <td>0.02</td>\n",
       "    </tr>\n",
       "    <tr>\n",
       "      <td>18</td>\n",
       "      <td>154</td>\n",
       "      <td>335.0</td>\n",
       "      <td>0.46</td>\n",
       "      <td>0.01</td>\n",
       "    </tr>\n",
       "    <tr>\n",
       "      <td>19</td>\n",
       "      <td>54</td>\n",
       "      <td>154.0</td>\n",
       "      <td>0.35</td>\n",
       "      <td>0.00</td>\n",
       "    </tr>\n",
       "    <tr>\n",
       "      <td>20</td>\n",
       "      <td>15</td>\n",
       "      <td>54.0</td>\n",
       "      <td>0.28</td>\n",
       "      <td>0.00</td>\n",
       "    </tr>\n",
       "    <tr>\n",
       "      <td>21</td>\n",
       "      <td>3</td>\n",
       "      <td>15.0</td>\n",
       "      <td>0.20</td>\n",
       "      <td>0.00</td>\n",
       "    </tr>\n",
       "  </tbody>\n",
       "</table>\n",
       "</div>"
      ],
      "text/plain": [
       "       nuniq_users    shift  ratio  end_ratio\n",
       "stage                                        \n",
       "0            13576      NaN    NaN       1.00\n",
       "1            13519  13576.0   1.00       1.00\n",
       "2            13290  13519.0   0.98       0.98\n",
       "3            12786  13290.0   0.96       0.94\n",
       "4            12071  12786.0   0.94       0.89\n",
       "5            11124  12071.0   0.92       0.82\n",
       "6             9878  11124.0   0.89       0.73\n",
       "7             9349   9878.0   0.95       0.69\n",
       "8             8788   9349.0   0.94       0.65\n",
       "9             7793   8788.0   0.89       0.57\n",
       "10            6527   7793.0   0.84       0.48\n",
       "11            5508   6527.0   0.84       0.41\n",
       "12            4178   5508.0   0.76       0.31\n",
       "13            2981   4178.0   0.71       0.22\n",
       "14            1952   2981.0   0.65       0.14\n",
       "15            1121   1952.0   0.57       0.08\n",
       "16             637   1121.0   0.57       0.05\n",
       "17             335    637.0   0.53       0.02\n",
       "18             154    335.0   0.46       0.01\n",
       "19              54    154.0   0.35       0.00\n",
       "20              15     54.0   0.28       0.00\n",
       "21               3     15.0   0.20       0.00"
      ]
     },
     "execution_count": 41,
     "metadata": {},
     "output_type": "execute_result"
    }
   ],
   "source": [
    "report = first_build.groupby('stage')['user_id'].nunique()\n",
    "report = report.to_frame()\n",
    "report = report.rename(columns = {'user_id': 'nuniq_users'})\n",
    "report['shift'] = report['nuniq_users'].shift(1)\n",
    "report['ratio'] = np.round(report['nuniq_users'] / report['shift'],2)\n",
    "report['end_ratio'] = np.round(report['nuniq_users'] / report['nuniq_users'].max(),2)\n",
    "report"
   ]
  },
  {
   "cell_type": "code",
   "execution_count": 42,
   "metadata": {},
   "outputs": [
    {
     "data": {
      "text/plain": [
       "0      0.000\n",
       "1      0.990\n",
       "2      1.880\n",
       "3      2.680\n",
       "4      3.460\n",
       "5      4.230\n",
       "6      5.010\n",
       "7      5.800\n",
       "8      6.580\n",
       "9      7.330\n",
       "10     8.120\n",
       "11     8.850\n",
       "12     9.620\n",
       "13    10.370\n",
       "14    11.190\n",
       "15    11.940\n",
       "16    12.710\n",
       "17    13.390\n",
       "18    14.055\n",
       "19    14.775\n",
       "20    15.395\n",
       "21    16.135\n",
       "Name: median, dtype: float64"
      ]
     },
     "execution_count": 42,
     "metadata": {},
     "output_type": "execute_result"
    }
   ],
   "source": [
    "find_stage = first_build.pivot_table(index= 'stage', \n",
    "                                     values = 'stage_duration', \n",
    "                                     aggfunc = {'median','count'}).reset_index().drop('stage', axis = 1)\n",
    "find_stage['median'].cumsum()"
   ]
  },
  {
   "cell_type": "markdown",
   "metadata": {},
   "source": [
    "**explain the time of the target event**"
   ]
  },
  {
   "cell_type": "markdown",
   "metadata": {},
   "source": [
    "1. the median lifespan of a user at the first level is 10.52, i.e. during this time, we must have time to lure the user into the game.\n",
    "2. most often, the user makes the first building immediately, half of the users after almost 5 days.\n",
    "3. the median duration of the first level is 11.56 days, i.e. most of the users leave the game without completing the first level.\n",
    "4. Each subsequent stage is fairly well balanced and users go through in 0.7-1 days.\n",
    "\n",
    "What problems are visible:\n",
    "\n",
    "- 11% of users cannot complete the 4th stage\n",
    "- 27% of users cannot complete the 6th stage\n",
    "- 43% cannot complete the 9th stage\n",
    "- 52% cannot complete stage 10\n",
    "- 59% - 86% cannot complete stages 11 to 14"
   ]
  },
  {
   "cell_type": "markdown",
   "metadata": {},
   "source": [
    "therefore, in order to retain the user, it is recommended to show ads in the following order after the user logs in:"
   ]
  },
  {
   "cell_type": "code",
   "execution_count": 43,
   "metadata": {
    "scrolled": true
   },
   "outputs": [
    {
     "name": "stdout",
     "output_type": "stream",
     "text": [
      "First ad run in stage 4, after about - 3.46 days\n",
      "Second ad run in stage 6, after about - 5.01 days\n",
      "Third ad run in stage 9, after about - 7.33 days\n",
      "Fourth ad run in stage 10, after about - 8.12 days\n",
      "Fifth ad run in stage 11, after about - 8.85 days\n",
      "Sixth ad run in stage 12, after about - 9.62 days\n",
      "Seventh ad run in stage 13, after about - 10.37 days\n"
     ]
    }
   ],
   "source": [
    "print ('First ad run in stage 4, after about -', np.round (find_stage ['median']. cumsum () [4], 2), 'days')\n",
    "print ('Second ad run in stage 6, after about -', np.round (find_stage ['median']. cumsum () [6], 2), 'days')\n",
    "print ('Third ad run in stage 9, after about -', np.round (find_stage ['median']. cumsum () [9], 2), 'days')\n",
    "print ('Fourth ad run in stage 10, after about -', np.round (find_stage ['median']. cumsum () [10], 2), 'days')\n",
    "print ('Fifth ad run in stage 11, after about -', np.round (find_stage ['median']. cumsum () [11], 2), 'days')\n",
    "print ('Sixth ad run in stage 12, after about -', np.round (find_stage ['median']. cumsum () [12], 2), 'days')\n",
    "print ('Seventh ad run in stage 13, after about -', np.round (find_stage ['median']. cumsum () [13], 2), 'days')"
   ]
  },
  {
   "cell_type": "markdown",
   "metadata": {},
   "source": [
    "**Check marketing costs**"
   ]
  },
  {
   "cell_type": "code",
   "execution_count": 44,
   "metadata": {},
   "outputs": [
    {
     "data": {
      "text/html": [
       "<div>\n",
       "<style scoped>\n",
       "    .dataframe tbody tr th:only-of-type {\n",
       "        vertical-align: middle;\n",
       "    }\n",
       "\n",
       "    .dataframe tbody tr th {\n",
       "        vertical-align: top;\n",
       "    }\n",
       "\n",
       "    .dataframe thead th {\n",
       "        text-align: right;\n",
       "    }\n",
       "</style>\n",
       "<table border=\"1\" class=\"dataframe\">\n",
       "  <thead>\n",
       "    <tr style=\"text-align: right;\">\n",
       "      <th>source</th>\n",
       "      <th>day</th>\n",
       "      <th>facebook_ads</th>\n",
       "      <th>instagram_new_adverts</th>\n",
       "      <th>yandex_direct</th>\n",
       "      <th>youtube_channel_reklama</th>\n",
       "    </tr>\n",
       "  </thead>\n",
       "  <tbody>\n",
       "    <tr>\n",
       "      <td>0</td>\n",
       "      <td>2020-05-03</td>\n",
       "      <td>935.882786</td>\n",
       "      <td>943.204717</td>\n",
       "      <td>969.139394</td>\n",
       "      <td>454.224943</td>\n",
       "    </tr>\n",
       "    <tr>\n",
       "      <td>1</td>\n",
       "      <td>2020-05-04</td>\n",
       "      <td>548.354480</td>\n",
       "      <td>502.925451</td>\n",
       "      <td>554.651494</td>\n",
       "      <td>259.073224</td>\n",
       "    </tr>\n",
       "    <tr>\n",
       "      <td>2</td>\n",
       "      <td>2020-05-05</td>\n",
       "      <td>260.185754</td>\n",
       "      <td>313.970984</td>\n",
       "      <td>308.232990</td>\n",
       "      <td>147.041741</td>\n",
       "    </tr>\n",
       "    <tr>\n",
       "      <td>3</td>\n",
       "      <td>2020-05-06</td>\n",
       "      <td>177.982200</td>\n",
       "      <td>173.071145</td>\n",
       "      <td>180.917099</td>\n",
       "      <td>88.506074</td>\n",
       "    </tr>\n",
       "    <tr>\n",
       "      <td>4</td>\n",
       "      <td>2020-05-07</td>\n",
       "      <td>111.766796</td>\n",
       "      <td>109.915254</td>\n",
       "      <td>114.429338</td>\n",
       "      <td>55.740645</td>\n",
       "    </tr>\n",
       "    <tr>\n",
       "      <td>5</td>\n",
       "      <td>2020-05-08</td>\n",
       "      <td>68.009276</td>\n",
       "      <td>71.578739</td>\n",
       "      <td>62.961630</td>\n",
       "      <td>40.217907</td>\n",
       "    </tr>\n",
       "    <tr>\n",
       "      <td>6</td>\n",
       "      <td>2020-05-09</td>\n",
       "      <td>38.723350</td>\n",
       "      <td>46.775400</td>\n",
       "      <td>42.779505</td>\n",
       "      <td>23.314669</td>\n",
       "    </tr>\n",
       "  </tbody>\n",
       "</table>\n",
       "</div>"
      ],
      "text/plain": [
       "source        day  facebook_ads  instagram_new_adverts  yandex_direct  \\\n",
       "0      2020-05-03    935.882786             943.204717     969.139394   \n",
       "1      2020-05-04    548.354480             502.925451     554.651494   \n",
       "2      2020-05-05    260.185754             313.970984     308.232990   \n",
       "3      2020-05-06    177.982200             173.071145     180.917099   \n",
       "4      2020-05-07    111.766796             109.915254     114.429338   \n",
       "5      2020-05-08     68.009276              71.578739      62.961630   \n",
       "6      2020-05-09     38.723350              46.775400      42.779505   \n",
       "\n",
       "source  youtube_channel_reklama  \n",
       "0                    454.224943  \n",
       "1                    259.073224  \n",
       "2                    147.041741  \n",
       "3                     88.506074  \n",
       "4                     55.740645  \n",
       "5                     40.217907  \n",
       "6                     23.314669  "
      ]
     },
     "execution_count": 44,
     "metadata": {},
     "output_type": "execute_result"
    }
   ],
   "source": [
    "marketing = ad_costs_C.pivot_table(index = ['day'], columns = 'source', values = 'cost', aggfunc = 'sum' ).reset_index()\n",
    "marketing"
   ]
  },
  {
   "cell_type": "code",
   "execution_count": 45,
   "metadata": {},
   "outputs": [
    {
     "data": {
      "image/png": "[encoded data removed]",
      "text/plain": [
       "<Figure size 1296x504 with 1 Axes>"
      ]
     },
     "metadata": {
      "needs_background": "light"
     },
     "output_type": "display_data"
    }
   ],
   "source": [
    "plt.figure(figsize=(18, 7))\n",
    "plt.grid(True)\n",
    "plt.xlabel('Day', fontsize=18)\n",
    "plt.ylabel('Spend cost', fontsize=18)\n",
    "plt.title('Marketing cost', fontsize=18)\n",
    "\n",
    "\n",
    "for i in ['facebook_ads','instagram_new_adverts', 'yandex_direct', 'youtube_channel_reklama']:\n",
    "        plt.plot('day', \n",
    "                 i, \n",
    "                 data=marketing, \n",
    "                 marker='o', \n",
    "                 linewidth=4,\n",
    "                 label = i\n",
    "                )\n",
    "plt.legend(fontsize = 'x-large');"
   ]
  },
  {
   "cell_type": "code",
   "execution_count": 46,
   "metadata": {},
   "outputs": [
    {
     "data": {
      "image/png": "[encoded data removed]",
      "text/plain": [
       "<Figure size 1296x504 with 1 Axes>"
      ]
     },
     "metadata": {
      "needs_background": "light"
     },
     "output_type": "display_data"
    }
   ],
   "source": [
    "game_actions_C['event_datetime'] = game_actions_C['event_datetime'].apply(lambda x: pd.Timestamp(x).strftime('%Y-%m-%d'))\n",
    "users_came = game_actions_C.groupby(['event_datetime'])['user_id'].nunique().reset_index()\n",
    "users_came.columns = ['event_datetime', 'n_uniq']\n",
    "\n",
    "plt.figure(figsize=(18, 7))\n",
    "plt.grid(True)\n",
    "plt.xlabel('Day', fontsize=18)\n",
    "plt.ylabel('Number of unique users', fontsize=18)\n",
    "plt.title('Number of unique users', fontsize=18)\n",
    "\n",
    "\n",
    "plt.plot('event_datetime',\n",
    "         'n_uniq', \n",
    "         data=users_came, \n",
    "         marker='o', \n",
    "         linewidth=4\n",
    "        )\n",
    "plt.legend(fontsize = 'x-large');\n",
    "plt.xticks(rotation=90);"
   ]
  },
  {
   "cell_type": "markdown",
   "metadata": {},
   "source": [
    "Users started arriving the next day after the launch of the marketing campaign, most likely the money arrived at the site within 1 business day."
   ]
  },
  {
   "cell_type": "code",
   "execution_count": 47,
   "metadata": {},
   "outputs": [
    {
     "data": {
      "text/html": [
       "<div>\n",
       "<style scoped>\n",
       "    .dataframe tbody tr th:only-of-type {\n",
       "        vertical-align: middle;\n",
       "    }\n",
       "\n",
       "    .dataframe tbody tr th {\n",
       "        vertical-align: top;\n",
       "    }\n",
       "\n",
       "    .dataframe thead th {\n",
       "        text-align: right;\n",
       "    }\n",
       "</style>\n",
       "<table border=\"1\" class=\"dataframe\">\n",
       "  <thead>\n",
       "    <tr style=\"text-align: right;\">\n",
       "      <th>source</th>\n",
       "      <th>event_datetime</th>\n",
       "      <th>facebook_ads</th>\n",
       "      <th>instagram_new_adverts</th>\n",
       "      <th>yandex_direct</th>\n",
       "      <th>youtube_channel_reklama</th>\n",
       "    </tr>\n",
       "  </thead>\n",
       "  <tbody>\n",
       "    <tr>\n",
       "      <td>0</td>\n",
       "      <td>2020-05-04</td>\n",
       "      <td>1184.0</td>\n",
       "      <td>1452.0</td>\n",
       "      <td>2078.0</td>\n",
       "      <td>1146.0</td>\n",
       "    </tr>\n",
       "    <tr>\n",
       "      <td>1</td>\n",
       "      <td>2020-05-05</td>\n",
       "      <td>1328.0</td>\n",
       "      <td>1539.0</td>\n",
       "      <td>2291.0</td>\n",
       "      <td>1224.0</td>\n",
       "    </tr>\n",
       "    <tr>\n",
       "      <td>2</td>\n",
       "      <td>2020-05-06</td>\n",
       "      <td>1389.0</td>\n",
       "      <td>1670.0</td>\n",
       "      <td>2445.0</td>\n",
       "      <td>1350.0</td>\n",
       "    </tr>\n",
       "    <tr>\n",
       "      <td>3</td>\n",
       "      <td>2020-05-07</td>\n",
       "      <td>1535.0</td>\n",
       "      <td>1802.0</td>\n",
       "      <td>2613.0</td>\n",
       "      <td>1434.0</td>\n",
       "    </tr>\n",
       "    <tr>\n",
       "      <td>4</td>\n",
       "      <td>2020-05-08</td>\n",
       "      <td>1583.0</td>\n",
       "      <td>1962.0</td>\n",
       "      <td>2784.0</td>\n",
       "      <td>1562.0</td>\n",
       "    </tr>\n",
       "  </tbody>\n",
       "</table>\n",
       "</div>"
      ],
      "text/plain": [
       "source event_datetime  facebook_ads  instagram_new_adverts  yandex_direct  \\\n",
       "0          2020-05-04        1184.0                 1452.0         2078.0   \n",
       "1          2020-05-05        1328.0                 1539.0         2291.0   \n",
       "2          2020-05-06        1389.0                 1670.0         2445.0   \n",
       "3          2020-05-07        1535.0                 1802.0         2613.0   \n",
       "4          2020-05-08        1583.0                 1962.0         2784.0   \n",
       "\n",
       "source  youtube_channel_reklama  \n",
       "0                        1146.0  \n",
       "1                        1224.0  \n",
       "2                        1350.0  \n",
       "3                        1434.0  \n",
       "4                        1562.0  "
      ]
     },
     "execution_count": 47,
     "metadata": {},
     "output_type": "execute_result"
    }
   ],
   "source": [
    "by_channel = game_actions_C.groupby(['event_datetime','user_id'])['event'].count().reset_index()\n",
    "by_channel = game_actions_C.merge(user_source_C, left_on='user_id', right_on='user_id')\n",
    "by_channel = by_channel.pivot_table(index = ['event_datetime'], columns = 'source', values = 'user_id', aggfunc = 'nunique' ).reset_index()\n",
    "by_channel.head()"
   ]
  },
  {
   "cell_type": "code",
   "execution_count": 48,
   "metadata": {},
   "outputs": [
    {
     "data": {
      "image/png": "[encoded data removed]",
      "text/plain": [
       "<Figure size 1296x504 with 1 Axes>"
      ]
     },
     "metadata": {
      "needs_background": "light"
     },
     "output_type": "display_data"
    }
   ],
   "source": [
    "plt.figure(figsize=(18, 7))\n",
    "plt.grid(True)\n",
    "plt.xlabel('Day', fontsize=18)\n",
    "plt.ylabel('Unique users', fontsize=18)\n",
    "plt.title('Source by user', fontsize=18)\n",
    "\n",
    "\n",
    "for i in ['facebook_ads','instagram_new_adverts', 'yandex_direct', 'youtube_channel_reklama']:\n",
    "        plt.plot('event_datetime', \n",
    "                 i, \n",
    "                 data=by_channel, \n",
    "                 marker='o', \n",
    "                 linewidth=4,\n",
    "                 label = i\n",
    "                )\n",
    "plt.legend(fontsize = 'x-large');\n",
    "plt.xticks(rotation=90);"
   ]
  },
  {
   "cell_type": "markdown",
   "metadata": {},
   "source": [
    "**The graph shows that most users come from Yandex Direct and Instagram, from YouTube and Facebook they come less often, but this does not mean that these channels are less effective**"
   ]
  },
  {
   "cell_type": "markdown",
   "metadata": {},
   "source": [
    "**Let's calculate the metrics**"
   ]
  },
  {
   "cell_type": "code",
   "execution_count": 57,
   "metadata": {},
   "outputs": [],
   "source": [
    "def metrics(Rate):\n",
    "\n",
    "    # Global metrics\n",
    "    Margin = Rate * 100\n",
    "    Costs = ad_costs_C['cost'].sum() # total costs\n",
    "    Revenue = np.round(Costs * (1 + Rate), 2) # revenue\n",
    "    Profit = np.round(Revenue - Costs, 2) # profit\n",
    "    N_unique = game_actions_C['user_id'].nunique() # number of unique users\n",
    "    CPAcq = np.round(Costs / N_unique, 2) # cost per user Cost Per Acquisition\n",
    "    ARPU = np.round(Revenue / N_unique, 2) # user income\n",
    "    SC = np.round(ARPU / 7.3) # cost of 1 ad impression for one user\n",
    "\n",
    "    print('--- Scenario calculation, Margin = {:.2%} ---'.format(Rate))\n",
    "    print('Profit =',Profit)\n",
    "    print('CPAcq =',CPAcq)\n",
    "    print('ARPU =',ARPU)\n",
    "    print('Profit / Loss per user =', np.round (ARPU - CPAcq, 2))\n",
    "    print('cost of 1 ad impression for one user =', SC)\n",
    "    print()\n",
    "\n",
    "#Retention\n",
    "#Lifetime (LT) "
   ]
  },
  {
   "cell_type": "code",
   "execution_count": 58,
   "metadata": {
    "scrolled": false
   },
   "outputs": [
    {
     "name": "stdout",
     "output_type": "stream",
     "text": [
      "--- Scenario calculation, Margin = 0.00% ---\n",
      "Profit = 0.0\n",
      "CPAcq = 0.56\n",
      "ARPU = 0.56\n",
      "Profit / Loss per user = 0.0\n",
      "cost of 1 ad impression for one user = 0.0\n",
      "\n",
      "--- Scenario calculation, Margin = 10.00% ---\n",
      "Profit = 760.35\n",
      "CPAcq = 0.56\n",
      "ARPU = 0.62\n",
      "Profit / Loss per user = 0.06\n",
      "cost of 1 ad impression for one user = 0.0\n",
      "\n",
      "--- Scenario calculation, Margin = 20.00% ---\n",
      "Profit = 1520.71\n",
      "CPAcq = 0.56\n",
      "ARPU = 0.67\n",
      "Profit / Loss per user = 0.11\n",
      "cost of 1 ad impression for one user = 0.0\n",
      "\n",
      "--- Scenario calculation, Margin = 30.00% ---\n",
      "Profit = 2281.07\n",
      "CPAcq = 0.56\n",
      "ARPU = 0.73\n",
      "Profit / Loss per user = 0.17\n",
      "cost of 1 ad impression for one user = 0.0\n",
      "\n",
      "--- Scenario calculation, Margin = 40.00% ---\n",
      "Profit = 3041.43\n",
      "CPAcq = 0.56\n",
      "ARPU = 0.78\n",
      "Profit / Loss per user = 0.22\n",
      "cost of 1 ad impression for one user = 0.0\n",
      "\n"
     ]
    }
   ],
   "source": [
    "# calculation of various scenarios\n",
    "for i in np.arange(0.0, 0.5, 0.1):\n",
    "    metrics(i)"
   ]
  },
  {
   "cell_type": "code",
   "execution_count": 59,
   "metadata": {},
   "outputs": [
    {
     "name": "stdout",
     "output_type": "stream",
     "text": [
      "DAU = 2884\n",
      "WAU = 6120\n",
      "MAU = 6802\n"
     ]
    }
   ],
   "source": [
    "# User Acquisition metrics\n",
    "game_actions_C['event_datetime'] = pd.to_datetime(game_actions_C['event_datetime'], format='%Y-%m-%d')\n",
    "game_actions_C['session_month'] = game_actions_C['event_datetime'].dt.month\n",
    "game_actions_C['session_week']  = game_actions_C['event_datetime'].dt.week\n",
    "game_actions_C['session_date'] = game_actions_C['event_datetime'].dt.date\n",
    "    \n",
    "dau_total = int(game_actions_C.groupby('session_date').agg({'user_id': 'nunique'}).mean())\n",
    "wau_total = int(game_actions_C.groupby(['session_week']).agg({'user_id': 'nunique'}).mean())\n",
    "mau_total = int(game_actions_C.groupby(['session_month']).agg({'user_id': 'nunique'}).mean())\n",
    "    \n",
    "print('DAU =', dau_total)\n",
    "print('WAU =', wau_total)\n",
    "print('MAU =', mau_total)\n",
    "    \n",
    "#Retention\n",
    "#Lifetime (LT) "
   ]
  },
  {
   "cell_type": "code",
   "execution_count": 60,
   "metadata": {
    "scrolled": true
   },
   "outputs": [
    {
     "data": {
      "text/html": [
       "<div>\n",
       "<style scoped>\n",
       "    .dataframe tbody tr th:only-of-type {\n",
       "        vertical-align: middle;\n",
       "    }\n",
       "\n",
       "    .dataframe tbody tr th {\n",
       "        vertical-align: top;\n",
       "    }\n",
       "\n",
       "    .dataframe thead th {\n",
       "        text-align: right;\n",
       "    }\n",
       "</style>\n",
       "<table border=\"1\" class=\"dataframe\">\n",
       "  <thead>\n",
       "    <tr style=\"text-align: right;\">\n",
       "      <th></th>\n",
       "      <th>activity_date</th>\n",
       "      <th>user_id</th>\n",
       "      <th>first_activity_date</th>\n",
       "      <th>activity_week</th>\n",
       "      <th>first_activity_week</th>\n",
       "    </tr>\n",
       "  </thead>\n",
       "  <tbody>\n",
       "    <tr>\n",
       "      <td>0</td>\n",
       "      <td>2020-05-04 00:00:01</td>\n",
       "      <td>55e92310-cb8e-4754-b622-597e124b03de</td>\n",
       "      <td>2020-05-04 00:00:01</td>\n",
       "      <td>2020-05-04</td>\n",
       "      <td>2020-05-04</td>\n",
       "    </tr>\n",
       "    <tr>\n",
       "      <td>1</td>\n",
       "      <td>2020-05-05 05:20:15</td>\n",
       "      <td>55e92310-cb8e-4754-b622-597e124b03de</td>\n",
       "      <td>2020-05-04 00:00:01</td>\n",
       "      <td>2020-05-04</td>\n",
       "      <td>2020-05-04</td>\n",
       "    </tr>\n",
       "    <tr>\n",
       "      <td>2</td>\n",
       "      <td>2020-05-05 19:24:02</td>\n",
       "      <td>55e92310-cb8e-4754-b622-597e124b03de</td>\n",
       "      <td>2020-05-04 00:00:01</td>\n",
       "      <td>2020-05-04</td>\n",
       "      <td>2020-05-04</td>\n",
       "    </tr>\n",
       "  </tbody>\n",
       "</table>\n",
       "</div>"
      ],
      "text/plain": [
       "        activity_date                               user_id  \\\n",
       "0 2020-05-04 00:00:01  55e92310-cb8e-4754-b622-597e124b03de   \n",
       "1 2020-05-05 05:20:15  55e92310-cb8e-4754-b622-597e124b03de   \n",
       "2 2020-05-05 19:24:02  55e92310-cb8e-4754-b622-597e124b03de   \n",
       "\n",
       "  first_activity_date activity_week first_activity_week  \n",
       "0 2020-05-04 00:00:01    2020-05-04          2020-05-04  \n",
       "1 2020-05-04 00:00:01    2020-05-04          2020-05-04  \n",
       "2 2020-05-04 00:00:01    2020-05-04          2020-05-04  "
      ]
     },
     "execution_count": 60,
     "metadata": {},
     "output_type": "execute_result"
    }
   ],
   "source": [
    "clean_user_activity = first_build.loc[:,['event_datetime', 'user_id', 'min']]\n",
    "clean_user_activity.columns = ['activity_date', 'user_id', 'first_activity_date']\n",
    "\n",
    "# get the day of the beginning of the week, i.e. start of week relative to activity_date\n",
    "clean_user_activity['activity_week'] = (pd.to_datetime(clean_user_activity['activity_date'], unit='d') - \\\n",
    "                                       pd.to_timedelta(clean_user_activity['activity_date'].dt.dayofweek, unit='d')).dt.date\n",
    "\n",
    "# we get the day of the beginning of the week, i.e. start of week relative to first_activity_date\n",
    "clean_user_activity['first_activity_week'] = (pd.to_datetime(clean_user_activity['first_activity_date'], unit='d') - \\\n",
    "                                              pd.to_timedelta(clean_user_activity['first_activity_date'].dt.dayofweek, unit='d')).dt.date\n",
    "\n",
    "\n",
    "\n",
    "clean_user_activity.head(3)"
   ]
  },
  {
   "cell_type": "markdown",
   "metadata": {},
   "source": [
    "**calculate Retention rate**"
   ]
  },
  {
   "cell_type": "code",
   "execution_count": 61,
   "metadata": {},
   "outputs": [
    {
     "data": {
      "text/html": [
       "<div>\n",
       "<style scoped>\n",
       "    .dataframe tbody tr th:only-of-type {\n",
       "        vertical-align: middle;\n",
       "    }\n",
       "\n",
       "    .dataframe tbody tr th {\n",
       "        vertical-align: top;\n",
       "    }\n",
       "\n",
       "    .dataframe thead th {\n",
       "        text-align: right;\n",
       "    }\n",
       "</style>\n",
       "<table border=\"1\" class=\"dataframe\">\n",
       "  <thead>\n",
       "    <tr style=\"text-align: right;\">\n",
       "      <th></th>\n",
       "      <th>activity_date</th>\n",
       "      <th>user_id</th>\n",
       "      <th>first_activity_date</th>\n",
       "      <th>activity_week</th>\n",
       "      <th>first_activity_week</th>\n",
       "      <th>cohort_lifetime</th>\n",
       "    </tr>\n",
       "  </thead>\n",
       "  <tbody>\n",
       "    <tr>\n",
       "      <td>0</td>\n",
       "      <td>2020-05-04 00:00:01</td>\n",
       "      <td>55e92310-cb8e-4754-b622-597e124b03de</td>\n",
       "      <td>2020-05-04 00:00:01</td>\n",
       "      <td>2020-05-04</td>\n",
       "      <td>2020-05-04</td>\n",
       "      <td>0</td>\n",
       "    </tr>\n",
       "    <tr>\n",
       "      <td>1</td>\n",
       "      <td>2020-05-05 05:20:15</td>\n",
       "      <td>55e92310-cb8e-4754-b622-597e124b03de</td>\n",
       "      <td>2020-05-04 00:00:01</td>\n",
       "      <td>2020-05-04</td>\n",
       "      <td>2020-05-04</td>\n",
       "      <td>0</td>\n",
       "    </tr>\n",
       "    <tr>\n",
       "      <td>2</td>\n",
       "      <td>2020-05-05 19:24:02</td>\n",
       "      <td>55e92310-cb8e-4754-b622-597e124b03de</td>\n",
       "      <td>2020-05-04 00:00:01</td>\n",
       "      <td>2020-05-04</td>\n",
       "      <td>2020-05-04</td>\n",
       "      <td>0</td>\n",
       "    </tr>\n",
       "  </tbody>\n",
       "</table>\n",
       "</div>"
      ],
      "text/plain": [
       "        activity_date                               user_id  \\\n",
       "0 2020-05-04 00:00:01  55e92310-cb8e-4754-b622-597e124b03de   \n",
       "1 2020-05-05 05:20:15  55e92310-cb8e-4754-b622-597e124b03de   \n",
       "2 2020-05-05 19:24:02  55e92310-cb8e-4754-b622-597e124b03de   \n",
       "\n",
       "  first_activity_date activity_week first_activity_week  cohort_lifetime  \n",
       "0 2020-05-04 00:00:01    2020-05-04          2020-05-04                0  \n",
       "1 2020-05-04 00:00:01    2020-05-04          2020-05-04                0  \n",
       "2 2020-05-04 00:00:01    2020-05-04          2020-05-04                0  "
      ]
     },
     "execution_count": 61,
     "metadata": {},
     "output_type": "execute_result"
    }
   ],
   "source": [
    "clean_user_activity['cohort_lifetime'] = clean_user_activity['activity_week'] - clean_user_activity['first_activity_week']\n",
    "clean_user_activity['cohort_lifetime'] = (clean_user_activity['cohort_lifetime'] / np.timedelta64(1,'W')).astype('int')\n",
    "clean_user_activity.head(3)"
   ]
  },
  {
   "cell_type": "code",
   "execution_count": 62,
   "metadata": {},
   "outputs": [
    {
     "name": "stdout",
     "output_type": "stream",
     "text": [
      "cohort_lifetime        0         1         2         3         4\n",
      "first_activity_week                                             \n",
      "2020-05-04           1.0  0.892826  0.320639  0.038377  0.002136\n"
     ]
    }
   ],
   "source": [
    "#step_1\n",
    "cohorts = clean_user_activity.groupby(['first_activity_week', 'cohort_lifetime']).agg({'user_id':'nunique'}).reset_index()\n",
    "\n",
    "#step_2\n",
    "initial_users_count = cohorts[cohorts['cohort_lifetime']==0][['first_activity_week', 'user_id']]\n",
    "\n",
    "#step_3\n",
    "initial_users_count = initial_users_count.rename(columns = {'user_id':'cohort_users'})\n",
    "\n",
    "#step_4\n",
    "cohorts = cohorts.merge(initial_users_count,on='first_activity_week')\n",
    "\n",
    "#step_5\n",
    "cohorts['retention'] = cohorts['user_id']/cohorts['cohort_users']\n",
    "\n",
    "#step_6\n",
    "retention_pivot = cohorts.pivot_table(index='first_activity_week',columns='cohort_lifetime',values='retention',aggfunc='sum') \n",
    "\n",
    "print(retention_pivot)"
   ]
  },
  {
   "cell_type": "code",
   "execution_count": 63,
   "metadata": {},
   "outputs": [
    {
     "data": {
      "image/png": "[encoded data removed]",
      "text/plain": [
       "<Figure size 1296x360 with 1 Axes>"
      ]
     },
     "metadata": {
      "needs_background": "light"
     },
     "output_type": "display_data"
    }
   ],
   "source": [
    "retention_pivot.T.plot.bar(figsize=(18, 5), grid = True, title = 'Retention rate');"
   ]
  },
  {
   "cell_type": "markdown",
   "metadata": {},
   "source": [
    "## Conclusions Exploratory Data Analysis (EDA)\n",
    "<a id='Выводы исследовательский анализ'></a>\n",
    "\n",
    "The median lifespan of a user at the first level is 10.52, i.e. during this time, we must have time to lure the user into the game.\n",
    "\n",
    "Most often, the user makes the first building immediately, half of the users after almost 5 days.\n",
    "\n",
    "The median duration of the first level is 11.49 days, i.e. most of the users leave the game without completing the first level.\n",
    "\n",
    "Each subsequent stage is fairly well balanced and users go through in 0.7-1 days.\n",
    "\n",
    "What problems are visible:\n",
    "\n",
    "- 11% of users cannot complete the 4th stage\n",
    "- 27% of users cannot complete the 6th stage\n",
    "- 43% cannot complete the 9th stage\n",
    "- 52% cannot complete stage 10\n",
    "- 59% - 86% cannot complete stages 11 to 14\n",
    "\n",
    "Therefore, in order to retain the user, it is recommended to display ads in the following order after the user logs in:\n",
    "\n",
    "- First ad run in stage 4, after about - 3.46 days\n",
    "- Second ad run at stage 6, after about - 5.01 days\n",
    "- Third ad run at stage 9, approximately - 7.33 days later\n",
    "- The fourth ad run at stage 10, after about - 8.12 days\n",
    "- Fifth ad run at stage 11, approximately - 8.85 days later\n",
    "- Sixth ad run at stage 12, approximately - 9.62 days later\n",
    "- Seventh ad run at stage 13, approximately - 10.37 days later\n",
    "\n",
    "\n",
    "Calculated marketing costs for 4 channels:\n",
    "- facebook_ads\n",
    "- instagram_new_adverts\n",
    "- yandex_direct\n",
    "- youtube_channel_reklama\n",
    "\n",
    "The marketing campaign lasted for a week, users started coming the next day, and the least money was spent on youtube_channel_reklama.\n",
    "\n",
    "The peak of the arrival of users fell on 2020-5-10 (a week after the end of the marketing campaign).\n",
    "\n",
    "`yandex_direct` shows the best performance in relation to `facebook_ads` and `instagram_new_adverts`.\n",
    "the comparison between `Yandex` and `Youtube` has not yet been defined at this stage.\n",
    "\n",
    "5 strategies for working with marginality have been calculated (0%, 10%, 20%, 30% and 40%):\n",
    "\n",
    "**--- Scenario calculation, Margin = 0.00% ---**\n",
    "\n",
    "- Profit = 0.0\n",
    "\n",
    "- CPAcq = 0.56\n",
    "\n",
    "- ARPU = 0.56\n",
    "\n",
    "- Profit / Loss per user = 0.0\n",
    "\n",
    "- cost of 1 ad impression for one user = 0.0\n",
    "\n",
    "\n",
    "**--- Scenario calculation, Margin = 10.00% ---**\n",
    "\n",
    "- Profit = 760.35\n",
    "\n",
    "- CPAcq = 0.56\n",
    "\n",
    "- ARPU = 0.62\n",
    "\n",
    "- Profit / Loss per user = 0.06\n",
    "\n",
    "- cost of 1 ad impression for one user = 0.0\n",
    "\n",
    "**--- Scenario calculation, Margin = 20.00% ---**\n",
    "\n",
    "- Profit = 1520.71\n",
    "\n",
    "- CPAcq = 0.56\n",
    "\n",
    "- ARPU = 0.67\n",
    "\n",
    "- Profit / Loss per user = 0.11\n",
    "\n",
    "- cost of 1 ad impression for one user = 0.0\n",
    "\n",
    "**--- Scenario calculation, Margin = 30.00% ---**\n",
    "\n",
    "- Profit = 2281.07\n",
    "\n",
    "- CPAcq = 0.56\n",
    "\n",
    "- ARPU = 0.73\n",
    "\n",
    "- Profit / Loss per user = 0.17\n",
    "\n",
    "- cost of 1 ad impression for one user = 0.0\n",
    "\n",
    "**--- Scenario calculation, Margin = 40.00% ---**\n",
    "\n",
    "- Profit = 3041.43\n",
    "\n",
    "- CPAcq = 0.56\n",
    "\n",
    "- ARPU = 0.78\n",
    "\n",
    "- Profit / Loss per user = 0.22\n",
    "\n",
    "- cost of 1 ad impression for one user = 0.0\n",
    "\n",
    "--------------------------\n",
    "\n",
    "User metrics:\n",
    "- DAU = 2884\n",
    "- WAU = 6120\n",
    "- MAU = 6802\n",
    "\n",
    "Retention rate\n",
    "- 0 - 1.0\n",
    "- 1 - 0.892826\n",
    "- 2 - 0.320639\n",
    "- 3 - 0.038377\n",
    "- 4 - 0.002136\n",
    "\n"
   ]
  },
  {
   "cell_type": "markdown",
   "metadata": {},
   "source": [
    "# 6. Marketing\n",
    "<a id='Маркетинг'></a>"
   ]
  },
  {
   "cell_type": "markdown",
   "metadata": {},
   "source": [
    "**find and explain the best traffic driving channels**\n",
    "\n",
    "What options are there:\n",
    "1. Sales revenue (no sales data, not suitable)\n",
    "2. Cost per lead (no data on orders, does not fit)\n",
    "3. **Cost of a client,** `CAC = Cost of attracting customers / Number of new customers`\n",
    "4. ROI (no sales data, not suitable)\n",
    "5. ROI on advertising costs (no sales data, not suitable)\n",
    "6. Lifetime value of the customer (no data on orders, does not fit)"
   ]
  },
  {
   "cell_type": "code",
   "execution_count": 64,
   "metadata": {},
   "outputs": [
    {
     "data": {
      "text/html": [
       "<div>\n",
       "<style scoped>\n",
       "    .dataframe tbody tr th:only-of-type {\n",
       "        vertical-align: middle;\n",
       "    }\n",
       "\n",
       "    .dataframe tbody tr th {\n",
       "        vertical-align: top;\n",
       "    }\n",
       "\n",
       "    .dataframe thead th {\n",
       "        text-align: right;\n",
       "    }\n",
       "</style>\n",
       "<table border=\"1\" class=\"dataframe\">\n",
       "  <thead>\n",
       "    <tr style=\"text-align: right;\">\n",
       "      <th></th>\n",
       "      <th>source</th>\n",
       "      <th>cost</th>\n",
       "    </tr>\n",
       "  </thead>\n",
       "  <tbody>\n",
       "    <tr>\n",
       "      <td>0</td>\n",
       "      <td>facebook_ads</td>\n",
       "      <td>2140.904643</td>\n",
       "    </tr>\n",
       "    <tr>\n",
       "      <td>1</td>\n",
       "      <td>instagram_new_adverts</td>\n",
       "      <td>2161.441691</td>\n",
       "    </tr>\n",
       "    <tr>\n",
       "      <td>2</td>\n",
       "      <td>yandex_direct</td>\n",
       "      <td>2233.111449</td>\n",
       "    </tr>\n",
       "    <tr>\n",
       "      <td>3</td>\n",
       "      <td>youtube_channel_reklama</td>\n",
       "      <td>1068.119204</td>\n",
       "    </tr>\n",
       "  </tbody>\n",
       "</table>\n",
       "</div>"
      ],
      "text/plain": [
       "                    source         cost\n",
       "0             facebook_ads  2140.904643\n",
       "1    instagram_new_adverts  2161.441691\n",
       "2            yandex_direct  2233.111449\n",
       "3  youtube_channel_reklama  1068.119204"
      ]
     },
     "execution_count": 64,
     "metadata": {},
     "output_type": "execute_result"
    }
   ],
   "source": [
    "marketing_efficiency = ad_costs_C.pivot_table(index = ['source'], values = 'cost', aggfunc = 'sum' ).reset_index()\n",
    "marketing_efficiency"
   ]
  },
  {
   "cell_type": "code",
   "execution_count": 65,
   "metadata": {},
   "outputs": [
    {
     "data": {
      "text/plain": [
       "source\n",
       "facebook_ads               2726\n",
       "instagram_new_adverts      3347\n",
       "yandex_direct              4817\n",
       "youtube_channel_reklama    2686\n",
       "Name: user_id, dtype: int64"
      ]
     },
     "execution_count": 65,
     "metadata": {},
     "output_type": "execute_result"
    }
   ],
   "source": [
    "n_unique_by_source = game_actions_C.merge(user_source_C, left_on='user_id', right_on='user_id')\n",
    "n_unique_by_source = n_unique_by_source.groupby('source')['user_id'].nunique()\n",
    "n_unique_by_source"
   ]
  },
  {
   "cell_type": "code",
   "execution_count": 66,
   "metadata": {},
   "outputs": [
    {
     "data": {
      "text/html": [
       "<div>\n",
       "<style scoped>\n",
       "    .dataframe tbody tr th:only-of-type {\n",
       "        vertical-align: middle;\n",
       "    }\n",
       "\n",
       "    .dataframe tbody tr th {\n",
       "        vertical-align: top;\n",
       "    }\n",
       "\n",
       "    .dataframe thead th {\n",
       "        text-align: right;\n",
       "    }\n",
       "</style>\n",
       "<table border=\"1\" class=\"dataframe\">\n",
       "  <thead>\n",
       "    <tr style=\"text-align: right;\">\n",
       "      <th></th>\n",
       "      <th>source</th>\n",
       "      <th>cost</th>\n",
       "      <th>nuniq_users</th>\n",
       "    </tr>\n",
       "  </thead>\n",
       "  <tbody>\n",
       "    <tr>\n",
       "      <td>0</td>\n",
       "      <td>facebook_ads</td>\n",
       "      <td>2140.904643</td>\n",
       "      <td>2726</td>\n",
       "    </tr>\n",
       "    <tr>\n",
       "      <td>1</td>\n",
       "      <td>instagram_new_adverts</td>\n",
       "      <td>2161.441691</td>\n",
       "      <td>3347</td>\n",
       "    </tr>\n",
       "    <tr>\n",
       "      <td>2</td>\n",
       "      <td>yandex_direct</td>\n",
       "      <td>2233.111449</td>\n",
       "      <td>4817</td>\n",
       "    </tr>\n",
       "    <tr>\n",
       "      <td>3</td>\n",
       "      <td>youtube_channel_reklama</td>\n",
       "      <td>1068.119204</td>\n",
       "      <td>2686</td>\n",
       "    </tr>\n",
       "  </tbody>\n",
       "</table>\n",
       "</div>"
      ],
      "text/plain": [
       "                    source         cost  nuniq_users\n",
       "0             facebook_ads  2140.904643         2726\n",
       "1    instagram_new_adverts  2161.441691         3347\n",
       "2            yandex_direct  2233.111449         4817\n",
       "3  youtube_channel_reklama  1068.119204         2686"
      ]
     },
     "execution_count": 66,
     "metadata": {},
     "output_type": "execute_result"
    }
   ],
   "source": [
    "marketing_efficiency = marketing_efficiency.merge(n_unique_by_source, left_on='source', right_on='source')\n",
    "marketing_efficiency = marketing_efficiency.rename(columns = {'user_id': 'nuniq_users'})\n",
    "marketing_efficiency"
   ]
  },
  {
   "cell_type": "code",
   "execution_count": 67,
   "metadata": {},
   "outputs": [
    {
     "data": {
      "text/html": [
       "<div>\n",
       "<style scoped>\n",
       "    .dataframe tbody tr th:only-of-type {\n",
       "        vertical-align: middle;\n",
       "    }\n",
       "\n",
       "    .dataframe tbody tr th {\n",
       "        vertical-align: top;\n",
       "    }\n",
       "\n",
       "    .dataframe thead th {\n",
       "        text-align: right;\n",
       "    }\n",
       "</style>\n",
       "<table border=\"1\" class=\"dataframe\">\n",
       "  <thead>\n",
       "    <tr style=\"text-align: right;\">\n",
       "      <th></th>\n",
       "      <th>source</th>\n",
       "      <th>cost</th>\n",
       "      <th>nuniq_users</th>\n",
       "      <th>cost_per_user</th>\n",
       "    </tr>\n",
       "  </thead>\n",
       "  <tbody>\n",
       "    <tr>\n",
       "      <td>3</td>\n",
       "      <td>youtube_channel_reklama</td>\n",
       "      <td>1068.119204</td>\n",
       "      <td>2686</td>\n",
       "      <td>0.397662</td>\n",
       "    </tr>\n",
       "    <tr>\n",
       "      <td>2</td>\n",
       "      <td>yandex_direct</td>\n",
       "      <td>2233.111449</td>\n",
       "      <td>4817</td>\n",
       "      <td>0.463590</td>\n",
       "    </tr>\n",
       "    <tr>\n",
       "      <td>1</td>\n",
       "      <td>instagram_new_adverts</td>\n",
       "      <td>2161.441691</td>\n",
       "      <td>3347</td>\n",
       "      <td>0.645785</td>\n",
       "    </tr>\n",
       "    <tr>\n",
       "      <td>0</td>\n",
       "      <td>facebook_ads</td>\n",
       "      <td>2140.904643</td>\n",
       "      <td>2726</td>\n",
       "      <td>0.785365</td>\n",
       "    </tr>\n",
       "  </tbody>\n",
       "</table>\n",
       "</div>"
      ],
      "text/plain": [
       "                    source         cost  nuniq_users  cost_per_user\n",
       "3  youtube_channel_reklama  1068.119204         2686       0.397662\n",
       "2            yandex_direct  2233.111449         4817       0.463590\n",
       "1    instagram_new_adverts  2161.441691         3347       0.645785\n",
       "0             facebook_ads  2140.904643         2726       0.785365"
      ]
     },
     "execution_count": 67,
     "metadata": {},
     "output_type": "execute_result"
    }
   ],
   "source": [
    "marketing_efficiency['cost_per_user'] = marketing_efficiency['cost'] / marketing_efficiency['nuniq_users']\n",
    "marketing_efficiency.sort_values(by = 'cost_per_user', ascending = True)"
   ]
  },
  {
   "cell_type": "markdown",
   "metadata": {},
   "source": [
    "Efficiency of traffic attraction channels:\n",
    "1. youtube_channel_reklama\n",
    "2. yandex_direct\n",
    "3. instagram_new_adverts\n",
    "4. facebook_ads"
   ]
  },
  {
   "cell_type": "markdown",
   "metadata": {},
   "source": [
    "**find and explain how channels relate to our metrics and target event**"
   ]
  },
  {
   "cell_type": "code",
   "execution_count": 68,
   "metadata": {},
   "outputs": [
    {
     "data": {
      "text/html": [
       "<div>\n",
       "<style scoped>\n",
       "    .dataframe tbody tr th:only-of-type {\n",
       "        vertical-align: middle;\n",
       "    }\n",
       "\n",
       "    .dataframe tbody tr th {\n",
       "        vertical-align: top;\n",
       "    }\n",
       "\n",
       "    .dataframe thead th {\n",
       "        text-align: right;\n",
       "    }\n",
       "</style>\n",
       "<table border=\"1\" class=\"dataframe\">\n",
       "  <thead>\n",
       "    <tr style=\"text-align: right;\">\n",
       "      <th></th>\n",
       "      <th>user_id</th>\n",
       "      <th>max</th>\n",
       "      <th>min</th>\n",
       "      <th>life</th>\n",
       "      <th>source</th>\n",
       "    </tr>\n",
       "  </thead>\n",
       "  <tbody>\n",
       "    <tr>\n",
       "      <td>0</td>\n",
       "      <td>0001f83c-c6ac-4621-b7f0-8a28b283ac30</td>\n",
       "      <td>2020-05-20 11:26:06</td>\n",
       "      <td>2020-05-06 01:07:37</td>\n",
       "      <td>14.429502</td>\n",
       "      <td>facebook_ads</td>\n",
       "    </tr>\n",
       "    <tr>\n",
       "      <td>1</td>\n",
       "      <td>00151b4f-ba38-44a8-a650-d7cf130a0105</td>\n",
       "      <td>2020-05-18 10:46:52</td>\n",
       "      <td>2020-05-06 03:09:12</td>\n",
       "      <td>12.317824</td>\n",
       "      <td>yandex_direct</td>\n",
       "    </tr>\n",
       "    <tr>\n",
       "      <td>2</td>\n",
       "      <td>001aaea6-3d14-43f1-8ca8-7f48820f17aa</td>\n",
       "      <td>2020-05-14 09:21:27</td>\n",
       "      <td>2020-05-05 18:08:52</td>\n",
       "      <td>8.633738</td>\n",
       "      <td>youtube_channel_reklama</td>\n",
       "    </tr>\n",
       "    <tr>\n",
       "      <td>3</td>\n",
       "      <td>001d39dc-366c-4021-9604-6a3b9ff01e25</td>\n",
       "      <td>2020-05-12 07:40:47</td>\n",
       "      <td>2020-05-05 21:02:05</td>\n",
       "      <td>6.443542</td>\n",
       "      <td>instagram_new_adverts</td>\n",
       "    </tr>\n",
       "    <tr>\n",
       "      <td>4</td>\n",
       "      <td>002f508f-67b6-479f-814b-b05f00d4e995</td>\n",
       "      <td>2020-05-22 02:46:45</td>\n",
       "      <td>2020-05-05 13:49:58</td>\n",
       "      <td>16.539433</td>\n",
       "      <td>facebook_ads</td>\n",
       "    </tr>\n",
       "  </tbody>\n",
       "</table>\n",
       "</div>"
      ],
      "text/plain": [
       "                                user_id                 max  \\\n",
       "0  0001f83c-c6ac-4621-b7f0-8a28b283ac30 2020-05-20 11:26:06   \n",
       "1  00151b4f-ba38-44a8-a650-d7cf130a0105 2020-05-18 10:46:52   \n",
       "2  001aaea6-3d14-43f1-8ca8-7f48820f17aa 2020-05-14 09:21:27   \n",
       "3  001d39dc-366c-4021-9604-6a3b9ff01e25 2020-05-12 07:40:47   \n",
       "4  002f508f-67b6-479f-814b-b05f00d4e995 2020-05-22 02:46:45   \n",
       "\n",
       "                  min       life                   source  \n",
       "0 2020-05-06 01:07:37  14.429502             facebook_ads  \n",
       "1 2020-05-06 03:09:12  12.317824            yandex_direct  \n",
       "2 2020-05-05 18:08:52   8.633738  youtube_channel_reklama  \n",
       "3 2020-05-05 21:02:05   6.443542    instagram_new_adverts  \n",
       "4 2020-05-05 13:49:58  16.539433             facebook_ads  "
      ]
     },
     "execution_count": 68,
     "metadata": {},
     "output_type": "execute_result"
    }
   ],
   "source": [
    "life_distr = min_max_user_date.merge(user_source_C, left_on='user_id', right_on='user_id')\n",
    "life_distr.head()"
   ]
  },
  {
   "cell_type": "code",
   "execution_count": 69,
   "metadata": {},
   "outputs": [
    {
     "data": {
      "text/html": [
       "<div>\n",
       "<style scoped>\n",
       "    .dataframe tbody tr th:only-of-type {\n",
       "        vertical-align: middle;\n",
       "    }\n",
       "\n",
       "    .dataframe tbody tr th {\n",
       "        vertical-align: top;\n",
       "    }\n",
       "\n",
       "    .dataframe thead th {\n",
       "        text-align: right;\n",
       "    }\n",
       "</style>\n",
       "<table border=\"1\" class=\"dataframe\">\n",
       "  <thead>\n",
       "    <tr style=\"text-align: right;\">\n",
       "      <th></th>\n",
       "      <th>life</th>\n",
       "    </tr>\n",
       "    <tr>\n",
       "      <th>source</th>\n",
       "      <th></th>\n",
       "    </tr>\n",
       "  </thead>\n",
       "  <tbody>\n",
       "    <tr>\n",
       "      <td>instagram_new_adverts</td>\n",
       "      <td>10.627130</td>\n",
       "    </tr>\n",
       "    <tr>\n",
       "      <td>facebook_ads</td>\n",
       "      <td>10.537159</td>\n",
       "    </tr>\n",
       "    <tr>\n",
       "      <td>youtube_channel_reklama</td>\n",
       "      <td>10.506175</td>\n",
       "    </tr>\n",
       "    <tr>\n",
       "      <td>yandex_direct</td>\n",
       "      <td>10.467419</td>\n",
       "    </tr>\n",
       "  </tbody>\n",
       "</table>\n",
       "</div>"
      ],
      "text/plain": [
       "                              life\n",
       "source                            \n",
       "instagram_new_adverts    10.627130\n",
       "facebook_ads             10.537159\n",
       "youtube_channel_reklama  10.506175\n",
       "yandex_direct            10.467419"
      ]
     },
     "execution_count": 69,
     "metadata": {},
     "output_type": "execute_result"
    }
   ],
   "source": [
    "life_distr = life_distr.pivot_table(index = 'source', values = 'life', aggfunc = 'median').sort_values(by = 'life', ascending = False)\n",
    "life_distr"
   ]
  },
  {
   "cell_type": "markdown",
   "metadata": {},
   "source": [
    "**let's see what proportion of users from each traffic channel complete the first level**"
   ]
  },
  {
   "cell_type": "code",
   "execution_count": 71,
   "metadata": {},
   "outputs": [
    {
     "data": {
      "text/html": [
       "<div>\n",
       "<style scoped>\n",
       "    .dataframe tbody tr th:only-of-type {\n",
       "        vertical-align: middle;\n",
       "    }\n",
       "\n",
       "    .dataframe tbody tr th {\n",
       "        vertical-align: top;\n",
       "    }\n",
       "\n",
       "    .dataframe thead th {\n",
       "        text-align: right;\n",
       "    }\n",
       "</style>\n",
       "<table border=\"1\" class=\"dataframe\">\n",
       "  <thead>\n",
       "    <tr style=\"text-align: right;\">\n",
       "      <th></th>\n",
       "      <th>source</th>\n",
       "      <th>0</th>\n",
       "      <th>1</th>\n",
       "      <th>sum</th>\n",
       "      <th>ratio</th>\n",
       "    </tr>\n",
       "  </thead>\n",
       "  <tbody>\n",
       "    <tr>\n",
       "      <td>1</td>\n",
       "      <td>instagram_new_adverts</td>\n",
       "      <td>3347</td>\n",
       "      <td>1466</td>\n",
       "      <td>4813</td>\n",
       "      <td>0.305</td>\n",
       "    </tr>\n",
       "    <tr>\n",
       "      <td>3</td>\n",
       "      <td>youtube_channel_reklama</td>\n",
       "      <td>2686</td>\n",
       "      <td>1159</td>\n",
       "      <td>3845</td>\n",
       "      <td>0.301</td>\n",
       "    </tr>\n",
       "    <tr>\n",
       "      <td>2</td>\n",
       "      <td>yandex_direct</td>\n",
       "      <td>4817</td>\n",
       "      <td>2042</td>\n",
       "      <td>6859</td>\n",
       "      <td>0.298</td>\n",
       "    </tr>\n",
       "    <tr>\n",
       "      <td>0</td>\n",
       "      <td>facebook_ads</td>\n",
       "      <td>2726</td>\n",
       "      <td>1150</td>\n",
       "      <td>3876</td>\n",
       "      <td>0.297</td>\n",
       "    </tr>\n",
       "  </tbody>\n",
       "</table>\n",
       "</div>"
      ],
      "text/plain": [
       "                    source     0     1   sum  ratio\n",
       "1    instagram_new_adverts  3347  1466  4813  0.305\n",
       "3  youtube_channel_reklama  2686  1159  3845  0.301\n",
       "2            yandex_direct  4817  2042  6859  0.298\n",
       "0             facebook_ads  2726  1150  3876  0.297"
      ]
     },
     "execution_count": 71,
     "metadata": {},
     "output_type": "execute_result"
    }
   ],
   "source": [
    "level_complite = game_actions_C.merge(user_source_C, left_on='user_id', right_on='user_id')\n",
    "level_complite = level_complite.pivot_table(index = 'source', columns = 'user_level', values = 'user_id', aggfunc = 'nunique').reset_index()\n",
    "level_complite.columns = ['source', '0', '1']\n",
    "level_complite['sum'] = level_complite['0'] + level_complite['1']\n",
    "level_complite['ratio'] = np.round(level_complite['1'] / level_complite['sum'],3)\n",
    "level_complite.sort_values(by = 'ratio', ascending = False)"
   ]
  },
  {
   "cell_type": "markdown",
   "metadata": {},
   "source": [
    "# Conclusions marketing\n",
    "<a id='Выводы маркетинг'></a>\n",
    "\n",
    "Our goal is to keep the user in the game for as long as possible, so that they complete the levels and enjoy the game.\n",
    "Various channels of traffic attraction were analyzed.\n",
    "From the point of view of costs for attracting one user, we have the following picture:\n",
    "1. youtube_channel_reklama\n",
    "2. yandex_direct\n",
    "3. instagram_new_adverts\n",
    "4. facebook_ads\n",
    "\n",
    "This is the primary parameter for us.\n",
    "\n",
    "Median life expectancy by channel:\n",
    "1. instagram_new_adverts\n",
    "2. facebook_ads\t\n",
    "3. youtube_channel_reklama\n",
    "4. yandex_direct\n",
    "\n",
    "The share of users completing the first level by traffic channels:\n",
    "1. instagram_new_adverts\n",
    "2. youtube_channel_reklama\n",
    "3. yandex_direct\n",
    "4. facebook_ads\n",
    "\n",
    "We need to focus the main part of the budget ~ 50-70% on `youtube_channel_reklama` + `yandex_direct`.\n",
    "\n",
    "Distribute the rest on `instagram_new_adverts` and `facebook_ads`, with priority on `instagram_new_adverts`."
   ]
  },
  {
   "cell_type": "markdown",
   "metadata": {},
   "source": [
    "# 7. Statistical hypothesis testing\n",
    "<a id='Проверка гипотез'></a>"
   ]
  },
  {
   "cell_type": "markdown",
   "metadata": {},
   "source": [
    "**Test the hypothesis of the difference in the time it takes to complete a level between users who finish the level through the implementation of the project, and users who finish the level by defeating another player.**"
   ]
  },
  {
   "cell_type": "code",
   "execution_count": 72,
   "metadata": {},
   "outputs": [],
   "source": [
    "# id of users who passed the level through the building\n",
    "userid_level_1_building = game_actions_C[game_actions_C['project_type'] == 'satellite_orbital_assembly']['user_id']\n",
    "\n",
    "# id of users who completed the 1st stage\n",
    "userid_level_1 = game_actions_C[game_actions_C['event'] == \"finished_stage_1\"]['user_id']\n",
    "\n",
    "# id of users who completed the 1st stage through PVP\n",
    "userid_level_1_PVP = game_actions_C[(game_actions_C['event'] == \"finished_stage_1\") & (~game_actions_C['user_id'].isin(userid_level_1_building))]['user_id']\n"
   ]
  },
  {
   "cell_type": "code",
   "execution_count": 73,
   "metadata": {},
   "outputs": [
    {
     "data": {
      "text/html": [
       "<div>\n",
       "<style scoped>\n",
       "    .dataframe tbody tr th:only-of-type {\n",
       "        vertical-align: middle;\n",
       "    }\n",
       "\n",
       "    .dataframe tbody tr th {\n",
       "        vertical-align: top;\n",
       "    }\n",
       "\n",
       "    .dataframe thead th {\n",
       "        text-align: right;\n",
       "    }\n",
       "</style>\n",
       "<table border=\"1\" class=\"dataframe\">\n",
       "  <thead>\n",
       "    <tr style=\"text-align: right;\">\n",
       "      <th></th>\n",
       "      <th>user_id</th>\n",
       "      <th>max</th>\n",
       "      <th>min</th>\n",
       "      <th>life</th>\n",
       "    </tr>\n",
       "  </thead>\n",
       "  <tbody>\n",
       "    <tr>\n",
       "      <td>0</td>\n",
       "      <td>0001f83c-c6ac-4621-b7f0-8a28b283ac30</td>\n",
       "      <td>2020-05-20 11:26:06</td>\n",
       "      <td>2020-05-06 01:07:37</td>\n",
       "      <td>14.429502</td>\n",
       "    </tr>\n",
       "    <tr>\n",
       "      <td>1</td>\n",
       "      <td>00151b4f-ba38-44a8-a650-d7cf130a0105</td>\n",
       "      <td>2020-05-18 10:46:52</td>\n",
       "      <td>2020-05-06 03:09:12</td>\n",
       "      <td>12.317824</td>\n",
       "    </tr>\n",
       "    <tr>\n",
       "      <td>2</td>\n",
       "      <td>001aaea6-3d14-43f1-8ca8-7f48820f17aa</td>\n",
       "      <td>2020-05-14 09:21:27</td>\n",
       "      <td>2020-05-05 18:08:52</td>\n",
       "      <td>8.633738</td>\n",
       "    </tr>\n",
       "    <tr>\n",
       "      <td>3</td>\n",
       "      <td>001d39dc-366c-4021-9604-6a3b9ff01e25</td>\n",
       "      <td>2020-05-12 07:40:47</td>\n",
       "      <td>2020-05-05 21:02:05</td>\n",
       "      <td>6.443542</td>\n",
       "    </tr>\n",
       "    <tr>\n",
       "      <td>4</td>\n",
       "      <td>002f508f-67b6-479f-814b-b05f00d4e995</td>\n",
       "      <td>2020-05-22 02:46:45</td>\n",
       "      <td>2020-05-05 13:49:58</td>\n",
       "      <td>16.539433</td>\n",
       "    </tr>\n",
       "  </tbody>\n",
       "</table>\n",
       "</div>"
      ],
      "text/plain": [
       "                                user_id                 max  \\\n",
       "0  0001f83c-c6ac-4621-b7f0-8a28b283ac30 2020-05-20 11:26:06   \n",
       "1  00151b4f-ba38-44a8-a650-d7cf130a0105 2020-05-18 10:46:52   \n",
       "2  001aaea6-3d14-43f1-8ca8-7f48820f17aa 2020-05-14 09:21:27   \n",
       "3  001d39dc-366c-4021-9604-6a3b9ff01e25 2020-05-12 07:40:47   \n",
       "4  002f508f-67b6-479f-814b-b05f00d4e995 2020-05-22 02:46:45   \n",
       "\n",
       "                  min       life  \n",
       "0 2020-05-06 01:07:37  14.429502  \n",
       "1 2020-05-06 03:09:12  12.317824  \n",
       "2 2020-05-05 18:08:52   8.633738  \n",
       "3 2020-05-05 21:02:05   6.443542  \n",
       "4 2020-05-05 13:49:58  16.539433  "
      ]
     },
     "execution_count": 73,
     "metadata": {},
     "output_type": "execute_result"
    }
   ],
   "source": [
    "# start date of the user's game\n",
    "min_max_user_date.head()"
   ]
  },
  {
   "cell_type": "code",
   "execution_count": 74,
   "metadata": {},
   "outputs": [
    {
     "data": {
      "text/html": [
       "<div>\n",
       "<style scoped>\n",
       "    .dataframe tbody tr th:only-of-type {\n",
       "        vertical-align: middle;\n",
       "    }\n",
       "\n",
       "    .dataframe tbody tr th {\n",
       "        vertical-align: top;\n",
       "    }\n",
       "\n",
       "    .dataframe thead th {\n",
       "        text-align: right;\n",
       "    }\n",
       "</style>\n",
       "<table border=\"1\" class=\"dataframe\">\n",
       "  <thead>\n",
       "    <tr style=\"text-align: right;\">\n",
       "      <th></th>\n",
       "      <th>event_datetime</th>\n",
       "      <th>event</th>\n",
       "      <th>building_type</th>\n",
       "      <th>user_id</th>\n",
       "      <th>project_type</th>\n",
       "      <th>user_level</th>\n",
       "      <th>max</th>\n",
       "      <th>min</th>\n",
       "      <th>life</th>\n",
       "    </tr>\n",
       "  </thead>\n",
       "  <tbody>\n",
       "    <tr>\n",
       "      <td>12</td>\n",
       "      <td>2020-05-15 05:29:13</td>\n",
       "      <td>finished_stage_1</td>\n",
       "      <td>NaN</td>\n",
       "      <td>c07b1c10-f477-44dc-81dc-ec82254b1347</td>\n",
       "      <td>NaN</td>\n",
       "      <td>1</td>\n",
       "      <td>2020-05-15 05:29:13</td>\n",
       "      <td>2020-05-04 00:00:03</td>\n",
       "      <td>11.228588</td>\n",
       "    </tr>\n",
       "    <tr>\n",
       "      <td>24</td>\n",
       "      <td>2020-05-18 03:50:27</td>\n",
       "      <td>finished_stage_1</td>\n",
       "      <td>NaN</td>\n",
       "      <td>65a92713-5969-48b1-8945-bfefa5063887</td>\n",
       "      <td>NaN</td>\n",
       "      <td>1</td>\n",
       "      <td>2020-05-18 03:50:27</td>\n",
       "      <td>2020-05-04 00:00:44</td>\n",
       "      <td>14.159525</td>\n",
       "    </tr>\n",
       "    <tr>\n",
       "      <td>38</td>\n",
       "      <td>2020-05-19 14:36:02</td>\n",
       "      <td>finished_stage_1</td>\n",
       "      <td>NaN</td>\n",
       "      <td>fa352362-d258-472c-b295-2796ccc39fa3</td>\n",
       "      <td>NaN</td>\n",
       "      <td>1</td>\n",
       "      <td>2020-05-19 14:36:02</td>\n",
       "      <td>2020-05-04 00:01:33</td>\n",
       "      <td>15.607280</td>\n",
       "    </tr>\n",
       "    <tr>\n",
       "      <td>51</td>\n",
       "      <td>2020-05-15 16:09:11</td>\n",
       "      <td>finished_stage_1</td>\n",
       "      <td>NaN</td>\n",
       "      <td>7b3b6554-7949-4065-9808-d6c79bdc2f58</td>\n",
       "      <td>NaN</td>\n",
       "      <td>1</td>\n",
       "      <td>2020-05-15 16:09:11</td>\n",
       "      <td>2020-05-04 00:02:56</td>\n",
       "      <td>11.671007</td>\n",
       "    </tr>\n",
       "    <tr>\n",
       "      <td>66</td>\n",
       "      <td>2020-05-15 04:24:34</td>\n",
       "      <td>finished_stage_1</td>\n",
       "      <td>NaN</td>\n",
       "      <td>b374304d-2f74-4cc1-a4e2-500da44a06c7</td>\n",
       "      <td>NaN</td>\n",
       "      <td>1</td>\n",
       "      <td>2020-05-15 04:24:34</td>\n",
       "      <td>2020-05-04 00:03:46</td>\n",
       "      <td>11.181111</td>\n",
       "    </tr>\n",
       "  </tbody>\n",
       "</table>\n",
       "</div>"
      ],
      "text/plain": [
       "        event_datetime             event building_type  \\\n",
       "12 2020-05-15 05:29:13  finished_stage_1           NaN   \n",
       "24 2020-05-18 03:50:27  finished_stage_1           NaN   \n",
       "38 2020-05-19 14:36:02  finished_stage_1           NaN   \n",
       "51 2020-05-15 16:09:11  finished_stage_1           NaN   \n",
       "66 2020-05-15 04:24:34  finished_stage_1           NaN   \n",
       "\n",
       "                                 user_id project_type  user_level  \\\n",
       "12  c07b1c10-f477-44dc-81dc-ec82254b1347          NaN           1   \n",
       "24  65a92713-5969-48b1-8945-bfefa5063887          NaN           1   \n",
       "38  fa352362-d258-472c-b295-2796ccc39fa3          NaN           1   \n",
       "51  7b3b6554-7949-4065-9808-d6c79bdc2f58          NaN           1   \n",
       "66  b374304d-2f74-4cc1-a4e2-500da44a06c7          NaN           1   \n",
       "\n",
       "                   max                 min       life  \n",
       "12 2020-05-15 05:29:13 2020-05-04 00:00:03  11.228588  \n",
       "24 2020-05-18 03:50:27 2020-05-04 00:00:44  14.159525  \n",
       "38 2020-05-19 14:36:02 2020-05-04 00:01:33  15.607280  \n",
       "51 2020-05-15 16:09:11 2020-05-04 00:02:56  11.671007  \n",
       "66 2020-05-15 04:24:34 2020-05-04 00:03:46  11.181111  "
      ]
     },
     "execution_count": 74,
     "metadata": {},
     "output_type": "execute_result"
    }
   ],
   "source": [
    "postroika = game_actions_clean[game_actions_clean['user_id'].isin(userid_level_1_building)].sort_values(by = ['event_datetime','user_id'], ascending = True)\n",
    "postroika = postroika.merge(min_max_user_date, left_on='user_id', right_on='user_id')\n",
    "postroika = postroika[postroika['user_level'] == 1]\n",
    "postroika.head()"
   ]
  },
  {
   "cell_type": "code",
   "execution_count": 75,
   "metadata": {},
   "outputs": [
    {
     "data": {
      "text/html": [
       "<div>\n",
       "<style scoped>\n",
       "    .dataframe tbody tr th:only-of-type {\n",
       "        vertical-align: middle;\n",
       "    }\n",
       "\n",
       "    .dataframe tbody tr th {\n",
       "        vertical-align: top;\n",
       "    }\n",
       "\n",
       "    .dataframe thead th {\n",
       "        text-align: right;\n",
       "    }\n",
       "</style>\n",
       "<table border=\"1\" class=\"dataframe\">\n",
       "  <thead>\n",
       "    <tr style=\"text-align: right;\">\n",
       "      <th></th>\n",
       "      <th>event_datetime</th>\n",
       "      <th>event</th>\n",
       "      <th>building_type</th>\n",
       "      <th>user_id</th>\n",
       "      <th>project_type</th>\n",
       "      <th>user_level</th>\n",
       "      <th>max</th>\n",
       "      <th>min</th>\n",
       "      <th>life</th>\n",
       "    </tr>\n",
       "  </thead>\n",
       "  <tbody>\n",
       "    <tr>\n",
       "      <td>12</td>\n",
       "      <td>2020-05-16 11:51:58</td>\n",
       "      <td>finished_stage_1</td>\n",
       "      <td>NaN</td>\n",
       "      <td>6edd42cc-e753-4ff6-a947-2107cd560710</td>\n",
       "      <td>NaN</td>\n",
       "      <td>1</td>\n",
       "      <td>2020-05-16 11:51:58</td>\n",
       "      <td>2020-05-04 00:00:16</td>\n",
       "      <td>12.494236</td>\n",
       "    </tr>\n",
       "    <tr>\n",
       "      <td>19</td>\n",
       "      <td>2020-05-11 14:18:05</td>\n",
       "      <td>finished_stage_1</td>\n",
       "      <td>NaN</td>\n",
       "      <td>cdc6bb92-0ccb-4490-9866-ef142f09139d</td>\n",
       "      <td>NaN</td>\n",
       "      <td>1</td>\n",
       "      <td>2020-05-11 14:18:05</td>\n",
       "      <td>2020-05-04 00:00:35</td>\n",
       "      <td>7.595486</td>\n",
       "    </tr>\n",
       "    <tr>\n",
       "      <td>32</td>\n",
       "      <td>2020-05-16 13:08:11</td>\n",
       "      <td>finished_stage_1</td>\n",
       "      <td>NaN</td>\n",
       "      <td>4fe0f101-694b-4e31-9740-d1d87f7208ea</td>\n",
       "      <td>NaN</td>\n",
       "      <td>1</td>\n",
       "      <td>2020-05-16 13:08:11</td>\n",
       "      <td>2020-05-04 00:00:36</td>\n",
       "      <td>12.546933</td>\n",
       "    </tr>\n",
       "    <tr>\n",
       "      <td>42</td>\n",
       "      <td>2020-05-12 18:19:19</td>\n",
       "      <td>finished_stage_1</td>\n",
       "      <td>NaN</td>\n",
       "      <td>9c200ece-3b74-44c4-8a3f-260f2486c5d7</td>\n",
       "      <td>NaN</td>\n",
       "      <td>1</td>\n",
       "      <td>2020-05-12 18:19:19</td>\n",
       "      <td>2020-05-04 00:02:24</td>\n",
       "      <td>8.761748</td>\n",
       "    </tr>\n",
       "    <tr>\n",
       "      <td>55</td>\n",
       "      <td>2020-05-11 21:12:29</td>\n",
       "      <td>finished_stage_1</td>\n",
       "      <td>NaN</td>\n",
       "      <td>02bf92c2-17a0-4156-be88-2054fb6b7421</td>\n",
       "      <td>NaN</td>\n",
       "      <td>1</td>\n",
       "      <td>2020-05-11 21:12:29</td>\n",
       "      <td>2020-05-04 00:03:10</td>\n",
       "      <td>7.881470</td>\n",
       "    </tr>\n",
       "  </tbody>\n",
       "</table>\n",
       "</div>"
      ],
      "text/plain": [
       "        event_datetime             event building_type  \\\n",
       "12 2020-05-16 11:51:58  finished_stage_1           NaN   \n",
       "19 2020-05-11 14:18:05  finished_stage_1           NaN   \n",
       "32 2020-05-16 13:08:11  finished_stage_1           NaN   \n",
       "42 2020-05-12 18:19:19  finished_stage_1           NaN   \n",
       "55 2020-05-11 21:12:29  finished_stage_1           NaN   \n",
       "\n",
       "                                 user_id project_type  user_level  \\\n",
       "12  6edd42cc-e753-4ff6-a947-2107cd560710          NaN           1   \n",
       "19  cdc6bb92-0ccb-4490-9866-ef142f09139d          NaN           1   \n",
       "32  4fe0f101-694b-4e31-9740-d1d87f7208ea          NaN           1   \n",
       "42  9c200ece-3b74-44c4-8a3f-260f2486c5d7          NaN           1   \n",
       "55  02bf92c2-17a0-4156-be88-2054fb6b7421          NaN           1   \n",
       "\n",
       "                   max                 min       life  \n",
       "12 2020-05-16 11:51:58 2020-05-04 00:00:16  12.494236  \n",
       "19 2020-05-11 14:18:05 2020-05-04 00:00:35   7.595486  \n",
       "32 2020-05-16 13:08:11 2020-05-04 00:00:36  12.546933  \n",
       "42 2020-05-12 18:19:19 2020-05-04 00:02:24   8.761748  \n",
       "55 2020-05-11 21:12:29 2020-05-04 00:03:10   7.881470  "
      ]
     },
     "execution_count": 75,
     "metadata": {},
     "output_type": "execute_result"
    }
   ],
   "source": [
    "pvp = game_actions_clean[game_actions_clean['user_id'].isin(userid_level_1_PVP)].sort_values(by = ['event_datetime','user_id'], ascending = True)\n",
    "pvp = pvp.merge(min_max_user_date, left_on='user_id', right_on='user_id')\n",
    "pvp = pvp[pvp['user_level'] == 1]\n",
    "pvp.head()"
   ]
  },
  {
   "cell_type": "markdown",
   "metadata": {},
   "source": [
    "**let's form the first hypothesis # 1**\n",
    "\n",
    "`H0:` the time for passing the first level is the same\n",
    "\n",
    "`H1:` the time to complete the first level varies\n"
   ]
  },
  {
   "cell_type": "code",
   "execution_count": 76,
   "metadata": {},
   "outputs": [],
   "source": [
    "sample_1_1 = postroika['life']\n",
    "sample_1_2 = pvp['life']"
   ]
  },
  {
   "cell_type": "code",
   "execution_count": 77,
   "metadata": {},
   "outputs": [
    {
     "data": {
      "image/png": "[encoded data removed]",
      "text/plain": [
       "<Figure size 1296x648 with 2 Axes>"
      ]
     },
     "metadata": {
      "needs_background": "light"
     },
     "output_type": "display_data"
    }
   ],
   "source": [
    "fig = plt.figure(figsize=(18, 9))\n",
    "\n",
    "ax_1 = fig.add_subplot(2, 2, 1)\n",
    "ax_2 = fig.add_subplot(2, 2, 2)\n",
    "\n",
    "ax_1.hist(sample_1_1, bins='auto')\n",
    "ax_2.hist(sample_1_2, bins='auto')\n",
    "\n",
    "ax_1.set_title('Postroika')\n",
    "ax_2.set_title('PVP')\n",
    "\n",
    "ax_1.set_xlabel('User_life')\n",
    "ax_2.set_xlabel('User_life')\n",
    "\n",
    "ax_1.set_ylabel('Frequency')\n",
    "ax_1.set_ylabel('Frequency')\n",
    "\n",
    "plt.show()"
   ]
  },
  {
   "cell_type": "code",
   "execution_count": 78,
   "metadata": {},
   "outputs": [
    {
     "name": "stdout",
     "output_type": "stream",
     "text": [
      "var_1: 12.304\n",
      "var_2: 16.775\n",
      "Difference of var1 and var_2 = 73%\n",
      "\n",
      "p-value: 5.708058235070849e-107\n",
      "Rejecting the null hypothesis\n"
     ]
    }
   ],
   "source": [
    "from scipy import stats as st\n",
    "import numpy as np\n",
    "\n",
    "# check the variance of sample_1 and sample_2 to set equal_var = True\n",
    "variance_1 = np.var(sample_1_1, ddof = 1)\n",
    "variance_2 = np.var(sample_1_2, ddof = 1)\n",
    "print('var_1: {:.3f}'.format(variance_1))\n",
    "print('var_2: {:.3f}'.format(variance_2))\n",
    "print('Difference of var1 and var_2 = {:.0%}'.format(variance_1 / variance_2))\n",
    "print()\n",
    "\n",
    "alpha = 0.05  # critical level of statistical significance\n",
    "# if the p-value is less than it, we reject the hypothesis\n",
    "\n",
    "results = st.ttest_ind(sample_1_1, sample_1_2, equal_var = False)\n",
    "\n",
    "print('p-value:', results.pvalue)\n",
    "\n",
    "if results.pvalue < alpha:\n",
    "    print('Rejecting the null hypothesis')\n",
    "else:\n",
    "    print('Failed to reject the null hypothesis') "
   ]
  },
  {
   "cell_type": "code",
   "execution_count": 79,
   "metadata": {},
   "outputs": [
    {
     "name": "stdout",
     "output_type": "stream",
     "text": [
      "Median travel time during construction 13.031724537037036\n"
     ]
    }
   ],
   "source": [
    "print('Median travel time during construction', sample_1_1.median())"
   ]
  },
  {
   "cell_type": "code",
   "execution_count": 80,
   "metadata": {},
   "outputs": [
    {
     "name": "stdout",
     "output_type": "stream",
     "text": [
      "Median transit time in pvp 10.792789351851852\n"
     ]
    }
   ],
   "source": [
    "print('Median transit time in pvp', sample_1_2.median())\n"
   ]
  },
  {
   "cell_type": "markdown",
   "metadata": {},
   "source": [
    "**Test the hypothesis about the equality of the life cycle of users who have reached the first level and who have not reached the first level.**"
   ]
  },
  {
   "cell_type": "code",
   "execution_count": 81,
   "metadata": {},
   "outputs": [],
   "source": [
    "# id of users who did not complete the 1st stage\n",
    "userid_level_0 = game_actions_C[game_actions_C['event'] != \"finished_stage_1\"]['user_id']"
   ]
  },
  {
   "cell_type": "code",
   "execution_count": 82,
   "metadata": {},
   "outputs": [
    {
     "data": {
      "text/html": [
       "<div>\n",
       "<style scoped>\n",
       "    .dataframe tbody tr th:only-of-type {\n",
       "        vertical-align: middle;\n",
       "    }\n",
       "\n",
       "    .dataframe tbody tr th {\n",
       "        vertical-align: top;\n",
       "    }\n",
       "\n",
       "    .dataframe thead th {\n",
       "        text-align: right;\n",
       "    }\n",
       "</style>\n",
       "<table border=\"1\" class=\"dataframe\">\n",
       "  <thead>\n",
       "    <tr style=\"text-align: right;\">\n",
       "      <th></th>\n",
       "      <th>event_datetime</th>\n",
       "      <th>event</th>\n",
       "      <th>building_type</th>\n",
       "      <th>user_id</th>\n",
       "      <th>project_type</th>\n",
       "      <th>user_level</th>\n",
       "      <th>max</th>\n",
       "      <th>min</th>\n",
       "      <th>life</th>\n",
       "    </tr>\n",
       "  </thead>\n",
       "  <tbody>\n",
       "    <tr>\n",
       "      <td>0</td>\n",
       "      <td>2020-05-04 00:00:01</td>\n",
       "      <td>building</td>\n",
       "      <td>assembly_shop</td>\n",
       "      <td>55e92310-cb8e-4754-b622-597e124b03de</td>\n",
       "      <td>NaN</td>\n",
       "      <td>0</td>\n",
       "      <td>2020-05-10 20:27:01</td>\n",
       "      <td>2020-05-04 00:00:01</td>\n",
       "      <td>6.852083</td>\n",
       "    </tr>\n",
       "    <tr>\n",
       "      <td>1</td>\n",
       "      <td>2020-05-05 05:20:15</td>\n",
       "      <td>building</td>\n",
       "      <td>assembly_shop</td>\n",
       "      <td>55e92310-cb8e-4754-b622-597e124b03de</td>\n",
       "      <td>NaN</td>\n",
       "      <td>0</td>\n",
       "      <td>2020-05-10 20:27:01</td>\n",
       "      <td>2020-05-04 00:00:01</td>\n",
       "      <td>6.852083</td>\n",
       "    </tr>\n",
       "    <tr>\n",
       "      <td>2</td>\n",
       "      <td>2020-05-05 19:24:02</td>\n",
       "      <td>building</td>\n",
       "      <td>assembly_shop</td>\n",
       "      <td>55e92310-cb8e-4754-b622-597e124b03de</td>\n",
       "      <td>NaN</td>\n",
       "      <td>0</td>\n",
       "      <td>2020-05-10 20:27:01</td>\n",
       "      <td>2020-05-04 00:00:01</td>\n",
       "      <td>6.852083</td>\n",
       "    </tr>\n",
       "    <tr>\n",
       "      <td>3</td>\n",
       "      <td>2020-05-05 20:59:19</td>\n",
       "      <td>building</td>\n",
       "      <td>assembly_shop</td>\n",
       "      <td>55e92310-cb8e-4754-b622-597e124b03de</td>\n",
       "      <td>NaN</td>\n",
       "      <td>0</td>\n",
       "      <td>2020-05-10 20:27:01</td>\n",
       "      <td>2020-05-04 00:00:01</td>\n",
       "      <td>6.852083</td>\n",
       "    </tr>\n",
       "    <tr>\n",
       "      <td>4</td>\n",
       "      <td>2020-05-06 00:52:56</td>\n",
       "      <td>building</td>\n",
       "      <td>assembly_shop</td>\n",
       "      <td>55e92310-cb8e-4754-b622-597e124b03de</td>\n",
       "      <td>NaN</td>\n",
       "      <td>0</td>\n",
       "      <td>2020-05-10 20:27:01</td>\n",
       "      <td>2020-05-04 00:00:01</td>\n",
       "      <td>6.852083</td>\n",
       "    </tr>\n",
       "  </tbody>\n",
       "</table>\n",
       "</div>"
      ],
      "text/plain": [
       "       event_datetime     event  building_type  \\\n",
       "0 2020-05-04 00:00:01  building  assembly_shop   \n",
       "1 2020-05-05 05:20:15  building  assembly_shop   \n",
       "2 2020-05-05 19:24:02  building  assembly_shop   \n",
       "3 2020-05-05 20:59:19  building  assembly_shop   \n",
       "4 2020-05-06 00:52:56  building  assembly_shop   \n",
       "\n",
       "                                user_id project_type  user_level  \\\n",
       "0  55e92310-cb8e-4754-b622-597e124b03de          NaN           0   \n",
       "1  55e92310-cb8e-4754-b622-597e124b03de          NaN           0   \n",
       "2  55e92310-cb8e-4754-b622-597e124b03de          NaN           0   \n",
       "3  55e92310-cb8e-4754-b622-597e124b03de          NaN           0   \n",
       "4  55e92310-cb8e-4754-b622-597e124b03de          NaN           0   \n",
       "\n",
       "                  max                 min      life  \n",
       "0 2020-05-10 20:27:01 2020-05-04 00:00:01  6.852083  \n",
       "1 2020-05-10 20:27:01 2020-05-04 00:00:01  6.852083  \n",
       "2 2020-05-10 20:27:01 2020-05-04 00:00:01  6.852083  \n",
       "3 2020-05-10 20:27:01 2020-05-04 00:00:01  6.852083  \n",
       "4 2020-05-10 20:27:01 2020-05-04 00:00:01  6.852083  "
      ]
     },
     "execution_count": 82,
     "metadata": {},
     "output_type": "execute_result"
    }
   ],
   "source": [
    "failed = game_actions_clean[game_actions_clean['user_id'].isin(userid_level_0)].sort_values(by = ['event_datetime','user_id'], ascending = True)\n",
    "failed = failed.merge(min_max_user_date, left_on='user_id', right_on='user_id')\n",
    "failed = failed[failed['user_level'] == 0]\n",
    "failed.head()"
   ]
  },
  {
   "cell_type": "code",
   "execution_count": 83,
   "metadata": {},
   "outputs": [
    {
     "data": {
      "text/html": [
       "<div>\n",
       "<style scoped>\n",
       "    .dataframe tbody tr th:only-of-type {\n",
       "        vertical-align: middle;\n",
       "    }\n",
       "\n",
       "    .dataframe tbody tr th {\n",
       "        vertical-align: top;\n",
       "    }\n",
       "\n",
       "    .dataframe thead th {\n",
       "        text-align: right;\n",
       "    }\n",
       "</style>\n",
       "<table border=\"1\" class=\"dataframe\">\n",
       "  <thead>\n",
       "    <tr style=\"text-align: right;\">\n",
       "      <th></th>\n",
       "      <th>event_datetime</th>\n",
       "      <th>event</th>\n",
       "      <th>building_type</th>\n",
       "      <th>user_id</th>\n",
       "      <th>project_type</th>\n",
       "      <th>user_level</th>\n",
       "      <th>max</th>\n",
       "      <th>min</th>\n",
       "      <th>life</th>\n",
       "    </tr>\n",
       "  </thead>\n",
       "  <tbody>\n",
       "    <tr>\n",
       "      <td>0</td>\n",
       "      <td>2020-05-04 00:00:03</td>\n",
       "      <td>building</td>\n",
       "      <td>assembly_shop</td>\n",
       "      <td>c07b1c10-f477-44dc-81dc-ec82254b1347</td>\n",
       "      <td>NaN</td>\n",
       "      <td>0</td>\n",
       "      <td>2020-05-15 05:29:13</td>\n",
       "      <td>2020-05-04 00:00:03</td>\n",
       "      <td>11.228588</td>\n",
       "    </tr>\n",
       "    <tr>\n",
       "      <td>1</td>\n",
       "      <td>2020-05-06 23:49:25</td>\n",
       "      <td>building</td>\n",
       "      <td>assembly_shop</td>\n",
       "      <td>c07b1c10-f477-44dc-81dc-ec82254b1347</td>\n",
       "      <td>NaN</td>\n",
       "      <td>0</td>\n",
       "      <td>2020-05-15 05:29:13</td>\n",
       "      <td>2020-05-04 00:00:03</td>\n",
       "      <td>11.228588</td>\n",
       "    </tr>\n",
       "    <tr>\n",
       "      <td>2</td>\n",
       "      <td>2020-05-07 03:56:30</td>\n",
       "      <td>building</td>\n",
       "      <td>spaceport</td>\n",
       "      <td>c07b1c10-f477-44dc-81dc-ec82254b1347</td>\n",
       "      <td>NaN</td>\n",
       "      <td>0</td>\n",
       "      <td>2020-05-15 05:29:13</td>\n",
       "      <td>2020-05-04 00:00:03</td>\n",
       "      <td>11.228588</td>\n",
       "    </tr>\n",
       "    <tr>\n",
       "      <td>3</td>\n",
       "      <td>2020-05-07 07:58:20</td>\n",
       "      <td>building</td>\n",
       "      <td>assembly_shop</td>\n",
       "      <td>c07b1c10-f477-44dc-81dc-ec82254b1347</td>\n",
       "      <td>NaN</td>\n",
       "      <td>0</td>\n",
       "      <td>2020-05-15 05:29:13</td>\n",
       "      <td>2020-05-04 00:00:03</td>\n",
       "      <td>11.228588</td>\n",
       "    </tr>\n",
       "    <tr>\n",
       "      <td>4</td>\n",
       "      <td>2020-05-07 08:30:13</td>\n",
       "      <td>building</td>\n",
       "      <td>assembly_shop</td>\n",
       "      <td>c07b1c10-f477-44dc-81dc-ec82254b1347</td>\n",
       "      <td>NaN</td>\n",
       "      <td>0</td>\n",
       "      <td>2020-05-15 05:29:13</td>\n",
       "      <td>2020-05-04 00:00:03</td>\n",
       "      <td>11.228588</td>\n",
       "    </tr>\n",
       "  </tbody>\n",
       "</table>\n",
       "</div>"
      ],
      "text/plain": [
       "       event_datetime     event  building_type  \\\n",
       "0 2020-05-04 00:00:03  building  assembly_shop   \n",
       "1 2020-05-06 23:49:25  building  assembly_shop   \n",
       "2 2020-05-07 03:56:30  building      spaceport   \n",
       "3 2020-05-07 07:58:20  building  assembly_shop   \n",
       "4 2020-05-07 08:30:13  building  assembly_shop   \n",
       "\n",
       "                                user_id project_type  user_level  \\\n",
       "0  c07b1c10-f477-44dc-81dc-ec82254b1347          NaN           0   \n",
       "1  c07b1c10-f477-44dc-81dc-ec82254b1347          NaN           0   \n",
       "2  c07b1c10-f477-44dc-81dc-ec82254b1347          NaN           0   \n",
       "3  c07b1c10-f477-44dc-81dc-ec82254b1347          NaN           0   \n",
       "4  c07b1c10-f477-44dc-81dc-ec82254b1347          NaN           0   \n",
       "\n",
       "                  max                 min       life  \n",
       "0 2020-05-15 05:29:13 2020-05-04 00:00:03  11.228588  \n",
       "1 2020-05-15 05:29:13 2020-05-04 00:00:03  11.228588  \n",
       "2 2020-05-15 05:29:13 2020-05-04 00:00:03  11.228588  \n",
       "3 2020-05-15 05:29:13 2020-05-04 00:00:03  11.228588  \n",
       "4 2020-05-15 05:29:13 2020-05-04 00:00:03  11.228588  "
      ]
     },
     "execution_count": 83,
     "metadata": {},
     "output_type": "execute_result"
    }
   ],
   "source": [
    "success = game_actions_clean[game_actions_clean['user_id'].isin(userid_level_1)].sort_values(by = ['event_datetime','user_id'], ascending = True)\n",
    "success = success.merge(min_max_user_date, left_on='user_id', right_on='user_id')\n",
    "success = success[success['user_level'] == 0]\n",
    "success.head()"
   ]
  },
  {
   "cell_type": "markdown",
   "metadata": {},
   "source": [
    "**let's form the first hypothesis #  **\n",
    "\n",
    "`H0:` life time is the same\n",
    "\n",
    "`H1:` life time varies"
   ]
  },
  {
   "cell_type": "code",
   "execution_count": 84,
   "metadata": {},
   "outputs": [],
   "source": [
    "sample_2_1 = success['life']\n",
    "sample_2_2 = failed['life']"
   ]
  },
  {
   "cell_type": "code",
   "execution_count": 85,
   "metadata": {},
   "outputs": [
    {
     "data": {
      "image/png": "[encoded data removed]",
      "text/plain": [
       "<Figure size 1296x648 with 2 Axes>"
      ]
     },
     "metadata": {
      "needs_background": "light"
     },
     "output_type": "display_data"
    }
   ],
   "source": [
    "fig = plt.figure(figsize=(18, 9))\n",
    "\n",
    "ax_1 = fig.add_subplot(2, 2, 1)\n",
    "ax_2 = fig.add_subplot(2, 2, 2)\n",
    "\n",
    "ax_1.hist(sample_2_1, bins='auto')\n",
    "ax_2.hist(sample_2_2, bins='auto')\n",
    "\n",
    "ax_1.set_title('success')\n",
    "ax_2.set_title('fail')\n",
    "\n",
    "ax_1.set_xlabel('User_life')\n",
    "ax_2.set_xlabel('User_life')\n",
    "\n",
    "ax_1.set_ylabel('Frequency')\n",
    "ax_1.set_ylabel('Frequency')\n",
    "\n",
    "plt.show()"
   ]
  },
  {
   "cell_type": "code",
   "execution_count": 86,
   "metadata": {},
   "outputs": [
    {
     "name": "stdout",
     "output_type": "stream",
     "text": [
      "var_2_1: 12.304\n",
      "var_2_2: 16.775\n",
      "Difference of var1 and var_2 = 90%\n",
      "\n",
      "p-value: 6.46369786800465e-310\n",
      "Rejecting the null hypothesis\n"
     ]
    }
   ],
   "source": [
    "from scipy import stats as st\n",
    "import numpy as np\n",
    "\n",
    "# check the variance of sample_1 and sample_2 to set equal_var = True\n",
    "variance_2_1 = np.var(sample_2_1, ddof = 1)\n",
    "variance_2_2 = np.var(sample_2_2, ddof = 1)\n",
    "print('var_2_1: {:.3f}'.format(variance_1))\n",
    "print('var_2_2: {:.3f}'.format(variance_2))\n",
    "print('Difference of var1 and var_2 = {:.0%}'.format(variance_2_1 / variance_2_2))\n",
    "print()\n",
    "\n",
    "alpha = 0.05  # critical level of statistical significance\n",
    "# if the p-value is less than it, we reject the hypothesis\n",
    "\n",
    "results = st.ttest_ind(sample_2_1, sample_2_2, equal_var = False)\n",
    "\n",
    "print('p-value:', results.pvalue)\n",
    "\n",
    "if results.pvalue < alpha:\n",
    "    print('Rejecting the null hypothesis')\n",
    "else:\n",
    "    print('Failed to reject the null hypothesis') "
   ]
  },
  {
   "cell_type": "code",
   "execution_count": 87,
   "metadata": {},
   "outputs": [
    {
     "name": "stdout",
     "output_type": "stream",
     "text": [
      "The period of life of users who completed the first level 12.086782407407407\n"
     ]
    }
   ],
   "source": [
    "print('The period of life of users who completed the first level', sample_2_1.median())"
   ]
  },
  {
   "cell_type": "code",
   "execution_count": 88,
   "metadata": {
    "scrolled": true
   },
   "outputs": [
    {
     "name": "stdout",
     "output_type": "stream",
     "text": [
      "The lifetime of users who have NOT completed the first level 11.458657407407408\n"
     ]
    }
   ],
   "source": [
    "print('The lifetime of users who have NOT completed the first level', sample_2_2.median())"
   ]
  },
  {
   "cell_type": "markdown",
   "metadata": {},
   "source": [
    "# Conclusions statistical hypothesis testing\n",
    "<a id='Выводы проверка гипотез'></a>"
   ]
  },
  {
   "cell_type": "markdown",
   "metadata": {},
   "source": [
    "Hypothesis 1: We got a statistically significant result that the time to complete the first level is the same for users doing the building and users who win in bidtas, i.e. the likelihood of such an event occurring is extremely small. Basically, the travel times are different."
   ]
  },
  {
   "cell_type": "markdown",
   "metadata": {},
   "source": [
    "Hypothesis 2: We got a statistically significant result that the lifetime of users at the first level who completed the level and those who did not complete the level are the same, i.e. the likelihood of such an event occurring is extremely small. Basically, the lifespan of such users is different."
   ]
  },
  {
   "cell_type": "markdown",
   "metadata": {},
   "source": [
    "# 8. Project conclusions\n",
    "<a id='Выводы по проекту'></a>"
   ]
  },
  {
   "cell_type": "markdown",
   "metadata": {},
   "source": [
    "**generate a conclusion at what moment the user should be shown an advertisement or offer a purchase**\n"
   ]
  },
  {
   "cell_type": "markdown",
   "metadata": {},
   "source": [
    "- First ad run in stage 4, after about - 3.46 days\n",
    "- Second ad run at stage 6, after about - 5.01 days\n",
    "- Third ad run at stage 9, approximately - 7.33 days later\n",
    "- The fourth ad run at stage 10, after about - 8.12 days\n",
    "- Fifth ad run at stage 11, approximately - 8.85 days later\n",
    "- Sixth ad run at stage 12, approximately - 9.62 days later\n",
    "- Seventh ad run at stage 13, approximately - 10.37 days later"
   ]
  },
  {
   "cell_type": "markdown",
   "metadata": {},
   "source": [
    "**generate a conclusion in what should be the price of displaying an advertisement or the price of a user's purchase**\n"
   ]
  },
  {
   "cell_type": "markdown",
   "metadata": {},
   "source": [
    "Various scenarios of the company's work have been calculated. The marketing department must choose the acceptable one.\n",
    "\n",
    "**--- Scenario calculation, Margin = 0.00% ---**\n",
    "\n",
    "- Profit = 0.0\n",
    "\n",
    "- CPAcq = 0.56\n",
    "\n",
    "- ARPU = 0.56\n",
    "\n",
    "- Profit / Loss per user = 0.0\n",
    "\n",
    "- cost of 1 ad impression for one user = 0.0\n",
    "\n",
    "\n",
    "**--- Scenario calculation, Margin = 10.00% ---**\n",
    "\n",
    "- Profit = 760.35\n",
    "\n",
    "- CPAcq = 0.56\n",
    "\n",
    "- ARPU = 0.62\n",
    "\n",
    "- Profit / Loss per user = 0.06\n",
    "\n",
    "- cost of 1 ad impression for one user = 0.0\n",
    "\n",
    "**--- Scenario calculation, Margin = 20.00% ---**\n",
    "\n",
    "- Profit = 1520.71\n",
    "\n",
    "- CPAcq = 0.56\n",
    "\n",
    "- ARPU = 0.67\n",
    "\n",
    "- Profit / Loss per user = 0.11\n",
    "\n",
    "- cost of 1 ad impression for one user = 0.0\n",
    "\n",
    "**--- Scenario calculation, Margin = 30.00% ---**\n",
    "\n",
    "- Profit = 2281.07\n",
    "\n",
    "- CPAcq = 0.56\n",
    "\n",
    "- ARPU = 0.73\n",
    "\n",
    "- Profit / Loss per user = 0.17\n",
    "\n",
    "- cost of 1 ad impression for one user = 0.0\n",
    "\n",
    "**--- Scenario calculation, Margin = 40.00% ---**\n",
    "\n",
    "- Profit = 3041.43\n",
    "\n",
    "- CPAcq = 0.56\n",
    "\n",
    "- ARPU = 0.78\n",
    "\n",
    "- Profit / Loss per user = 0.22\n",
    "\n",
    "- cost of 1 ad impression for one user = 0.0"
   ]
  },
  {
   "cell_type": "markdown",
   "metadata": {},
   "source": [
    "**find and explain the best traffic driving channels**"
   ]
  },
  {
   "cell_type": "markdown",
   "metadata": {},
   "source": [
    "We need to focus the main part of the budget ~ 50-70% on `youtube_channel_reklama` + `yandex_direct`.\n",
    "\n",
    "Distribute the rest on `instagram_new_adverts` and `facebook_ads`, with priority on `instagram_new_adverts`."
   ]
  },
  {
   "cell_type": "code",
   "execution_count": null,
   "metadata": {},
   "outputs": [],
   "source": []
  }
 ],
 "metadata": {
  "kernelspec": {
   "display_name": "Python 3",
   "language": "python",
   "name": "python3"
  },
  "language_info": {
   "codemirror_mode": {
    "name": "ipython",
    "version": 3
   },
   "file_extension": ".py",
   "mimetype": "text/x-python",
   "name": "python",
   "nbconvert_exporter": "python",
   "pygments_lexer": "ipython3",
   "version": "3.7.8"
  },
  "toc": {
   "base_numbering": 1,
   "nav_menu": {},
   "number_sections": true,
   "sideBar": true,
   "skip_h1_title": true,
   "title_cell": "Table of Contents",
   "title_sidebar": "Contents",
   "toc_cell": false,
   "toc_position": {},
   "toc_section_display": true,
   "toc_window_display": false
  }
 },
 "nbformat": 4,
 "nbformat_minor": 2
}
