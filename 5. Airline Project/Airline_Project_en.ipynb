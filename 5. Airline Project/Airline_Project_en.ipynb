{
 "cells": [
  {
   "cell_type": "markdown",
   "metadata": {},
   "source": [
    "### Table of content: \n",
    "\n",
    "<a href='#Описание проекта'>1. Project Description</a>\n",
    "\n",
    "<a href='#Аналитика средствами Python'>2. Analytics with Python and SQL</a>\n",
    "\n",
    "<a href='#Выводы'>3. Conclusion</a>"
   ]
  },
  {
   "cell_type": "markdown",
   "metadata": {},
   "source": [
    "# Project Description\n",
    "<a id='Начало'></a>\n",
    "<a id='Описание проекта'></a>"
   ]
  },
  {
   "cell_type": "markdown",
   "metadata": {},
   "source": [
    "\"F9\" is a Russian airline that operates domestic passenger air services. Hundreds of flights every day. It is important to understand the preferences of users who buy tickets to certain destinations.\n",
    "It is necessary to study the database and analyze the passenger demand for flights to the cities where the largest festivals are held."
   ]
  },
  {
   "cell_type": "markdown",
   "metadata": {},
   "source": [
    "**Description of data\n",
    "Air Freight Database:**\n",
    "    \n",
    "The `airports` table - information about airports:\n",
    "    \n",
    "- airport_code - three-letter airport code\n",
    "- airport_name - airport name\n",
    "- city - city\n",
    "- timezone - time zone\n",
    "\n",
    "`Aircrafts` table - aircraft information:\n",
    "    \n",
    "- aircraft_code - aircraft model code\n",
    "- model - aircraft model\n",
    "- range - number of aircraft\n",
    "\n",
    "The `tickets` table - information about tickets:\n",
    "    \n",
    "- ticket_no - unique ticket number\n",
    "- passenger_id - personal identifier of the passenger\n",
    "- passenger_name - passenger's first and last name\n",
    "\n",
    "Table `flights` - information about flights:\n",
    "    \n",
    "- flight_id - unique flight identifier\n",
    "- departure_airport - departure airport\n",
    "- departure_time - date and time of departure\n",
    "- arrival_airport - arrival airport\n",
    "- arrival_time - date and time of arrival\n",
    "- aircraft_code - aircraft id\n",
    "\n",
    "The `ticket_flights` table - a flight-to-ticket splice table\n",
    "\n",
    "- ticket_no - ticket number\n",
    "- flight_id - flight identifier\n",
    "\n",
    "Table `festivals` - information about festivals\n",
    "\n",
    "- festival_id - unique number of the festival\n",
    "- festival_date - the date of the festival\n",
    "- festival_city - the city of the festival\n",
    "- festival_name - the name of the festival"
   ]
  },
  {
   "cell_type": "markdown",
   "metadata": {},
   "source": [
    "**Table schema**"
   ]
  },
  {
   "cell_type": "code",
   "execution_count": 1,
   "metadata": {},
   "outputs": [
    {
     "data": {
      "text/html": [
       "<img src=\"https://pictures.s3.yandex.net/resources/photo_2019-11-08_14-08-31_1573733426.jpg\"/>"
      ],
      "text/plain": [
       "<IPython.core.display.Image object>"
      ]
     },
     "execution_count": 1,
     "metadata": {},
     "output_type": "execute_result"
    }
   ],
   "source": [
    "from IPython.display import Image\n",
    "from IPython.core.display import HTML \n",
    "Image(url='https://pictures.s3.yandex.net/resources/photo_2019-11-08_14-08-31_1573733426.jpg')"
   ]
  },
  {
   "cell_type": "markdown",
   "metadata": {},
   "source": [
    "Explanation: There is no direct relationship in the database between the `airports` and `festivals` tables, or `festivals` and `flights` tables. But you can write JOIN and link these tables by the city of the festival (festival_city) and the city of the airport (city). Some conversion of dates to `flights` is required, and then this table can also be linked by the date of the festival (` festival_date`) in requests with JOIN."
   ]
  },
  {
   "cell_type": "markdown",
   "metadata": {},
   "source": [
    "### Task 1 - Data Mining"
   ]
  },
  {
   "cell_type": "markdown",
   "metadata": {},
   "source": [
    "Write a parser to collect data on the 11 largest festivals of 2018 from the site. Save the data to the festivals dataframe and display it.\n",
    "link: https://code.s3.yandex.net/learning-materials/data-analyst/festival_news/index.html"
   ]
  },
  {
   "cell_type": "markdown",
   "metadata": {},
   "source": [
    "### Task 2 - SQL Requests"
   ]
  },
  {
   "cell_type": "markdown",
   "metadata": {},
   "source": [
    "Find information in SQL Database."
   ]
  },
  {
   "cell_type": "markdown",
   "metadata": {},
   "source": [
    "### Task 3 - Data Analysis"
   ]
  },
  {
   "cell_type": "markdown",
   "metadata": {},
   "source": [
    "You have files that contain the results of SQL queries from previous jobs.\n",
    "\n",
    "/datasets/query_1.csv - The result of the first query. It contains information about:\n",
    "- model - aircraft model\n",
    "- flights_amount - number of flights for each model aircraft model in September 2018\n",
    "\n",
    "/datasets/query_3.csv - the result of the third query. It contains information about:\n",
    "- city - cities\n",
    "- average_flights - the average number of flights arriving in the city per day in August 2018\n",
    "\n",
    "These two datasets require:\n",
    "\n",
    "  - import files;\n",
    "  - examine the data in them;\n",
    "  - check data types for correctness;\n",
    "  - choose the top 10 cities by the number of flights;\n",
    "  - build graphs: aircraft models and the number of flights, cities and the number of flights, top 10 cities and the number of flights;\n",
    "  - draw conclusions for each of the graphs, explain the result.\n",
    "  "
   ]
  },
  {
   "cell_type": "markdown",
   "metadata": {},
   "source": [
    "## Analytics with Python and SQL\n",
    "<a id='Аналитика средствами Python'></a>"
   ]
  },
  {
   "cell_type": "markdown",
   "metadata": {},
   "source": [
    "### Data Mining"
   ]
  },
  {
   "cell_type": "code",
   "execution_count": 6,
   "metadata": {},
   "outputs": [
    {
     "data": {
      "text/html": [
       "<div>\n",
       "<style scoped>\n",
       "    .dataframe tbody tr th:only-of-type {\n",
       "        vertical-align: middle;\n",
       "    }\n",
       "\n",
       "    .dataframe tbody tr th {\n",
       "        vertical-align: top;\n",
       "    }\n",
       "\n",
       "    .dataframe thead th {\n",
       "        text-align: right;\n",
       "    }\n",
       "</style>\n",
       "<table border=\"1\" class=\"dataframe\">\n",
       "  <thead>\n",
       "    <tr style=\"text-align: right;\">\n",
       "      <th></th>\n",
       "      <th>Название фестиваля</th>\n",
       "      <th>Место проведения</th>\n",
       "      <th>Дата проведения</th>\n",
       "    </tr>\n",
       "  </thead>\n",
       "  <tbody>\n",
       "    <tr>\n",
       "      <th>0</th>\n",
       "      <td>Музыкальный фестиваль «Усадьба Jazz»</td>\n",
       "      <td>Екатеринбург</td>\n",
       "      <td>01.07.2018</td>\n",
       "    </tr>\n",
       "    <tr>\n",
       "      <th>1</th>\n",
       "      <td>Фестиваль музыки и технологий Alfa Future People</td>\n",
       "      <td>Нижний Новгород</td>\n",
       "      <td>10.08.2018</td>\n",
       "    </tr>\n",
       "    <tr>\n",
       "      <th>2</th>\n",
       "      <td>Фестиваль еды «О, да! Еда!»</td>\n",
       "      <td>Санкт-Петербург</td>\n",
       "      <td>21.07.2018</td>\n",
       "    </tr>\n",
       "    <tr>\n",
       "      <th>3</th>\n",
       "      <td>Доброфест</td>\n",
       "      <td>Ярославль</td>\n",
       "      <td>29.07.2018</td>\n",
       "    </tr>\n",
       "    <tr>\n",
       "      <th>4</th>\n",
       "      <td>Park Live</td>\n",
       "      <td>Москва</td>\n",
       "      <td>28.07.2018</td>\n",
       "    </tr>\n",
       "    <tr>\n",
       "      <th>5</th>\n",
       "      <td>Пикник Афиши</td>\n",
       "      <td>Москва</td>\n",
       "      <td>04.08.2018</td>\n",
       "    </tr>\n",
       "    <tr>\n",
       "      <th>6</th>\n",
       "      <td>VK FEST</td>\n",
       "      <td>Санкт-Петербург</td>\n",
       "      <td>29.07.2018</td>\n",
       "    </tr>\n",
       "    <tr>\n",
       "      <th>7</th>\n",
       "      <td>Фестиваль «О, да! Еда!»</td>\n",
       "      <td>Иркутск</td>\n",
       "      <td>25.08.2018</td>\n",
       "    </tr>\n",
       "    <tr>\n",
       "      <th>8</th>\n",
       "      <td>Фестиваль «О, да! Еда!»</td>\n",
       "      <td>Владивосток</td>\n",
       "      <td>02.09.2018</td>\n",
       "    </tr>\n",
       "    <tr>\n",
       "      <th>9</th>\n",
       "      <td>Видфест</td>\n",
       "      <td>Москва</td>\n",
       "      <td>08.09.2018</td>\n",
       "    </tr>\n",
       "    <tr>\n",
       "      <th>10</th>\n",
       "      <td>«Нашествие 2018»</td>\n",
       "      <td>Тверь</td>\n",
       "      <td>05.08.2018</td>\n",
       "    </tr>\n",
       "  </tbody>\n",
       "</table>\n",
       "</div>"
      ],
      "text/plain": [
       "                                  Название фестиваля Место проведения  \\\n",
       "0               Музыкальный фестиваль «Усадьба Jazz»     Екатеринбург   \n",
       "1   Фестиваль музыки и технологий Alfa Future People  Нижний Новгород   \n",
       "2                        Фестиваль еды «О, да! Еда!»  Санкт-Петербург   \n",
       "3                                          Доброфест        Ярославль   \n",
       "4                                          Park Live           Москва   \n",
       "5                                       Пикник Афиши           Москва   \n",
       "6                                            VK FEST  Санкт-Петербург   \n",
       "7                            Фестиваль «О, да! Еда!»          Иркутск   \n",
       "8                            Фестиваль «О, да! Еда!»      Владивосток   \n",
       "9                                            Видфест           Москва   \n",
       "10                                  «Нашествие 2018»            Тверь   \n",
       "\n",
       "   Дата проведения  \n",
       "0       01.07.2018  \n",
       "1       10.08.2018  \n",
       "2       21.07.2018  \n",
       "3       29.07.2018  \n",
       "4       28.07.2018  \n",
       "5       04.08.2018  \n",
       "6       29.07.2018  \n",
       "7       25.08.2018  \n",
       "8       02.09.2018  \n",
       "9       08.09.2018  \n",
       "10      05.08.2018  "
      ]
     },
     "metadata": {},
     "output_type": "display_data"
    }
   ],
   "source": [
    "import requests\n",
    "import pandas as pd\n",
    "from bs4 import BeautifulSoup\n",
    "\n",
    "# make better view for tables\n",
    "from IPython.display import display\n",
    "from IPython.display import Image\n",
    "from IPython.core.display import HTML\n",
    "\n",
    "URL = 'https://code.s3.yandex.net/learning-materials/data-analyst/festival_news/index.html'\n",
    "req = requests.get(URL)\n",
    "\n",
    "soup = BeautifulSoup(req.text,'lxml')\n",
    "table = soup.find('table', attrs = {'id':\"best_festivals\"})\n",
    "\n",
    "heading_table = []\n",
    "for row in table.find_all('th'):\n",
    "    heading_table.append(row.text)\n",
    "\n",
    "name_fest = []\n",
    "place = []\n",
    "date_fest = []\n",
    "i = 1\n",
    "\n",
    "for row in table.find_all('td'):\n",
    "    if i % 3 == 1:\n",
    "        if not row.find_all('th'):\n",
    "            name_fest.append(row.text)\n",
    "            i += 1\n",
    "    elif i % 3 == 2:\n",
    "        if not row.find_all('th'):\n",
    "            place.append(row.text)\n",
    "            i += 1\n",
    "    elif i % 3 == 0:\n",
    "        if not row.find_all('th'):\n",
    "            date_fest.append(row.text)\n",
    "            i += 1\n",
    "\n",
    "festivals = pd.DataFrame()\n",
    "festivals['name_fest'] = name_fest\n",
    "festivals['place'] = place\n",
    "festivals['date_fest'] = date_fest\n",
    "\n",
    "festivals.columns = heading_table\n",
    "\n",
    "display(festivals)"
   ]
  },
  {
   "cell_type": "markdown",
   "metadata": {},
   "source": [
    "### SQL Requests"
   ]
  },
  {
   "cell_type": "markdown",
   "metadata": {},
   "source": [
    "Examine the airports table and list the `cities` that have airports."
   ]
  },
  {
   "cell_type": "raw",
   "metadata": {},
   "source": [
    "SELECT\n",
    "    DISTINCT city\n",
    "FROM\n",
    "    airports\n",
    "WHERE\n",
    "    AIRPORT_CODE IS NOT NULL"
   ]
  },
  {
   "cell_type": "markdown",
   "metadata": {},
   "source": [
    "Examine the `flights` table and count the number of departures `flight_id` from each departure airport `departure_airport`. Name the variable `cnt_flights` and print it along with the column `departure_airport` - first `departure_airport`, then `cnt_flights`. Sort the result in descending order of the number of departures."
   ]
  },
  {
   "cell_type": "raw",
   "metadata": {},
   "source": [
    "SELECT\n",
    "    departure_airport,\n",
    "    COUNT(flight_id) as cnt_flights\n",
    "FROM\n",
    "    flights\n",
    "GROUP BY\n",
    "    departure_airport\n",
    "ORDER BY\n",
    "    cnt_flights DESC"
   ]
  },
  {
   "cell_type": "markdown",
   "metadata": {},
   "source": [
    "Find the number of flights on each aircraft model departing in September 2018. Name the resulting column `flights_amount` and print it, also print the column` model`.\n",
    "Print the columns in this order:\n",
    "- `model`\n",
    "- `flights_amount`"
   ]
  },
  {
   "cell_type": "raw",
   "metadata": {},
   "source": [
    "SELECT\n",
    "    aircrafts.model as model,\n",
    "    count(flights.flight_id) as flights_amount\n",
    "FROM\n",
    "    flights\n",
    "LEFT JOIN aircrafts ON aircrafts.aircraft_code = flights.aircraft_code\n",
    "WHERE\n",
    "    departure_time :: date >= '2018-09-01'\n",
    "    AND\n",
    "    departure_time :: date <= '2018-09-30'\n",
    "GROUP BY\n",
    "    model"
   ]
  },
  {
   "cell_type": "markdown",
   "metadata": {},
   "source": [
    "Count the number of flights across all Boeing, Airbus and 'other' aircraft models in September. Put the model types in the `type_aircraft` column and the number of flights in the `flights_amount` column. Display them on the screen."
   ]
  },
  {
   "cell_type": "raw",
   "metadata": {},
   "source": [
    "SELECT\n",
    "    (CASE \n",
    "        WHEN aircrafts.model = 'Airbus A319-100' THEN 'Airbus'\n",
    "        WHEN aircrafts.model = 'Airbus A321-200' THEN 'Airbus'\n",
    "        WHEN aircrafts.model = 'Boeing 737-300' THEN 'Boeing'\n",
    "        WHEN aircrafts.model = 'Boeing 767-300' THEN 'Boeing'\n",
    "        WHEN aircrafts.model = 'Boeing 777-300' THEN 'Boeing'\n",
    "        ELSE 'other' \n",
    "     END) as type_aircraft,   \n",
    "    count(flights.flight_id) as flights_amount\n",
    "FROM\n",
    "    flights\n",
    "INNER JOIN aircrafts ON aircrafts.aircraft_code = flights.aircraft_code\n",
    "WHERE\n",
    "    departure_time :: date >= '2018-09-01'\n",
    "    AND\n",
    "    departure_time :: date <= '2018-09-30'\n",
    "GROUP BY\n",
    "    type_aircraft"
   ]
  },
  {
   "cell_type": "markdown",
   "metadata": {},
   "source": [
    "Calculate the average number of arriving flights per day for each city for August 2018. Name the resulting field `average_flights`, print the column` city` with it.\n",
    "Display columns in this order:\n",
    "- `city`,\n",
    "- `average_flights`."
   ]
  },
  {
   "cell_type": "raw",
   "metadata": {},
   "source": [
    "SELECT\n",
    "    DISTINCT SUB.city AS city,\n",
    "    AVG(SUB.cnt) AS average_flights\n",
    "FROM\n",
    " \n",
    "(    SELECT\n",
    "        airports.city,\n",
    "        EXTRACT (DAY FROM arrival_time :: DATE) AS DAY,\n",
    "        COUNT(flight_id) AS cnt\n",
    "    FROM\n",
    "        flights\n",
    "    INNER JOIN airports ON airports.airport_code = flights.arrival_airport\n",
    "    WHERE\n",
    "        departure_time :: DATE >= '2018-08-01'\n",
    "        AND\n",
    "        departure_time :: DATE <= '2018-08-31'\n",
    "    GROUP BY\n",
    "        city, DAY) AS SUB\n",
    "GROUP BY\n",
    "city"
   ]
  },
  {
   "cell_type": "markdown",
   "metadata": {},
   "source": [
    "Set the festivals that took place from July 23 to September 30, 2018 in Moscow, and the number of the week in which they took place. Print the name of the festival `festival_name` and the number of the week` festival_week`."
   ]
  },
  {
   "cell_type": "raw",
   "metadata": {},
   "source": [
    "SELECT\n",
    "festival_name, \n",
    "EXTRACT (week FROM FESTIVAL_DATE :: date) as festival_week\n",
    "FROM \n",
    "festivals\n",
    "WHERE\n",
    "    festival_city = 'Москва'\n",
    "    AND\n",
    "    FESTIVAL_DATE :: date >= '2018-07-23'\n",
    "    AND\n",
    "    FESTIVAL_DATE :: date <= '2018-09-30'"
   ]
  },
  {
   "cell_type": "markdown",
   "metadata": {},
   "source": [
    "For each week from July 23 to September 30, 2018, count the number of tickets purchased for flights to Moscow (week number `week_number` and number of tickets` ticket_amount`). Get a table with information on the number of tickets purchased per week; a mark if the festival took place this week; festival name `festival_name` and week number` week_number`.\n",
    "Display columns in this order:\n",
    "- `week_number`\n",
    "- `ticket_amount`\n",
    "- `festival_week`\n",
    "- `festival_name`"
   ]
  },
  {
   "cell_type": "raw",
   "metadata": {},
   "source": [
    "with FEST as (SELECT\n",
    "festival_name, \n",
    "EXTRACT (week FROM FESTIVAL_DATE :: date) as festival_week\n",
    "FROM \n",
    "festivals\n",
    "WHERE\n",
    "    festival_city = 'Москва'\n",
    "    AND\n",
    "    FESTIVAL_DATE :: date >= '2018-07-23'\n",
    "    AND\n",
    "    FESTIVAL_DATE :: date <= '2018-09-30')\n",
    "\n",
    "\n",
    "SELECT\n",
    "     EXTRACT (week FROM flights.arrival_time :: date) as week_number,\n",
    "     COUNT (ticket_flights.ticket_no) as ticket_amount,\n",
    "     FEST.festival_week as festival_week,\n",
    "     FEST.festival_name as festival_name\n",
    "FROM\n",
    "    flights\n",
    "LEFT JOIN airports ON airports.airport_code = flights.arrival_airport\n",
    "LEFT JOIN ticket_flights ON ticket_flights.flight_id = flights.flight_id\n",
    "LEFT JOIN FEST ON FEST.festival_week = EXTRACT(week FROM flights.arrival_time :: date)\n",
    "WHERE\n",
    "    airports.city = 'Москва'\n",
    "    AND\n",
    "    flights.arrival_time :: date >= '2018-07-23'\n",
    "    AND\n",
    "    flights.arrival_time :: date <= '2018-09-30'\n",
    "GROUP BY\n",
    "    week_number, festival_week, festival_name"
   ]
  },
  {
   "cell_type": "markdown",
   "metadata": {},
   "source": [
    "### Data Analysis"
   ]
  },
  {
   "cell_type": "code",
   "execution_count": 2,
   "metadata": {},
   "outputs": [],
   "source": [
    "# import Pandas\n",
    "import pandas as pd\n",
    "\n",
    "# set settings for display option\n",
    "pd.set_option('display.max_columns', 500)\n",
    "\n",
    "# make better view for tables\n",
    "from IPython.display import display\n",
    "\n",
    "#ignore warnings\n",
    "import warnings\n",
    "warnings.filterwarnings('ignore')"
   ]
  },
  {
   "cell_type": "code",
   "execution_count": 3,
   "metadata": {},
   "outputs": [],
   "source": [
    "query_1 = pd.read_csv('/datasets/query_1.csv')\n",
    "query_3 = pd.read_csv('/datasets/query_3.csv')"
   ]
  },
  {
   "cell_type": "code",
   "execution_count": 4,
   "metadata": {},
   "outputs": [
    {
     "data": {
      "text/html": [
       "<div>\n",
       "<style scoped>\n",
       "    .dataframe tbody tr th:only-of-type {\n",
       "        vertical-align: middle;\n",
       "    }\n",
       "\n",
       "    .dataframe tbody tr th {\n",
       "        vertical-align: top;\n",
       "    }\n",
       "\n",
       "    .dataframe thead th {\n",
       "        text-align: right;\n",
       "    }\n",
       "</style>\n",
       "<table border=\"1\" class=\"dataframe\">\n",
       "  <thead>\n",
       "    <tr style=\"text-align: right;\">\n",
       "      <th></th>\n",
       "      <th>model</th>\n",
       "      <th>flights_amount</th>\n",
       "    </tr>\n",
       "  </thead>\n",
       "  <tbody>\n",
       "    <tr>\n",
       "      <td>0</td>\n",
       "      <td>Airbus A319-100</td>\n",
       "      <td>607</td>\n",
       "    </tr>\n",
       "    <tr>\n",
       "      <td>1</td>\n",
       "      <td>Airbus A321-200</td>\n",
       "      <td>960</td>\n",
       "    </tr>\n",
       "    <tr>\n",
       "      <td>2</td>\n",
       "      <td>Boeing 737-300</td>\n",
       "      <td>630</td>\n",
       "    </tr>\n",
       "    <tr>\n",
       "      <td>3</td>\n",
       "      <td>Boeing 767-300</td>\n",
       "      <td>600</td>\n",
       "    </tr>\n",
       "    <tr>\n",
       "      <td>4</td>\n",
       "      <td>Boeing 777-300</td>\n",
       "      <td>300</td>\n",
       "    </tr>\n",
       "    <tr>\n",
       "      <td>5</td>\n",
       "      <td>Bombardier CRJ-200</td>\n",
       "      <td>4446</td>\n",
       "    </tr>\n",
       "    <tr>\n",
       "      <td>6</td>\n",
       "      <td>Cessna 208 Caravan</td>\n",
       "      <td>4557</td>\n",
       "    </tr>\n",
       "    <tr>\n",
       "      <td>7</td>\n",
       "      <td>Sukhoi SuperJet-100</td>\n",
       "      <td>4185</td>\n",
       "    </tr>\n",
       "  </tbody>\n",
       "</table>\n",
       "</div>"
      ],
      "text/plain": [
       "                 model  flights_amount\n",
       "0      Airbus A319-100             607\n",
       "1      Airbus A321-200             960\n",
       "2       Boeing 737-300             630\n",
       "3       Boeing 767-300             600\n",
       "4       Boeing 777-300             300\n",
       "5   Bombardier CRJ-200            4446\n",
       "6   Cessna 208 Caravan            4557\n",
       "7  Sukhoi SuperJet-100            4185"
      ]
     },
     "metadata": {},
     "output_type": "display_data"
    },
    {
     "name": "stdout",
     "output_type": "stream",
     "text": [
      "<class 'pandas.core.frame.DataFrame'>\n",
      "RangeIndex: 8 entries, 0 to 7\n",
      "Data columns (total 2 columns):\n",
      "model             8 non-null object\n",
      "flights_amount    8 non-null int64\n",
      "dtypes: int64(1), object(1)\n",
      "memory usage: 256.0+ bytes\n",
      "None\n"
     ]
    }
   ],
   "source": [
    "display(query_1.head(10))\n",
    "print(query_1.info())"
   ]
  },
  {
   "cell_type": "code",
   "execution_count": 5,
   "metadata": {},
   "outputs": [
    {
     "data": {
      "text/html": [
       "<div>\n",
       "<style scoped>\n",
       "    .dataframe tbody tr th:only-of-type {\n",
       "        vertical-align: middle;\n",
       "    }\n",
       "\n",
       "    .dataframe tbody tr th {\n",
       "        vertical-align: top;\n",
       "    }\n",
       "\n",
       "    .dataframe thead th {\n",
       "        text-align: right;\n",
       "    }\n",
       "</style>\n",
       "<table border=\"1\" class=\"dataframe\">\n",
       "  <thead>\n",
       "    <tr style=\"text-align: right;\">\n",
       "      <th></th>\n",
       "      <th>city</th>\n",
       "      <th>average_flights</th>\n",
       "    </tr>\n",
       "  </thead>\n",
       "  <tbody>\n",
       "    <tr>\n",
       "      <td>0</td>\n",
       "      <td>Абакан</td>\n",
       "      <td>3.870968</td>\n",
       "    </tr>\n",
       "    <tr>\n",
       "      <td>1</td>\n",
       "      <td>Анадырь</td>\n",
       "      <td>1.000000</td>\n",
       "    </tr>\n",
       "    <tr>\n",
       "      <td>2</td>\n",
       "      <td>Анапа</td>\n",
       "      <td>2.161290</td>\n",
       "    </tr>\n",
       "    <tr>\n",
       "      <td>3</td>\n",
       "      <td>Архангельск</td>\n",
       "      <td>5.354839</td>\n",
       "    </tr>\n",
       "    <tr>\n",
       "      <td>4</td>\n",
       "      <td>Астрахань</td>\n",
       "      <td>2.451613</td>\n",
       "    </tr>\n",
       "  </tbody>\n",
       "</table>\n",
       "</div>"
      ],
      "text/plain": [
       "          city  average_flights\n",
       "0       Абакан         3.870968\n",
       "1      Анадырь         1.000000\n",
       "2        Анапа         2.161290\n",
       "3  Архангельск         5.354839\n",
       "4    Астрахань         2.451613"
      ]
     },
     "metadata": {},
     "output_type": "display_data"
    },
    {
     "name": "stdout",
     "output_type": "stream",
     "text": [
      "<class 'pandas.core.frame.DataFrame'>\n",
      "RangeIndex: 101 entries, 0 to 100\n",
      "Data columns (total 2 columns):\n",
      "city               101 non-null object\n",
      "average_flights    101 non-null float64\n",
      "dtypes: float64(1), object(1)\n",
      "memory usage: 1.7+ KB\n",
      "None\n"
     ]
    }
   ],
   "source": [
    "display(query_3.head())\n",
    "print(query_3.info())"
   ]
  },
  {
   "cell_type": "code",
   "execution_count": 6,
   "metadata": {},
   "outputs": [
    {
     "data": {
      "text/html": [
       "<div>\n",
       "<style scoped>\n",
       "    .dataframe tbody tr th:only-of-type {\n",
       "        vertical-align: middle;\n",
       "    }\n",
       "\n",
       "    .dataframe tbody tr th {\n",
       "        vertical-align: top;\n",
       "    }\n",
       "\n",
       "    .dataframe thead th {\n",
       "        text-align: right;\n",
       "    }\n",
       "</style>\n",
       "<table border=\"1\" class=\"dataframe\">\n",
       "  <thead>\n",
       "    <tr style=\"text-align: right;\">\n",
       "      <th></th>\n",
       "      <th>city</th>\n",
       "      <th>average_flights</th>\n",
       "    </tr>\n",
       "  </thead>\n",
       "  <tbody>\n",
       "    <tr>\n",
       "      <td>43</td>\n",
       "      <td>Москва</td>\n",
       "      <td>129.774194</td>\n",
       "    </tr>\n",
       "    <tr>\n",
       "      <td>70</td>\n",
       "      <td>Санкт-Петербург</td>\n",
       "      <td>31.161290</td>\n",
       "    </tr>\n",
       "    <tr>\n",
       "      <td>54</td>\n",
       "      <td>Новосибирск</td>\n",
       "      <td>17.322581</td>\n",
       "    </tr>\n",
       "    <tr>\n",
       "      <td>33</td>\n",
       "      <td>Красноярск</td>\n",
       "      <td>11.580645</td>\n",
       "    </tr>\n",
       "    <tr>\n",
       "      <td>20</td>\n",
       "      <td>Екатеринбург</td>\n",
       "      <td>11.322581</td>\n",
       "    </tr>\n",
       "    <tr>\n",
       "      <td>67</td>\n",
       "      <td>Ростов-на-Дону</td>\n",
       "      <td>10.193548</td>\n",
       "    </tr>\n",
       "    <tr>\n",
       "      <td>63</td>\n",
       "      <td>Пермь</td>\n",
       "      <td>10.129032</td>\n",
       "    </tr>\n",
       "    <tr>\n",
       "      <td>10</td>\n",
       "      <td>Брянск</td>\n",
       "      <td>10.000000</td>\n",
       "    </tr>\n",
       "    <tr>\n",
       "      <td>74</td>\n",
       "      <td>Сочи</td>\n",
       "      <td>9.612903</td>\n",
       "    </tr>\n",
       "    <tr>\n",
       "      <td>84</td>\n",
       "      <td>Ульяновск</td>\n",
       "      <td>9.580645</td>\n",
       "    </tr>\n",
       "  </tbody>\n",
       "</table>\n",
       "</div>"
      ],
      "text/plain": [
       "               city  average_flights\n",
       "43           Москва       129.774194\n",
       "70  Санкт-Петербург        31.161290\n",
       "54      Новосибирск        17.322581\n",
       "33       Красноярск        11.580645\n",
       "20     Екатеринбург        11.322581\n",
       "67   Ростов-на-Дону        10.193548\n",
       "63            Пермь        10.129032\n",
       "10           Брянск        10.000000\n",
       "74             Сочи         9.612903\n",
       "84        Ульяновск         9.580645"
      ]
     },
     "metadata": {},
     "output_type": "display_data"
    }
   ],
   "source": [
    "display(query_3.sort_values(by = 'average_flights', ascending = False).head(10))\n"
   ]
  },
  {
   "cell_type": "code",
   "execution_count": 7,
   "metadata": {},
   "outputs": [
    {
     "data": {
      "image/png": "[encoded data removed]",
      "text/plain": [
       "<Figure size 1296x432 with 1 Axes>"
      ]
     },
     "metadata": {
      "needs_background": "light"
     },
     "output_type": "display_data"
    }
   ],
   "source": [
    "import matplotlib.pyplot as plt\n",
    "query_1.sort_values(by = 'flights_amount', ascending = False).plot(\n",
    "    kind = 'bar', \n",
    "    x = 'model',\n",
    "    grid = True,\n",
    "    figsize = (18,6),\n",
    "    title = 'Number of flights by aircraft model',\n",
    "    fontsize=18);\n",
    "plt.xlabel('aircraft model', fontsize=18);\n",
    "plt.ylabel('Number of flights', fontsize=18);"
   ]
  },
  {
   "cell_type": "code",
   "execution_count": 8,
   "metadata": {},
   "outputs": [],
   "source": [
    "def city(row):\n",
    "    if row['average_flights'] < 9.58:\n",
    "        return 'остальные'\n",
    "    else:\n",
    "        return row['city']\n",
    "    \n",
    "query_3['group_city'] = query_3.apply(city, axis = 1)   "
   ]
  },
  {
   "cell_type": "code",
   "execution_count": 9,
   "metadata": {},
   "outputs": [
    {
     "data": {
      "text/html": [
       "<div>\n",
       "<style scoped>\n",
       "    .dataframe tbody tr th:only-of-type {\n",
       "        vertical-align: middle;\n",
       "    }\n",
       "\n",
       "    .dataframe tbody tr th {\n",
       "        vertical-align: top;\n",
       "    }\n",
       "\n",
       "    .dataframe thead th {\n",
       "        text-align: right;\n",
       "    }\n",
       "</style>\n",
       "<table border=\"1\" class=\"dataframe\">\n",
       "  <thead>\n",
       "    <tr style=\"text-align: right;\">\n",
       "      <th></th>\n",
       "      <th>city</th>\n",
       "      <th>average_flights</th>\n",
       "      <th>group_city</th>\n",
       "    </tr>\n",
       "  </thead>\n",
       "  <tbody>\n",
       "    <tr>\n",
       "      <td>0</td>\n",
       "      <td>Абакан</td>\n",
       "      <td>3.870968</td>\n",
       "      <td>остальные</td>\n",
       "    </tr>\n",
       "    <tr>\n",
       "      <td>1</td>\n",
       "      <td>Анадырь</td>\n",
       "      <td>1.000000</td>\n",
       "      <td>остальные</td>\n",
       "    </tr>\n",
       "    <tr>\n",
       "      <td>2</td>\n",
       "      <td>Анапа</td>\n",
       "      <td>2.161290</td>\n",
       "      <td>остальные</td>\n",
       "    </tr>\n",
       "    <tr>\n",
       "      <td>3</td>\n",
       "      <td>Архангельск</td>\n",
       "      <td>5.354839</td>\n",
       "      <td>остальные</td>\n",
       "    </tr>\n",
       "    <tr>\n",
       "      <td>4</td>\n",
       "      <td>Астрахань</td>\n",
       "      <td>2.451613</td>\n",
       "      <td>остальные</td>\n",
       "    </tr>\n",
       "  </tbody>\n",
       "</table>\n",
       "</div>"
      ],
      "text/plain": [
       "          city  average_flights group_city\n",
       "0       Абакан         3.870968  остальные\n",
       "1      Анадырь         1.000000  остальные\n",
       "2        Анапа         2.161290  остальные\n",
       "3  Архангельск         5.354839  остальные\n",
       "4    Астрахань         2.451613  остальные"
      ]
     },
     "execution_count": 9,
     "metadata": {},
     "output_type": "execute_result"
    }
   ],
   "source": [
    "query_3.head()"
   ]
  },
  {
   "cell_type": "code",
   "execution_count": 10,
   "metadata": {},
   "outputs": [
    {
     "data": {
      "text/html": [
       "<div>\n",
       "<style scoped>\n",
       "    .dataframe tbody tr th:only-of-type {\n",
       "        vertical-align: middle;\n",
       "    }\n",
       "\n",
       "    .dataframe tbody tr th {\n",
       "        vertical-align: top;\n",
       "    }\n",
       "\n",
       "    .dataframe thead th {\n",
       "        text-align: right;\n",
       "    }\n",
       "</style>\n",
       "<table border=\"1\" class=\"dataframe\">\n",
       "  <thead>\n",
       "    <tr style=\"text-align: right;\">\n",
       "      <th></th>\n",
       "      <th>average_flights</th>\n",
       "    </tr>\n",
       "    <tr>\n",
       "      <th>group_city</th>\n",
       "      <th></th>\n",
       "    </tr>\n",
       "  </thead>\n",
       "  <tbody>\n",
       "    <tr>\n",
       "      <td>Брянск</td>\n",
       "      <td>10.000000</td>\n",
       "    </tr>\n",
       "    <tr>\n",
       "      <td>Екатеринбург</td>\n",
       "      <td>11.322581</td>\n",
       "    </tr>\n",
       "    <tr>\n",
       "      <td>Красноярск</td>\n",
       "      <td>11.580645</td>\n",
       "    </tr>\n",
       "    <tr>\n",
       "      <td>Москва</td>\n",
       "      <td>129.774194</td>\n",
       "    </tr>\n",
       "    <tr>\n",
       "      <td>Новосибирск</td>\n",
       "      <td>17.322581</td>\n",
       "    </tr>\n",
       "  </tbody>\n",
       "</table>\n",
       "</div>"
      ],
      "text/plain": [
       "              average_flights\n",
       "group_city                   \n",
       "Брянск              10.000000\n",
       "Екатеринбург        11.322581\n",
       "Красноярск          11.580645\n",
       "Москва             129.774194\n",
       "Новосибирск         17.322581"
      ]
     },
     "execution_count": 10,
     "metadata": {},
     "output_type": "execute_result"
    }
   ],
   "source": [
    "pivot_table = query_3.pivot_table(index = 'group_city', values = 'average_flights', aggfunc = 'median')\n",
    "pivot_table.head()"
   ]
  },
  {
   "cell_type": "code",
   "execution_count": 11,
   "metadata": {},
   "outputs": [
    {
     "data": {
      "image/png": "[encoded data removed]",
      "text/plain": [
       "<Figure size 1296x432 with 1 Axes>"
      ]
     },
     "metadata": {
      "needs_background": "light"
     },
     "output_type": "display_data"
    }
   ],
   "source": [
    "pivot_table.sort_values(by = 'average_flights', ascending = False).plot(\n",
    "    kind = 'bar', \n",
    "    grid = True,\n",
    "    figsize = (18,6),\n",
    "    title = 'Number of flights by city',\n",
    "    fontsize=18);\n",
    "plt.xlabel('city', fontsize=18);\n",
    "plt.ylabel('Number of flights', fontsize=18);"
   ]
  },
  {
   "cell_type": "code",
   "execution_count": 12,
   "metadata": {},
   "outputs": [
    {
     "data": {
      "image/png": "[encoded data removed]",
      "text/plain": [
       "<Figure size 1296x432 with 1 Axes>"
      ]
     },
     "metadata": {
      "needs_background": "light"
     },
     "output_type": "display_data"
    }
   ],
   "source": [
    "query_3.sort_values(by = 'average_flights', ascending = False).head(10).plot(\n",
    "    kind = 'bar', \n",
    "    x = 'city',\n",
    "    grid = True,\n",
    "    figsize = (18,6),\n",
    "    title = 'Number of flights by city',\n",
    "    fontsize=18);\n",
    "plt.xlabel('city', fontsize=18);\n",
    "plt.ylabel('Number of flights', fontsize=18);"
   ]
  },
  {
   "cell_type": "markdown",
   "metadata": {},
   "source": [
    "## Conclusions\n",
    "<a id='Выводы'></a>"
   ]
  },
  {
   "cell_type": "markdown",
   "metadata": {},
   "source": [
    "The available datasets query_1 (aircraft model and number of flights) and query_3 (city and average number of flights) contain information of the correct type:\n",
    "\n",
    "1. Airplane model records - string data type\n",
    "2. Number of flights - integer data type\n",
    "3. City - string data type\n",
    "4. Average Flights - Floating Point Data Type\n",
    "\n",
    "**No gaps, columns are spelled correctly (lower case, no spaces).**\n",
    "\n",
    "The airline's fleet consists of 8 aircraft models (arranged in descending order of the number of flights):\n",
    "- Cessna 208 Caravan - 4557 flights\n",
    "- Bombardier CRJ-200 - 4446 flights\n",
    "- Sukhoi SuperJet-100 - 4185 flights\n",
    "- Airbus A321-200 - 960 flights\n",
    "- Boeing 737-300 - 630 flights\n",
    "- Airbus A319-100 - 607 flights\n",
    "- Boeing 767-300 - 600 flights\n",
    "- Boeing 777-300 - 300 flights\n",
    "\n",
    "**The first three aircraft models make a much larger number of flights, therefore the airline's fleet mainly consists of: Cessna 208 Caravan, Bombardier CRJ-200, Sukhoi SuperJet-100**\n",
    "\n",
    "\n",
    "Top 10 cities by the number of flights per day (rounded to the nearest whole number):\n",
    "- Moscow - 130 flights per day\n",
    "- St. Petersburg - 31 flights per day\n",
    "- Novosibirsk - 17 flights per day\n",
    "- Krasnoyarsk - 12 flights per day\n",
    "- Yekaterinburg - 11 flights per day\n",
    "- Rostov-on-Don - 10 flights per day\n",
    "- Perm - 10 flights per day\n",
    "- Bryansk - 10 flights per day\n",
    "- Sochi - 10 flights per day\n",
    "- Ulyanovsk - 10 flights per day\n",
    "\n",
    "**Moscow is a strong leader in terms of the number of flights per day - 130 flights per day, without information on the airport capacity it is impossible to tell about the congestion of Moscow airports, most likely - they are heavily loaded. This is followed by St. Petersburg - 31 flights per day and Novosibirsk - 17 flights per day. In other cities no more than 10 times a day.**"
   ]
  }
 ],
 "metadata": {
  "kernelspec": {
   "display_name": "Python 3",
   "language": "python",
   "name": "python3"
  },
  "language_info": {
   "codemirror_mode": {
    "name": "ipython",
    "version": 3
   },
   "file_extension": ".py",
   "mimetype": "text/x-python",
   "name": "python",
   "nbconvert_exporter": "python",
   "pygments_lexer": "ipython3",
   "version": "3.7.8"
  }
 },
 "nbformat": 4,
 "nbformat_minor": 2
}
